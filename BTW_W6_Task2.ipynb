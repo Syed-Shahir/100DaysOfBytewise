{
 "cells": [
  {
   "cell_type": "markdown",
   "id": "f77f2639-51fb-4379-ac34-28dc78662e86",
   "metadata": {},
   "source": [
    "### Task # 12:\n",
    "- This is task # 12 overall, and task 2 of Week 6\n",
    "#### Task # 02:"
   ]
  },
  {
   "cell_type": "markdown",
   "id": "b7716f02-f141-41f4-a95b-3197edf3648b",
   "metadata": {},
   "source": [
    "**The tasks and their solution will be added soon inshAllah**"
   ]
  },
  {
   "cell_type": "code",
   "execution_count": null,
   "id": "3bbad4fb-6bdd-4c11-bde2-148c8505d1fb",
   "metadata": {},
   "outputs": [],
   "source": []
  }
 ],
 "metadata": {
  "kernelspec": {
   "display_name": "Python 3 (ipykernel)",
   "language": "python",
   "name": "python3"
  },
  "language_info": {
   "codemirror_mode": {
    "name": "ipython",
    "version": 3
   },
   "file_extension": ".py",
   "mimetype": "text/x-python",
   "name": "python",
   "nbconvert_exporter": "python",
   "pygments_lexer": "ipython3",
   "version": "3.11.9"
  }
 },
 "nbformat": 4,
 "nbformat_minor": 5
}
