{
 "cells": [
  {
   "cell_type": "markdown",
   "id": "caa554e1-bb83-4622-a300-42a9f3ad0ecd",
   "metadata": {},
   "source": [
    "### Task 4"
   ]
  },
  {
   "cell_type": "markdown",
   "id": "e6c15ed0-d829-4290-98d2-c2f80c455169",
   "metadata": {},
   "source": [
    "Task # 01: QuickSort Algorithm\r",
    "-  Write a program to implement the QuickSort algorithm"
   ]
  },
  {
   "cell_type": "code",
   "execution_count": 2,
   "id": "3062ab99-6b06-49c8-9471-6c40fe98292f",
   "metadata": {},
   "outputs": [
    {
     "name": "stdout",
     "output_type": "stream",
     "text": [
      "Sorted array: [1, 1, 2, 3, 6, 8, 10]\n"
     ]
    }
   ],
   "source": [
    "def quicksort(arr):\n",
    "    if len(arr) <= 1:\n",
    "        return arr\n",
    "    pivot = arr[len(arr) // 2]\n",
    "    left = [x for x in arr if x < pivot]\n",
    "    middle = [x for x in arr if x == pivot]\n",
    "    right = [x for x in arr if x > pivot]\n",
    "    return quicksort(left) + middle + quicksort(right)\n",
    "\n",
    "\n",
    "input_array = [3, 6, 8, 10, 1, 2, 1]\n",
    "sorted_array = quicksort(input_array)\n",
    "print(\"Sorted array:\", sorted_array) \n"
   ]
  },
  {
   "cell_type": "markdown",
   "id": "e20c9644-41c3-4597-9bd0-be294e94f862",
   "metadata": {},
   "source": [
    "Task # 02:Knapsack Problem\r",
    "-  Write a program to solve the 0/1 Knapsack Problem using dynamic programming"
   ]
  },
  {
   "cell_type": "markdown",
   "id": "d83fa291-1cab-4c12-b95e-0de80f1246df",
   "metadata": {},
   "source": [
    "### 0/1 Knapsack Problem\n",
    "The 0/1 Knapsack problem can be defined as follows:\n",
    "\n",
    "We are given N items where each item has some weight (wi) and value (vi) associated with it. We are also given a bag with capacity W. The target is to put the items into the bag such that the sum of values associated with them is the maximum possible.\n",
    "\n",
    "Note that here we can either put an item completely into the bag or cannot put it at all.\n",
    "- check out these articles from Geeks For Geeks\n",
    "[link1](https://www.geeksforgeeks.org/introduction-to-knapsack-problem-its-types-and-how-to-solve-them/)\n",
    "[link2](https://www.geeksforgeeks.org/0-1-knapsack-problem-dp-10/)"
   ]
  },
  {
   "cell_type": "code",
   "execution_count": 3,
   "id": "35738024-8b4c-489f-9af7-8478edc2568d",
   "metadata": {},
   "outputs": [
    {
     "name": "stdout",
     "output_type": "stream",
     "text": [
      "Maximum value in knapsack: 9\n"
     ]
    }
   ],
   "source": [
    "def knapsack(weights, values, capacity):\n",
    "    n = len(weights)\n",
    "    dp = [[0 for _ in range(capacity + 1)] for _ in range(n + 1)]\n",
    "\n",
    "    for i in range(1, n + 1):\n",
    "        for w in range(1, capacity + 1):\n",
    "            if weights[i-1] <= w:\n",
    "                dp[i][w] = max(dp[i-1][w], dp[i-1][w-weights[i-1]] + values[i-1])\n",
    "            else:\n",
    "                dp[i][w] = dp[i-1][w]\n",
    "\n",
    "    return dp[n][capacity]\n",
    "\n",
    "\n",
    "weights = [1, 3, 4, 5]\n",
    "values = [1, 4, 5, 7]\n",
    "capacity = 7\n",
    "max_value = knapsack(weights, values, capacity)\n",
    "print(\"Maximum value in knapsack:\", max_value)  \n"
   ]
  },
  {
   "cell_type": "markdown",
   "id": "f80e9b38-291f-471b-967f-09ac258c3b9d",
   "metadata": {},
   "source": [
    "Task # 03: Graph Traversal (BFS and DFS)\n",
    "- Implement Breadth-First Search (BFS) and Depth-First Search (DFS) for graph\n",
    "traversal.\n",
    "- Expected Output: If the input graph is {0: [1, 2], 1: [2], 2: [0, 3], 3: [3]}, the BFS\n",
    "starting from node 2 should return [2, 0, 3, 1], and the DFS starting from node 2\n",
    "should return [2, 0, 1, 3]."
   ]
  },
  {
   "cell_type": "code",
   "execution_count": 4,
   "id": "edfbc8d0-9aa8-4f8b-9004-ac632369886f",
   "metadata": {},
   "outputs": [
    {
     "name": "stdout",
     "output_type": "stream",
     "text": [
      "BFS traversal: [2, 0, 3, 1]\n"
     ]
    }
   ],
   "source": [
    "#BFS\n",
    "from collections import deque\n",
    "\n",
    "def bfs(graph, start):\n",
    "    visited = []\n",
    "    queue = deque([start])\n",
    "    \n",
    "    while queue:\n",
    "        vertex = queue.popleft()\n",
    "        if vertex not in visited:\n",
    "            visited.append(vertex)\n",
    "            queue.extend([neighbor for neighbor in graph[vertex] if neighbor not in visited])\n",
    "    \n",
    "    return visited\n",
    "\n",
    "\n",
    "graph = {0: [1, 2], 1: [2], 2: [0, 3], 3: [3]}\n",
    "bfs_result = bfs(graph, 2)\n",
    "print(\"BFS traversal:\", bfs_result)  \n"
   ]
  },
  {
   "cell_type": "code",
   "execution_count": 5,
   "id": "d5479d37-cd94-4d9e-b376-92859be59acf",
   "metadata": {},
   "outputs": [
    {
     "name": "stdout",
     "output_type": "stream",
     "text": [
      "DFS traversal: [2, 0, 1, 3]\n"
     ]
    }
   ],
   "source": [
    "#DFS\n",
    "def dfs(graph, start, visited=None):\n",
    "    if visited is None:\n",
    "        visited = []\n",
    "    visited.append(start)\n",
    "    \n",
    "    for neighbor in graph[start]:\n",
    "        if neighbor not in visited:\n",
    "            dfs(graph, neighbor, visited)\n",
    "    \n",
    "    return visited\n",
    "\n",
    "\n",
    "dfs_result = dfs(graph, 2)\n",
    "print(\"DFS traversal:\", dfs_result)  "
   ]
  },
  {
   "cell_type": "markdown",
   "id": "f1e03d5a-d32a-465d-9a66-26ff590c7059",
   "metadata": {},
   "source": [
    "Task # 04: Dijkstra's Algorithm\n",
    "- Write a program to implement Dijkstra's algorithm for finding the shortest path in a\n",
    "graph.\n",
    "- Expected Output: If the input graph is {'A': {'B': 1, 'C': 4}, 'B': {'C': 2, 'D': 5}, 'C':\n",
    "{'D': 1}, 'D': {}} and the starting node is A, the output should be {'A': 0, 'B': 1, 'C': 3,\n",
    "'D': 4}.\n",
    "- [Read article to get familiar](https://www.geeksforgeeks.org/introduction-to-dijkstras-shortest-path-algorithm/)"
   ]
  },
  {
   "cell_type": "code",
   "execution_count": 7,
   "id": "f4f02e68-6558-43e8-8651-24d26aee744a",
   "metadata": {},
   "outputs": [
    {
     "name": "stdout",
     "output_type": "stream",
     "text": [
      "Shortest paths: {'A': 0, 'B': 1, 'C': 3, 'D': 4}\n"
     ]
    }
   ],
   "source": [
    "#For Shortest Path\n",
    "import heapq\n",
    "\n",
    "def dijkstra(graph, start):\n",
    "    queue = [(0, start)]\n",
    "    distances = {vertex: float('infinity') for vertex in graph}\n",
    "    distances[start] = 0\n",
    "    \n",
    "    while queue:\n",
    "        current_distance, current_vertex = heapq.heappop(queue)\n",
    "        \n",
    "        if current_distance > distances[current_vertex]:\n",
    "            continue\n",
    "        \n",
    "        for neighbor, weight in graph[current_vertex].items():\n",
    "            distance = current_distance + weight\n",
    "            \n",
    "            if distance < distances[neighbor]:\n",
    "                distances[neighbor] = distance\n",
    "                heapq.heappush(queue, (distance, neighbor))\n",
    "    \n",
    "    return distances\n",
    "\n",
    "\n",
    "graph = {\n",
    "    'A': {'B': 1, 'C': 4},\n",
    "    'B': {'C': 2, 'D': 5},\n",
    "    'C': {'D': 1},\n",
    "    'D': {}\n",
    "}\n",
    "start_node = 'A'\n",
    "shortest_paths = dijkstra(graph, start_node)\n",
    "print(\"Shortest paths:\", shortest_paths) \n"
   ]
  },
  {
   "cell_type": "markdown",
   "id": "da752fe0-28ea-4367-919a-0321b02317fe",
   "metadata": {},
   "source": [
    "Task # 05: Longest Common Subsequence (LCS)\n",
    "- Write a program to find the longest common subsequence between two strings.\n",
    "- Expected Output: If the input strings are AGGTAB and GXTXAYB, the output\n",
    "should be GTAB\n",
    "- [Read this](https://www.geeksforgeeks.org/longest-common-subsequence-dp-4/)"
   ]
  },
  {
   "cell_type": "code",
   "execution_count": 10,
   "id": "e8a82731-b907-4c75-9813-9fb66243e50a",
   "metadata": {},
   "outputs": [
    {
     "name": "stdout",
     "output_type": "stream",
     "text": [
      "Longest Common Subsequence: GTAB\n"
     ]
    }
   ],
   "source": [
    "def lcs(X, Y):\n",
    "    m = len(X)\n",
    "    n = len(Y)\n",
    "    L = [[0] * (n + 1) for i in range(m + 1)]\n",
    "    \n",
    "    for i in range(m + 1):\n",
    "        for j in range(n + 1):\n",
    "            if i == 0 or j == 0:\n",
    "                L[i][j] = 0\n",
    "            elif X[i - 1] == Y[j - 1]:\n",
    "                L[i][j] = L[i - 1][j - 1] + 1\n",
    "            else:\n",
    "                L[i][j] = max(L[i - 1][j], L[i][j - 1])\n",
    "    \n",
    "    index = L[m][n]\n",
    "    lcs = [\"\"] * (index + 1)\n",
    "    lcs[index] = \"\"\n",
    "    \n",
    "    i = m\n",
    "    j = n\n",
    "    while i > 0 and j > 0:\n",
    "        if X[i - 1] == Y[j - 1]:\n",
    "            lcs[index - 1] = X[i - 1]\n",
    "            i -= 1\n",
    "            j -= 1\n",
    "            index -= 1\n",
    "        elif L[i - 1][j] > L[i][j - 1]:\n",
    "            i -= 1\n",
    "        else:\n",
    "            j -= 1\n",
    "    \n",
    "    return \"\".join(lcs)\n",
    "\n",
    "\n",
    "X = \"AGGTAB\"\n",
    "Y = \"GXTXAYB\"\n",
    "print(\"Longest Common Subsequence:\", lcs(X, Y))  \n"
   ]
  },
  {
   "cell_type": "code",
   "execution_count": null,
   "id": "da3cd739-8e2e-4ace-a826-4fc4ca162858",
   "metadata": {},
   "outputs": [],
   "source": []
  }
 ],
 "metadata": {
  "kernelspec": {
   "display_name": "Python 3 (ipykernel)",
   "language": "python",
   "name": "python3"
  },
  "language_info": {
   "codemirror_mode": {
    "name": "ipython",
    "version": 3
   },
   "file_extension": ".py",
   "mimetype": "text/x-python",
   "name": "python",
   "nbconvert_exporter": "python",
   "pygments_lexer": "ipython3",
   "version": "3.11.9"
  }
 },
 "nbformat": 4,
 "nbformat_minor": 5
}
