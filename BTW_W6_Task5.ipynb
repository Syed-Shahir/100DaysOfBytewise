{
 "cells": [
  {
   "cell_type": "markdown",
   "id": "8bc2c801-3f29-470e-97a9-2222d7c653fb",
   "metadata": {},
   "source": [
    "#### Tasks and their solutions will be added soon inshAllah"
   ]
  },
  {
   "cell_type": "code",
   "execution_count": null,
   "id": "47115727-c3f2-4422-8b7a-686ae0265074",
   "metadata": {},
   "outputs": [],
   "source": []
  }
 ],
 "metadata": {
  "kernelspec": {
   "display_name": "Python 3 (ipykernel)",
   "language": "python",
   "name": "python3"
  },
  "language_info": {
   "codemirror_mode": {
    "name": "ipython",
    "version": 3
   },
   "file_extension": ".py",
   "mimetype": "text/x-python",
   "name": "python",
   "nbconvert_exporter": "python",
   "pygments_lexer": "ipython3",
   "version": "3.11.9"
  }
 },
 "nbformat": 4,
 "nbformat_minor": 5
}
