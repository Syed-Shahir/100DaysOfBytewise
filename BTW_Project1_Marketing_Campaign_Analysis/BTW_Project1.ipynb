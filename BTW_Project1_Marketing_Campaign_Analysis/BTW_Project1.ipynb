{
 "cells": [
  {
   "cell_type": "markdown",
   "id": "3bc637fc-7f16-4afa-ac17-f939e91ff95a",
   "metadata": {},
   "source": [
    "# PROJECT 1:\n",
    "## Marketing Campaign Analysis"
   ]
  },
  {
   "cell_type": "markdown",
   "id": "c585da54-8763-4863-8b00-4aa00b64b0eb",
   "metadata": {},
   "source": [
    "## Problem Statement\r\n",
    "\r\n",
    "In this project, we will analyze a dataset to provide insights into the effectiveness of different marketing campaigns in the hospital sector. We aim to determine which marketing campaigns yield the highest return on investment (ROI) for different hospital field types. The hospital field types include Medium, Large, Small, and Private Facilities. The marketing campaigns being evaluated are Phone, Email, Flyers, and Sales Visitors (Sales Contacts).\r\n",
    "\r\n",
    "Using machine learning technques, we will identify which marketing strategies are most effective for each field type, helping to optimize marketing efforts and maximize ROI.\r\n"
   ]
  },
  {
   "cell_type": "markdown",
   "id": "fe0629db-8d5e-4f7d-b9c4-50592b591e58",
   "metadata": {},
   "source": [
    "### 1) Importing The Libraries Required"
   ]
  },
  {
   "cell_type": "code",
   "execution_count": 25,
   "id": "2ce60154-f051-49c0-8a16-c73286a642d3",
   "metadata": {},
   "outputs": [],
   "source": [
    "import pandas as pd\n",
    "import seaborn as sns\n",
    "import numpy as np\n",
    "import statsmodels.api as sm\n",
    "import statsmodels.formula.api as smf\n",
    "import matplotlib.pyplot as plt\n",
    "from io import StringIO"
   ]
  },
  {
   "cell_type": "markdown",
   "id": "ff0f67cc-e72a-43d3-9c04-0209223594c9",
   "metadata": {},
   "source": [
    "### 2) Importing The Dataset from the Local Machine"
   ]
  },
  {
   "cell_type": "code",
   "execution_count": 26,
   "id": "c2f9e731-c6aa-46ea-ab96-d2969f5d4581",
   "metadata": {},
   "outputs": [],
   "source": [
    "file_path = 'Campaign-Data.csv'\n",
    "df = pd.read_csv(file_path)"
   ]
  },
  {
   "cell_type": "markdown",
   "id": "fc3868a7-c7fd-4107-bc20-ae327dc8acb5",
   "metadata": {},
   "source": [
    "### 3) Look of Dataset"
   ]
  },
  {
   "cell_type": "code",
   "execution_count": 4,
   "id": "e90d5847-85fc-47fa-88d5-4d5d1a90eb2e",
   "metadata": {},
   "outputs": [
    {
     "data": {
      "text/html": [
       "<div>\n",
       "<style scoped>\n",
       "    .dataframe tbody tr th:only-of-type {\n",
       "        vertical-align: middle;\n",
       "    }\n",
       "\n",
       "    .dataframe tbody tr th {\n",
       "        vertical-align: top;\n",
       "    }\n",
       "\n",
       "    .dataframe thead th {\n",
       "        text-align: right;\n",
       "    }\n",
       "</style>\n",
       "<table border=\"1\" class=\"dataframe\">\n",
       "  <thead>\n",
       "    <tr style=\"text-align: right;\">\n",
       "      <th></th>\n",
       "      <th>Client ID</th>\n",
       "      <th>Client Type</th>\n",
       "      <th>Number of Customers</th>\n",
       "      <th>Montly Target</th>\n",
       "      <th>Zip Code</th>\n",
       "      <th>Calendardate</th>\n",
       "      <th>Amount Collected</th>\n",
       "      <th>Unit Sold</th>\n",
       "      <th>Campaign (Email)</th>\n",
       "      <th>Campaign (Flyer)</th>\n",
       "      <th>Campaign (Phone)</th>\n",
       "      <th>Sales Contact 1</th>\n",
       "      <th>Sales Contact 2</th>\n",
       "      <th>Sales Contact 3</th>\n",
       "      <th>Sales Contact 4</th>\n",
       "      <th>Sales Contact 5</th>\n",
       "      <th>Number of Competition</th>\n",
       "    </tr>\n",
       "  </thead>\n",
       "  <tbody>\n",
       "    <tr>\n",
       "      <th>0</th>\n",
       "      <td>ID-987275</td>\n",
       "      <td>Medium Facility</td>\n",
       "      <td>2800</td>\n",
       "      <td>125</td>\n",
       "      <td>1003</td>\n",
       "      <td>16-01-2014</td>\n",
       "      <td>0</td>\n",
       "      <td>0</td>\n",
       "      <td>0.0</td>\n",
       "      <td>0.0</td>\n",
       "      <td>0.0</td>\n",
       "      <td>0.0</td>\n",
       "      <td>0.0</td>\n",
       "      <td>0.0</td>\n",
       "      <td>0.0</td>\n",
       "      <td>0.0</td>\n",
       "      <td>Low</td>\n",
       "    </tr>\n",
       "    <tr>\n",
       "      <th>1</th>\n",
       "      <td>ID-987275</td>\n",
       "      <td>Medium Facility</td>\n",
       "      <td>2800</td>\n",
       "      <td>125</td>\n",
       "      <td>1003</td>\n",
       "      <td>16-02-2014</td>\n",
       "      <td>3409460</td>\n",
       "      <td>24</td>\n",
       "      <td>0.0</td>\n",
       "      <td>0.0</td>\n",
       "      <td>0.0</td>\n",
       "      <td>0.0</td>\n",
       "      <td>0.0</td>\n",
       "      <td>0.0</td>\n",
       "      <td>0.0</td>\n",
       "      <td>322500.0</td>\n",
       "      <td>Low</td>\n",
       "    </tr>\n",
       "    <tr>\n",
       "      <th>2</th>\n",
       "      <td>ID-987275</td>\n",
       "      <td>Medium Facility</td>\n",
       "      <td>2800</td>\n",
       "      <td>125</td>\n",
       "      <td>1003</td>\n",
       "      <td>18-03-2014</td>\n",
       "      <td>10228384</td>\n",
       "      <td>75</td>\n",
       "      <td>0.0</td>\n",
       "      <td>0.0</td>\n",
       "      <td>0.0</td>\n",
       "      <td>0.0</td>\n",
       "      <td>0.0</td>\n",
       "      <td>0.0</td>\n",
       "      <td>0.0</td>\n",
       "      <td>0.0</td>\n",
       "      <td>Low</td>\n",
       "    </tr>\n",
       "  </tbody>\n",
       "</table>\n",
       "</div>"
      ],
      "text/plain": [
       "   Client ID      Client Type  Number of Customers  Montly Target  Zip Code  \\\n",
       "0  ID-987275  Medium Facility                 2800            125      1003   \n",
       "1  ID-987275  Medium Facility                 2800            125      1003   \n",
       "2  ID-987275  Medium Facility                 2800            125      1003   \n",
       "\n",
       "  Calendardate  Amount Collected  Unit Sold  Campaign (Email)  \\\n",
       "0   16-01-2014                 0          0               0.0   \n",
       "1   16-02-2014           3409460         24               0.0   \n",
       "2   18-03-2014          10228384         75               0.0   \n",
       "\n",
       "   Campaign (Flyer)  Campaign (Phone)  Sales Contact 1  Sales Contact 2  \\\n",
       "0               0.0               0.0              0.0              0.0   \n",
       "1               0.0               0.0              0.0              0.0   \n",
       "2               0.0               0.0              0.0              0.0   \n",
       "\n",
       "   Sales Contact 3  Sales Contact 4  Sales Contact 5 Number of Competition  \n",
       "0              0.0              0.0              0.0                   Low  \n",
       "1              0.0              0.0         322500.0                   Low  \n",
       "2              0.0              0.0              0.0                   Low  "
      ]
     },
     "execution_count": 4,
     "metadata": {},
     "output_type": "execute_result"
    }
   ],
   "source": [
    "df.head(3) #printing the first 3 rows"
   ]
  },
  {
   "cell_type": "markdown",
   "id": "9c56f542-da83-4f8c-bba5-32684be26807",
   "metadata": {},
   "source": [
    "### 4) Checking The Null Values"
   ]
  },
  {
   "cell_type": "code",
   "execution_count": 27,
   "id": "d99dacb5-fee5-4e3c-8d7e-1450ff0151e7",
   "metadata": {},
   "outputs": [
    {
     "data": {
      "text/plain": [
       "Client ID                0\n",
       "Client Type              0\n",
       "Number of Customers      0\n",
       "Montly Target            0\n",
       "Zip Code                 0\n",
       "Calendardate             0\n",
       "Amount Collected         0\n",
       "Unit Sold                0\n",
       "Campaign (Email)         0\n",
       "Campaign (Flyer)         0\n",
       "Campaign (Phone)         0\n",
       "Sales Contact 1          0\n",
       "Sales Contact 2          0\n",
       "Sales Contact 3          0\n",
       "Sales Contact 4          0\n",
       "Sales Contact 5          0\n",
       "Number of Competition    0\n",
       "dtype: int64"
      ]
     },
     "execution_count": 27,
     "metadata": {},
     "output_type": "execute_result"
    }
   ],
   "source": [
    "df.isnull().sum()"
   ]
  },
  {
   "cell_type": "markdown",
   "id": "60f96a37-1d22-442c-8d70-824679bb793d",
   "metadata": {},
   "source": [
    "- No Null values in the dataset exist now we will have a look at the data types of dataset"
   ]
  },
  {
   "cell_type": "code",
   "execution_count": 28,
   "id": "57b3af59-de01-48ab-b2b0-c2d58a6ef036",
   "metadata": {},
   "outputs": [
    {
     "data": {
      "text/plain": [
       "Client ID                 object\n",
       "Client Type               object\n",
       "Number of Customers        int64\n",
       "Montly Target              int64\n",
       "Zip Code                   int64\n",
       "Calendardate              object\n",
       "Amount Collected           int64\n",
       "Unit Sold                  int64\n",
       "Campaign (Email)         float64\n",
       "Campaign (Flyer)         float64\n",
       "Campaign (Phone)         float64\n",
       "Sales Contact 1          float64\n",
       "Sales Contact 2          float64\n",
       "Sales Contact 3          float64\n",
       "Sales Contact 4          float64\n",
       "Sales Contact 5          float64\n",
       "Number of Competition     object\n",
       "dtype: object"
      ]
     },
     "execution_count": 28,
     "metadata": {},
     "output_type": "execute_result"
    }
   ],
   "source": [
    "df.dtypes"
   ]
  },
  {
   "cell_type": "markdown",
   "id": "37729573-c87d-406e-abe9-356654ab9b5c",
   "metadata": {},
   "source": [
    "- the data type of calendar date is in object form so we will have to convert it into a proper datetime format"
   ]
  },
  {
   "cell_type": "code",
   "execution_count": 29,
   "id": "0589a6d0-f809-4391-a7e6-d1c4f7e09c9a",
   "metadata": {},
   "outputs": [],
   "source": [
    "# Convert 'Calendardate' to datetime format\n",
    "df['Calendardate'] = pd.to_datetime(df['Calendardate'], format='%d-%m-%Y')"
   ]
  },
  {
   "cell_type": "markdown",
   "id": "74c726ca-7534-4d2e-9b94-79fa0e2d6532",
   "metadata": {},
   "source": [
    "### 5) Making Secondary Copy of Dataset with client ID dropped"
   ]
  },
  {
   "cell_type": "code",
   "execution_count": 30,
   "id": "7948006f-88b2-4e37-b820-90739456d700",
   "metadata": {},
   "outputs": [],
   "source": [
    "df1 = df.drop('Client ID', axis=1)"
   ]
  },
  {
   "cell_type": "markdown",
   "id": "b6c8f0c6-ccea-4c0e-96f6-f1069c4383a2",
   "metadata": {},
   "source": [
    "### 6) Looking at the distribution of data based on client Types"
   ]
  },
  {
   "cell_type": "code",
   "execution_count": 31,
   "id": "80f0e3b9-930e-4ca5-9cfa-dd09d4ee1b9d",
   "metadata": {},
   "outputs": [
    {
     "name": "stdout",
     "output_type": "stream",
     "text": [
      "Client Type\n",
      "Large Facility      0.459677\n",
      "Small Facility      0.282258\n",
      "Medium Facility     0.169355\n",
      "Private Facility    0.088710\n",
      "Name: proportion, dtype: float64\n"
     ]
    },
    {
     "data": {
      "image/png": "[encoded data removed]",
      "text/plain": [
       "<Figure size 800x400 with 1 Axes>"
      ]
     },
     "metadata": {},
     "output_type": "display_data"
    }
   ],
   "source": [
    "client_type_proportion = df1['Client Type'].value_counts(normalize=True)\n",
    "print(client_type_proportion)\n",
    "\n",
    "#Visulaization of the distribution\n",
    "plt.figure(figsize=(8,4))\n",
    "client_type_proportion.plot(kind='bar',edgecolor='black')\n",
    "plt.title('Proportion of Client Types')\n",
    "plt.xlabel('Client Type')\n",
    "plt.ylabel('Proportion')\n",
    "plt.show()"
   ]
  },
  {
   "cell_type": "markdown",
   "id": "6a70d69c-d871-418f-986e-4d500e2c16b9",
   "metadata": {},
   "source": [
    "### 7) Creating a Cross Table based on Number of Competition and Client Type"
   ]
  },
  {
   "cell_type": "code",
   "execution_count": 32,
   "id": "a515d0a9-c31d-460a-b906-ce966b2ff6e0",
   "metadata": {},
   "outputs": [
    {
     "data": {
      "text/html": [
       "<div>\n",
       "<style scoped>\n",
       "    .dataframe tbody tr th:only-of-type {\n",
       "        vertical-align: middle;\n",
       "    }\n",
       "\n",
       "    .dataframe tbody tr th {\n",
       "        vertical-align: top;\n",
       "    }\n",
       "\n",
       "    .dataframe thead th {\n",
       "        text-align: right;\n",
       "    }\n",
       "</style>\n",
       "<table border=\"1\" class=\"dataframe\">\n",
       "  <thead>\n",
       "    <tr style=\"text-align: right;\">\n",
       "      <th>Client Type</th>\n",
       "      <th>Large Facility</th>\n",
       "      <th>Medium Facility</th>\n",
       "      <th>Private Facility</th>\n",
       "      <th>Small Facility</th>\n",
       "      <th>All</th>\n",
       "    </tr>\n",
       "    <tr>\n",
       "      <th>Number of Competition</th>\n",
       "      <th></th>\n",
       "      <th></th>\n",
       "      <th></th>\n",
       "      <th></th>\n",
       "      <th></th>\n",
       "    </tr>\n",
       "  </thead>\n",
       "  <tbody>\n",
       "    <tr>\n",
       "      <th>High</th>\n",
       "      <td>0.166667</td>\n",
       "      <td>0.166667</td>\n",
       "      <td>0.166667</td>\n",
       "      <td>0.166667</td>\n",
       "      <td>0.166667</td>\n",
       "    </tr>\n",
       "    <tr>\n",
       "      <th>Low</th>\n",
       "      <td>0.833333</td>\n",
       "      <td>0.833333</td>\n",
       "      <td>0.833333</td>\n",
       "      <td>0.833333</td>\n",
       "      <td>0.833333</td>\n",
       "    </tr>\n",
       "  </tbody>\n",
       "</table>\n",
       "</div>"
      ],
      "text/plain": [
       "Client Type            Large Facility   Medium Facility  Private Facility  \\\n",
       "Number of Competition                                                       \n",
       "High                          0.166667         0.166667          0.166667   \n",
       "Low                           0.833333         0.833333          0.833333   \n",
       "\n",
       "Client Type            Small Facility        All  \n",
       "Number of Competition                             \n",
       "High                          0.166667  0.166667  \n",
       "Low                           0.833333  0.833333  "
      ]
     },
     "execution_count": 32,
     "metadata": {},
     "output_type": "execute_result"
    }
   ],
   "source": [
    "pd.crosstab(df1['Number of Competition'], df1['Client Type'], margins=True, normalize='columns')"
   ]
  },
  {
   "cell_type": "markdown",
   "id": "a280b3a8-c7de-41a8-889a-76243e2c0e7c",
   "metadata": {},
   "source": [
    "- The cross-tabulation table shows the distribution of Client Type by Number of Competition. The table reveals that:\n",
    "- \r\n",
    "Across all Client Type categories, the majority (83.33%) have a low number of competition, while a smaller proportion (16.67%) have a high number of competition"
   ]
  },
  {
   "cell_type": "markdown",
   "id": "45129673-35f9-4ff2-9183-d21c3b652985",
   "metadata": {},
   "source": [
    "### 8) A look at the Means"
   ]
  },
  {
   "cell_type": "code",
   "execution_count": 33,
   "id": "0c76351f-7755-47e9-867c-6a18c4bb184b",
   "metadata": {},
   "outputs": [
    {
     "data": {
      "text/html": [
       "<div>\n",
       "<style scoped>\n",
       "    .dataframe tbody tr th:only-of-type {\n",
       "        vertical-align: middle;\n",
       "    }\n",
       "\n",
       "    .dataframe tbody tr th {\n",
       "        vertical-align: top;\n",
       "    }\n",
       "\n",
       "    .dataframe thead th {\n",
       "        text-align: right;\n",
       "    }\n",
       "</style>\n",
       "<table border=\"1\" class=\"dataframe\">\n",
       "  <thead>\n",
       "    <tr style=\"text-align: right;\">\n",
       "      <th>Client Type</th>\n",
       "      <th>Large Facility</th>\n",
       "      <th>Medium Facility</th>\n",
       "      <th>Private Facility</th>\n",
       "      <th>Small Facility</th>\n",
       "    </tr>\n",
       "  </thead>\n",
       "  <tbody>\n",
       "    <tr>\n",
       "      <th>Number of Customers</th>\n",
       "      <td>1.380842e+03</td>\n",
       "      <td>3.940762e+03</td>\n",
       "      <td>4.007273e+02</td>\n",
       "      <td>4.225143e+02</td>\n",
       "    </tr>\n",
       "    <tr>\n",
       "      <th>Montly Target</th>\n",
       "      <td>7.157895e+01</td>\n",
       "      <td>2.028571e+02</td>\n",
       "      <td>2.045455e+01</td>\n",
       "      <td>2.128571e+01</td>\n",
       "    </tr>\n",
       "    <tr>\n",
       "      <th>Amount Collected</th>\n",
       "      <td>1.999880e+07</td>\n",
       "      <td>4.075997e+07</td>\n",
       "      <td>5.030246e+06</td>\n",
       "      <td>1.637759e+06</td>\n",
       "    </tr>\n",
       "    <tr>\n",
       "      <th>Unit Sold</th>\n",
       "      <td>1.430987e+02</td>\n",
       "      <td>2.905833e+02</td>\n",
       "      <td>3.578409e+01</td>\n",
       "      <td>1.168929e+01</td>\n",
       "    </tr>\n",
       "    <tr>\n",
       "      <th>Campaign (Email)</th>\n",
       "      <td>1.422736e+05</td>\n",
       "      <td>4.372171e+05</td>\n",
       "      <td>5.183715e+03</td>\n",
       "      <td>1.197599e+04</td>\n",
       "    </tr>\n",
       "    <tr>\n",
       "      <th>Campaign (Flyer)</th>\n",
       "      <td>8.192056e+05</td>\n",
       "      <td>1.552603e+06</td>\n",
       "      <td>2.272919e+05</td>\n",
       "      <td>9.120875e+04</td>\n",
       "    </tr>\n",
       "    <tr>\n",
       "      <th>Campaign (Phone)</th>\n",
       "      <td>4.559544e+04</td>\n",
       "      <td>4.917685e+04</td>\n",
       "      <td>5.522470e+03</td>\n",
       "      <td>0.000000e+00</td>\n",
       "    </tr>\n",
       "    <tr>\n",
       "      <th>Sales Contact 1</th>\n",
       "      <td>1.336678e+05</td>\n",
       "      <td>3.986458e+05</td>\n",
       "      <td>1.221591e+03</td>\n",
       "      <td>8.062500e+03</td>\n",
       "    </tr>\n",
       "    <tr>\n",
       "      <th>Sales Contact 2</th>\n",
       "      <td>2.034013e+06</td>\n",
       "      <td>4.822783e+06</td>\n",
       "      <td>6.376705e+05</td>\n",
       "      <td>7.617143e+05</td>\n",
       "    </tr>\n",
       "    <tr>\n",
       "      <th>Sales Contact 3</th>\n",
       "      <td>2.017039e+06</td>\n",
       "      <td>4.698646e+06</td>\n",
       "      <td>4.434375e+05</td>\n",
       "      <td>3.727946e+05</td>\n",
       "    </tr>\n",
       "    <tr>\n",
       "      <th>Sales Contact 4</th>\n",
       "      <td>1.192873e+05</td>\n",
       "      <td>8.510417e+04</td>\n",
       "      <td>3.664773e+03</td>\n",
       "      <td>4.223214e+03</td>\n",
       "    </tr>\n",
       "    <tr>\n",
       "      <th>Sales Contact 5</th>\n",
       "      <td>1.626645e+04</td>\n",
       "      <td>3.327381e+04</td>\n",
       "      <td>1.221591e+04</td>\n",
       "      <td>1.535714e+03</td>\n",
       "    </tr>\n",
       "  </tbody>\n",
       "</table>\n",
       "</div>"
      ],
      "text/plain": [
       "Client Type          Large Facility   Medium Facility  Private Facility  \\\n",
       "Number of Customers     1.380842e+03     3.940762e+03      4.007273e+02   \n",
       "Montly Target           7.157895e+01     2.028571e+02      2.045455e+01   \n",
       "Amount Collected        1.999880e+07     4.075997e+07      5.030246e+06   \n",
       "Unit Sold               1.430987e+02     2.905833e+02      3.578409e+01   \n",
       "Campaign (Email)        1.422736e+05     4.372171e+05      5.183715e+03   \n",
       "Campaign (Flyer)        8.192056e+05     1.552603e+06      2.272919e+05   \n",
       "Campaign (Phone)        4.559544e+04     4.917685e+04      5.522470e+03   \n",
       "Sales Contact 1         1.336678e+05     3.986458e+05      1.221591e+03   \n",
       "Sales Contact 2         2.034013e+06     4.822783e+06      6.376705e+05   \n",
       "Sales Contact 3         2.017039e+06     4.698646e+06      4.434375e+05   \n",
       "Sales Contact 4         1.192873e+05     8.510417e+04      3.664773e+03   \n",
       "Sales Contact 5         1.626645e+04     3.327381e+04      1.221591e+04   \n",
       "\n",
       "Client Type          Small Facility   \n",
       "Number of Customers     4.225143e+02  \n",
       "Montly Target           2.128571e+01  \n",
       "Amount Collected        1.637759e+06  \n",
       "Unit Sold               1.168929e+01  \n",
       "Campaign (Email)        1.197599e+04  \n",
       "Campaign (Flyer)        9.120875e+04  \n",
       "Campaign (Phone)        0.000000e+00  \n",
       "Sales Contact 1         8.062500e+03  \n",
       "Sales Contact 2         7.617143e+05  \n",
       "Sales Contact 3         3.727946e+05  \n",
       "Sales Contact 4         4.223214e+03  \n",
       "Sales Contact 5         1.535714e+03  "
      ]
     },
     "execution_count": 33,
     "metadata": {},
     "output_type": "execute_result"
    }
   ],
   "source": [
    "df1.drop(['Number of Competition','Zip Code','Calendardate'],axis = 1).groupby(by='Client Type').mean().T"
   ]
  },
  {
   "cell_type": "code",
   "execution_count": 34,
   "id": "b1bd2b5e-bfb9-413b-85f1-88cabb2c3d2b",
   "metadata": {},
   "outputs": [
    {
     "data": {
      "text/html": [
       "<div>\n",
       "<style scoped>\n",
       "    .dataframe tbody tr th:only-of-type {\n",
       "        vertical-align: middle;\n",
       "    }\n",
       "\n",
       "    .dataframe tbody tr th {\n",
       "        vertical-align: top;\n",
       "    }\n",
       "\n",
       "    .dataframe thead th {\n",
       "        text-align: right;\n",
       "    }\n",
       "</style>\n",
       "<table border=\"1\" class=\"dataframe\">\n",
       "  <thead>\n",
       "    <tr style=\"text-align: right;\">\n",
       "      <th>Number of Competition</th>\n",
       "      <th>High</th>\n",
       "      <th>Low</th>\n",
       "    </tr>\n",
       "  </thead>\n",
       "  <tbody>\n",
       "    <tr>\n",
       "      <th>Number of Customers</th>\n",
       "      <td>1.456935e+03</td>\n",
       "      <td>1.456935e+03</td>\n",
       "    </tr>\n",
       "    <tr>\n",
       "      <th>Montly Target</th>\n",
       "      <td>7.508065e+01</td>\n",
       "      <td>7.508065e+01</td>\n",
       "    </tr>\n",
       "    <tr>\n",
       "      <th>Amount Collected</th>\n",
       "      <td>2.974789e+07</td>\n",
       "      <td>1.445570e+07</td>\n",
       "    </tr>\n",
       "    <tr>\n",
       "      <th>Unit Sold</th>\n",
       "      <td>2.131270e+02</td>\n",
       "      <td>1.031323e+02</td>\n",
       "    </tr>\n",
       "    <tr>\n",
       "      <th>Campaign (Email)</th>\n",
       "      <td>1.053989e+05</td>\n",
       "      <td>1.508622e+05</td>\n",
       "    </tr>\n",
       "    <tr>\n",
       "      <th>Campaign (Flyer)</th>\n",
       "      <td>9.940467e+05</td>\n",
       "      <td>6.236930e+05</td>\n",
       "    </tr>\n",
       "    <tr>\n",
       "      <th>Campaign (Phone)</th>\n",
       "      <td>4.519804e+04</td>\n",
       "      <td>2.669330e+04</td>\n",
       "    </tr>\n",
       "    <tr>\n",
       "      <th>Sales Contact 1</th>\n",
       "      <td>1.469456e+05</td>\n",
       "      <td>1.282198e+05</td>\n",
       "    </tr>\n",
       "    <tr>\n",
       "      <th>Sales Contact 2</th>\n",
       "      <td>2.685333e+06</td>\n",
       "      <td>1.890916e+06</td>\n",
       "    </tr>\n",
       "    <tr>\n",
       "      <th>Sales Contact 3</th>\n",
       "      <td>1.786754e+06</td>\n",
       "      <td>1.883634e+06</td>\n",
       "    </tr>\n",
       "    <tr>\n",
       "      <th>Sales Contact 4</th>\n",
       "      <td>7.217238e+04</td>\n",
       "      <td>7.048185e+04</td>\n",
       "    </tr>\n",
       "    <tr>\n",
       "      <th>Sales Contact 5</th>\n",
       "      <td>8.452621e+03</td>\n",
       "      <td>1.586492e+04</td>\n",
       "    </tr>\n",
       "  </tbody>\n",
       "</table>\n",
       "</div>"
      ],
      "text/plain": [
       "Number of Competition          High           Low\n",
       "Number of Customers    1.456935e+03  1.456935e+03\n",
       "Montly Target          7.508065e+01  7.508065e+01\n",
       "Amount Collected       2.974789e+07  1.445570e+07\n",
       "Unit Sold              2.131270e+02  1.031323e+02\n",
       "Campaign (Email)       1.053989e+05  1.508622e+05\n",
       "Campaign (Flyer)       9.940467e+05  6.236930e+05\n",
       "Campaign (Phone)       4.519804e+04  2.669330e+04\n",
       "Sales Contact 1        1.469456e+05  1.282198e+05\n",
       "Sales Contact 2        2.685333e+06  1.890916e+06\n",
       "Sales Contact 3        1.786754e+06  1.883634e+06\n",
       "Sales Contact 4        7.217238e+04  7.048185e+04\n",
       "Sales Contact 5        8.452621e+03  1.586492e+04"
      ]
     },
     "execution_count": 34,
     "metadata": {},
     "output_type": "execute_result"
    }
   ],
   "source": [
    "df1.drop(['Client Type','Zip Code','Calendardate'],axis = 1).groupby(by='Number of Competition').mean().T"
   ]
  },
  {
   "cell_type": "markdown",
   "id": "1dc1ae45-467b-4af5-bf77-015a7d6fab05",
   "metadata": {},
   "source": [
    "### 9) Updating Column Names For easy use"
   ]
  },
  {
   "cell_type": "code",
   "execution_count": 35,
   "id": "0c312159-b541-4770-ab66-6766b5ae36cc",
   "metadata": {},
   "outputs": [],
   "source": [
    "# Update column names\n",
    "df1.columns = [col.replace(\" \", \"_\").replace(\"(\", \"\").replace(\")\", \"\") for col in df1.columns]"
   ]
  },
  {
   "cell_type": "markdown",
   "id": "c9c93f75-3f44-48ee-997e-d6050c46a479",
   "metadata": {},
   "source": [
    "### 10) Correlation Analysis"
   ]
  },
  {
   "cell_type": "code",
   "execution_count": 36,
   "id": "fb015c38-6ba5-447b-93fe-fe7060dfe846",
   "metadata": {},
   "outputs": [
    {
     "data": {
      "text/html": [
       "<style type=\"text/css\">\n",
       "#T_bb6a5_row0_col1 {\n",
       "  background-color: #ffa500;\n",
       "  color: #000000;\n",
       "}\n",
       "#T_bb6a5_row1_col1 {\n",
       "  background-color: #fcb532;\n",
       "  color: #000000;\n",
       "}\n",
       "#T_bb6a5_row2_col1 {\n",
       "  background-color: #fac15a;\n",
       "  color: #000000;\n",
       "}\n",
       "#T_bb6a5_row3_col1 {\n",
       "  background-color: #f9cd7e;\n",
       "  color: #000000;\n",
       "}\n",
       "#T_bb6a5_row4_col1 {\n",
       "  background-color: #f8d18c;\n",
       "  color: #000000;\n",
       "}\n",
       "#T_bb6a5_row5_col1 {\n",
       "  background-color: #f8d392;\n",
       "  color: #000000;\n",
       "}\n",
       "#T_bb6a5_row6_col1 {\n",
       "  background-color: #f4e7d2;\n",
       "  color: #000000;\n",
       "}\n",
       "#T_bb6a5_row7_col1 {\n",
       "  background-color: #f3f0ee;\n",
       "  color: #000000;\n",
       "}\n",
       "</style>\n",
       "<table id=\"T_bb6a5\">\n",
       "  <thead>\n",
       "    <tr>\n",
       "      <th class=\"blank level0\" >&nbsp;</th>\n",
       "      <th id=\"T_bb6a5_level0_col0\" class=\"col_heading level0 col0\" >Impacting_Variable</th>\n",
       "      <th id=\"T_bb6a5_level0_col1\" class=\"col_heading level0 col1\" >Degree_of_Linear_Impact_(Correlation)</th>\n",
       "    </tr>\n",
       "  </thead>\n",
       "  <tbody>\n",
       "    <tr>\n",
       "      <th id=\"T_bb6a5_level0_row0\" class=\"row_heading level0 row0\" >5</th>\n",
       "      <td id=\"T_bb6a5_row0_col0\" class=\"data row0 col0\" >Sales_Contact_2</td>\n",
       "      <td id=\"T_bb6a5_row0_col1\" class=\"data row0 col1\" >0.5521</td>\n",
       "    </tr>\n",
       "    <tr>\n",
       "      <th id=\"T_bb6a5_level0_row1\" class=\"row_heading level0 row1\" >2</th>\n",
       "      <td id=\"T_bb6a5_row1_col0\" class=\"data row1 col0\" >Campaign_Flyer</td>\n",
       "      <td id=\"T_bb6a5_row1_col1\" class=\"data row1 col1\" >0.4443</td>\n",
       "    </tr>\n",
       "    <tr>\n",
       "      <th id=\"T_bb6a5_level0_row2\" class=\"row_heading level0 row2\" >6</th>\n",
       "      <td id=\"T_bb6a5_row2_col0\" class=\"data row2 col0\" >Sales_Contact_3</td>\n",
       "      <td id=\"T_bb6a5_row2_col1\" class=\"data row2 col1\" >0.3579</td>\n",
       "    </tr>\n",
       "    <tr>\n",
       "      <th id=\"T_bb6a5_level0_row3\" class=\"row_heading level0 row3\" >4</th>\n",
       "      <td id=\"T_bb6a5_row3_col0\" class=\"data row3 col0\" >Sales_Contact_1</td>\n",
       "      <td id=\"T_bb6a5_row3_col1\" class=\"data row3 col1\" >0.2775</td>\n",
       "    </tr>\n",
       "    <tr>\n",
       "      <th id=\"T_bb6a5_level0_row4\" class=\"row_heading level0 row4\" >1</th>\n",
       "      <td id=\"T_bb6a5_row4_col0\" class=\"data row4 col0\" >Campaign_Email</td>\n",
       "      <td id=\"T_bb6a5_row4_col1\" class=\"data row4 col1\" >0.2482</td>\n",
       "    </tr>\n",
       "    <tr>\n",
       "      <th id=\"T_bb6a5_level0_row5\" class=\"row_heading level0 row5\" >7</th>\n",
       "      <td id=\"T_bb6a5_row5_col0\" class=\"data row5 col0\" >Sales_Contact_4</td>\n",
       "      <td id=\"T_bb6a5_row5_col1\" class=\"data row5 col1\" >0.2362</td>\n",
       "    </tr>\n",
       "    <tr>\n",
       "      <th id=\"T_bb6a5_level0_row6\" class=\"row_heading level0 row6\" >8</th>\n",
       "      <td id=\"T_bb6a5_row6_col0\" class=\"data row6 col0\" >Sales_Contact_5</td>\n",
       "      <td id=\"T_bb6a5_row6_col1\" class=\"data row6 col1\" >0.0958</td>\n",
       "    </tr>\n",
       "    <tr>\n",
       "      <th id=\"T_bb6a5_level0_row7\" class=\"row_heading level0 row7\" >3</th>\n",
       "      <td id=\"T_bb6a5_row7_col0\" class=\"data row7 col0\" >Campaign_Phone</td>\n",
       "      <td id=\"T_bb6a5_row7_col1\" class=\"data row7 col1\" >0.0349</td>\n",
       "    </tr>\n",
       "  </tbody>\n",
       "</table>\n"
      ],
      "text/plain": [
       "<pandas.io.formats.style.Styler at 0x22171b08650>"
      ]
     },
     "execution_count": 36,
     "metadata": {},
     "output_type": "execute_result"
    }
   ],
   "source": [
    "# Correlation analysis\n",
    "correlation_analysis = pd.DataFrame(df1[['Amount_Collected', 'Campaign_Email', 'Campaign_Flyer', 'Campaign_Phone',\n",
    "                                         'Sales_Contact_1', 'Sales_Contact_2', 'Sales_Contact_3', 'Sales_Contact_4',\n",
    "                                         'Sales_Contact_5']].corr()['Amount_Collected']).reset_index()\n",
    "correlation_analysis.columns = ['Impacting_Variable', 'Degree_of_Linear_Impact_(Correlation)']\n",
    "correlation_analysis = correlation_analysis[correlation_analysis['Impacting_Variable'] != 'Amount_Collected']\n",
    "correlation_analysis = correlation_analysis.sort_values('Degree_of_Linear_Impact_(Correlation)', ascending=False)\n",
    "\n",
    "# Format the correlation analysis table\n",
    "cm = sns.light_palette(\"Orange\", as_cmap=True)\n",
    "correlation_analysis.style.background_gradient(cmap=cm).format(precision=4)"
   ]
  },
  {
   "cell_type": "markdown",
   "id": "92862a82-b0bd-4c30-b7a9-fa58b0481f97",
   "metadata": {},
   "source": [
    "### 10) Market Strategy Impact on Sales(Broken By Different Account Types)"
   ]
  },
  {
   "cell_type": "code",
   "execution_count": 38,
   "id": "db92a9b3-8f37-4a26-b208-a73934fb58c0",
   "metadata": {},
   "outputs": [
    {
     "data": {
      "image/png": "[encoded data removed]",
      "text/plain": [
       "<Figure size 1700x600 with 3 Axes>"
      ]
     },
     "metadata": {},
     "output_type": "display_data"
    }
   ],
   "source": [
    "correlation_analysis = pd.DataFrame(df1.groupby(by='Client_Type')[['Amount_Collected',\n",
    "       'Campaign_Email', 'Campaign_Flyer', 'Campaign_Phone',\n",
    "       'Sales_Contact_1', 'Sales_Contact_2', 'Sales_Contact_3',\n",
    "       'Sales_Contact_4', 'Sales_Contact_5']].corr()['Amount_Collected']).reset_index()\n",
    "\n",
    "correlation_analysis.columns = ['Client_Type', 'Variable Impact on Sales', 'Impact']\n",
    "correlation_analysis = correlation_analysis[correlation_analysis['Variable Impact on Sales']!= 'Amount_Collected'].reset_index(drop=True)\n",
    "\n",
    "fig, (ax1, ax2) = plt.subplots(1, 2, figsize=(17, 6))\n",
    "\n",
    "# Bar plot\n",
    "sns.barplot(x='Impact', y='Variable Impact on Sales', hue='Client_Type', data=correlation_analysis, ax=ax1)\n",
    "ax1.set_title('Variable Impact on Sales by Client Type')\n",
    "\n",
    "# Pivot table for heatmap\n",
    "pivot_table = correlation_analysis.pivot_table(index='Client_Type', columns='Variable Impact on Sales', values='Impact')\n",
    "\n",
    "# Heatmap\n",
    "cm = sns.light_palette(\"green\", as_cmap=True)\n",
    "sns.heatmap(pivot_table, cmap=cm, annot=True, fmt=\".2f\", ax=ax2)\n",
    "ax2.set_title('Heatmap of Variable Impact on Sales by Client Type')\n",
    "\n",
    "plt.tight_layout()\n",
    "plt.show()"
   ]
  },
  {
   "cell_type": "markdown",
   "id": "f680d6a3-5ba2-40e3-b63c-5d26e57a2055",
   "metadata": {},
   "source": [
    "### 11) Regression Model"
   ]
  },
  {
   "cell_type": "markdown",
   "id": "2ccf3bf1-4500-4a94-9eba-2a5ec2ebdd35",
   "metadata": {},
   "source": [
    "#### 11.1) MLR using Scikit Learn"
   ]
  },
  {
   "cell_type": "code",
   "execution_count": 39,
   "id": "91553ba8-a4fe-48a3-9d20-a7a588ec525b",
   "metadata": {},
   "outputs": [],
   "source": [
    "# required libraries\n",
    "from sklearn.linear_model import LinearRegression\n",
    "from sklearn.model_selection import train_test_split\n",
    "\n",
    "# Spliting data into training and testing sets\n",
    "X = df1[['Campaign_Email', 'Campaign_Flyer', 'Campaign_Phone', 'Sales_Contact_1', 'Sales_Contact_2', 'Sales_Contact_3', 'Sales_Contact_4', 'Sales_Contact_5']]\n",
    "y = df1['Amount_Collected']\n",
    "X_train, X_test, y_train, y_test = train_test_split(X, y, test_size=0.2, random_state=42)\n",
    "\n",
    "# Linear regression using scikit-learn\n",
    "lr_sklearn = LinearRegression()\n",
    "lr_sklearn.fit(X_train, y_train)\n",
    "y_pred = lr_sklearn.predict(X_test)"
   ]
  },
  {
   "cell_type": "code",
   "execution_count": 18,
   "id": "8335234a-f1ad-46c7-be30-6ebe10cb8c06",
   "metadata": {},
   "outputs": [
    {
     "name": "stdout",
     "output_type": "stream",
     "text": [
      "Co efficients\n",
      "[ 0.86595412  3.29959757  0.26862487  4.9869425   3.64854696  2.45619574\n",
      " 12.45260812  3.51158274]\n"
     ]
    }
   ],
   "source": [
    "# Print coefficients from scikit-learn\n",
    "print(\"Co efficients\")\n",
    "print(lr_sklearn.coef_)\n"
   ]
  },
  {
   "cell_type": "markdown",
   "id": "088f373a-d9e3-4971-b3c8-0df1ad5539e7",
   "metadata": {},
   "source": [
    "#### 11.2) OLS using statsmodels"
   ]
  },
  {
   "cell_type": "code",
   "execution_count": 40,
   "id": "6e1d43e1-9140-4520-8c05-602b496cb171",
   "metadata": {},
   "outputs": [],
   "source": [
    "# Regression analysis using statsmodels\n",
    "results = smf.ols('Amount_Collected ~ Campaign_Email + Campaign_Flyer + Campaign_Phone + Sales_Contact_1 + '\n",
    "                  'Sales_Contact_2 + Sales_Contact_3 + Sales_Contact_4 + Sales_Contact_5', data=df1).fit()"
   ]
  },
  {
   "cell_type": "markdown",
   "id": "9f17e381-cee8-46f8-bf99-9d4660568879",
   "metadata": {},
   "source": [
    "### 12) Finiding and Visualising Return On Investment(ROI)"
   ]
  },
  {
   "cell_type": "code",
   "execution_count": 45,
   "id": "a51d013d-1369-483f-809d-a6b2b50ce513",
   "metadata": {},
   "outputs": [],
   "source": [
    "# Initialize an empty list to store the results\n",
    "results_list = []\n",
    "\n",
    "# Regression analysis by Client Type\n",
    "for acctype in df1['Client_Type'].unique():\n",
    "    temp_data = df1[df1['Client_Type'] == acctype].copy()\n",
    "    results = smf.ols('Amount_Collected ~ Campaign_Email + Campaign_Flyer + Campaign_Phone + Sales_Contact_1 + '\n",
    "                      'Sales_Contact_2 + Sales_Contact_3 + Sales_Contact_4 + Sales_Contact_5', data=temp_data).fit()\n",
    "    \n",
    "    # Convert the summary table to a DataFrame\n",
    "    html = results.summary().tables[1].as_html()\n",
    "    df = pd.read_html(StringIO(html), header=0, index_col=0)[0].reset_index()\n",
    "    df = df[df['P>|t|'] < 0.05][['index', 'coef']]\n",
    "    df.columns = ['Variable', 'Coefficient_(Impact)']\n",
    "    df['Account_Type'] = acctype\n",
    "    df = df.sort_values('Coefficient_(Impact)', ascending=False)\n",
    "    df = df[df['Variable'] != 'Intercept']\n",
    "    \n",
    "    # Append the results to the list\n",
    "    results_list.append(df)\n",
    "    \n",
    "    # print(acctype)\n",
    "    # print(df)\n",
    "    # print(results.summary())\n",
    "\n",
    "# Concatenate all results into a single DataFrame\n",
    "consolidated_summary = pd.concat(results_list, ignore_index=True)\n",
    "consolidated_summary.reset_index(inplace=True)\n",
    "consolidated_summary.drop('index', inplace=True, axis=1)\n",
    "consolidated_summary.columns = ['Variable', 'Return_on_Investment', 'Account_Type']\n",
    "consolidated_summary['Return_on_Investment'] = consolidated_summary['Return_on_Investment'].apply(lambda x: round(x, 1))\n",
    "\n",
    "def format_currency(x):\n",
    "    return \"${:.1f}\".format(x)\n",
    "\n",
    "consolidated_summary['Return_on_Investment'] = consolidated_summary['Return_on_Investment'].apply(format_currency)"
   ]
  },
  {
   "cell_type": "markdown",
   "id": "f7fd07f2-2bdd-4382-a576-ff5ca7c87363",
   "metadata": {},
   "source": [
    "#### 12.1) Table:"
   ]
  },
  {
   "cell_type": "code",
   "execution_count": 42,
   "id": "cd4d0838-cf98-4210-8595-cc1a3f4efbdf",
   "metadata": {},
   "outputs": [
    {
     "data": {
      "text/html": [
       "<div>\n",
       "<style scoped>\n",
       "    .dataframe tbody tr th:only-of-type {\n",
       "        vertical-align: middle;\n",
       "    }\n",
       "\n",
       "    .dataframe tbody tr th {\n",
       "        vertical-align: top;\n",
       "    }\n",
       "\n",
       "    .dataframe thead th {\n",
       "        text-align: right;\n",
       "    }\n",
       "</style>\n",
       "<table border=\"1\" class=\"dataframe\">\n",
       "  <thead>\n",
       "    <tr style=\"text-align: right;\">\n",
       "      <th></th>\n",
       "      <th>Variable</th>\n",
       "      <th>Return_on_Investment</th>\n",
       "      <th>Account_Type</th>\n",
       "    </tr>\n",
       "  </thead>\n",
       "  <tbody>\n",
       "    <tr>\n",
       "      <th>0</th>\n",
       "      <td>Campaign_Flyer</td>\n",
       "      <td>$4.1</td>\n",
       "      <td>Medium Facility</td>\n",
       "    </tr>\n",
       "    <tr>\n",
       "      <th>1</th>\n",
       "      <td>Sales_Contact_2</td>\n",
       "      <td>$3.6</td>\n",
       "      <td>Medium Facility</td>\n",
       "    </tr>\n",
       "    <tr>\n",
       "      <th>2</th>\n",
       "      <td>Sales_Contact_1</td>\n",
       "      <td>$3.1</td>\n",
       "      <td>Medium Facility</td>\n",
       "    </tr>\n",
       "    <tr>\n",
       "      <th>3</th>\n",
       "      <td>Sales_Contact_3</td>\n",
       "      <td>$2.1</td>\n",
       "      <td>Medium Facility</td>\n",
       "    </tr>\n",
       "    <tr>\n",
       "      <th>4</th>\n",
       "      <td>Sales_Contact_1</td>\n",
       "      <td>$11.7</td>\n",
       "      <td>Large Facility</td>\n",
       "    </tr>\n",
       "    <tr>\n",
       "      <th>5</th>\n",
       "      <td>Sales_Contact_4</td>\n",
       "      <td>$10.6</td>\n",
       "      <td>Large Facility</td>\n",
       "    </tr>\n",
       "    <tr>\n",
       "      <th>6</th>\n",
       "      <td>Sales_Contact_2</td>\n",
       "      <td>$4.0</td>\n",
       "      <td>Large Facility</td>\n",
       "    </tr>\n",
       "    <tr>\n",
       "      <th>7</th>\n",
       "      <td>Campaign_Flyer</td>\n",
       "      <td>$2.7</td>\n",
       "      <td>Large Facility</td>\n",
       "    </tr>\n",
       "    <tr>\n",
       "      <th>8</th>\n",
       "      <td>Sales_Contact_3</td>\n",
       "      <td>$2.0</td>\n",
       "      <td>Large Facility</td>\n",
       "    </tr>\n",
       "    <tr>\n",
       "      <th>9</th>\n",
       "      <td>Campaign_Phone</td>\n",
       "      <td>$-3.5</td>\n",
       "      <td>Large Facility</td>\n",
       "    </tr>\n",
       "    <tr>\n",
       "      <th>10</th>\n",
       "      <td>Sales_Contact_2</td>\n",
       "      <td>$0.8</td>\n",
       "      <td>Small Facility</td>\n",
       "    </tr>\n",
       "    <tr>\n",
       "      <th>11</th>\n",
       "      <td>Campaign_Phone</td>\n",
       "      <td>$-0.0</td>\n",
       "      <td>Small Facility</td>\n",
       "    </tr>\n",
       "    <tr>\n",
       "      <th>12</th>\n",
       "      <td>Sales_Contact_2</td>\n",
       "      <td>$6.6</td>\n",
       "      <td>Private Facility</td>\n",
       "    </tr>\n",
       "  </tbody>\n",
       "</table>\n",
       "</div>"
      ],
      "text/plain": [
       "           Variable Return_on_Investment      Account_Type\n",
       "0    Campaign_Flyer                 $4.1   Medium Facility\n",
       "1   Sales_Contact_2                 $3.6   Medium Facility\n",
       "2   Sales_Contact_1                 $3.1   Medium Facility\n",
       "3   Sales_Contact_3                 $2.1   Medium Facility\n",
       "4   Sales_Contact_1                $11.7   Large Facility \n",
       "5   Sales_Contact_4                $10.6   Large Facility \n",
       "6   Sales_Contact_2                 $4.0   Large Facility \n",
       "7    Campaign_Flyer                 $2.7   Large Facility \n",
       "8   Sales_Contact_3                 $2.0   Large Facility \n",
       "9    Campaign_Phone                $-3.5   Large Facility \n",
       "10  Sales_Contact_2                 $0.8   Small Facility \n",
       "11   Campaign_Phone                $-0.0   Small Facility \n",
       "12  Sales_Contact_2                 $6.6  Private Facility"
      ]
     },
     "execution_count": 42,
     "metadata": {},
     "output_type": "execute_result"
    }
   ],
   "source": [
    "consolidated_summary"
   ]
  },
  {
   "cell_type": "markdown",
   "id": "3f6517dd-0ca2-492f-a061-56b9e3fef441",
   "metadata": {},
   "source": [
    "#### 12.2) Visulisation"
   ]
  },
  {
   "cell_type": "code",
   "execution_count": 46,
   "id": "46f3a891-877b-49b2-902f-15663a14e4a9",
   "metadata": {},
   "outputs": [
    {
     "data": {
      "image/png": "[encoded data removed]",
      "text/plain": [
       "<Figure size 1600x600 with 1 Axes>"
      ]
     },
     "metadata": {},
     "output_type": "display_data"
    }
   ],
   "source": [
    "# Converting return on investment values to numeric format\n",
    "consolidated_summary['Return_on_Investment'] = consolidated_summary['Return_on_Investment'].str.replace('$', '').astype(float)\n",
    "\n",
    "# Creating the bar plot\n",
    "plt.figure(figsize=(16,6))\n",
    "sns.barplot(x=\"Return_on_Investment\", y=\"Variable\", hue=\"Account_Type\", data=consolidated_summary)\n",
    "plt.title(\"Return on Investment by Variable and Account Type\")\n",
    "plt.xlabel(\"Return on Investment\")\n",
    "plt.ylabel(\"Variable\")\n",
    "plt.show()"
   ]
  },
  {
   "cell_type": "markdown",
   "id": "acfb7a06-ff1a-471d-bca7-b8bfede5b057",
   "metadata": {},
   "source": [
    "### 13) Conclusion\n",
    "- Using the table and visualization we can see how much return we can derive from each dollar we spend, here we can clearly see that for different account type different Campaigns and Different Sales Contact are effective with different extend."
   ]
  }
 ],
 "metadata": {
  "kernelspec": {
   "display_name": "Python 3 (ipykernel)",
   "language": "python",
   "name": "python3"
  },
  "language_info": {
   "codemirror_mode": {
    "name": "ipython",
    "version": 3
   },
   "file_extension": ".py",
   "mimetype": "text/x-python",
   "name": "python",
   "nbconvert_exporter": "python",
   "pygments_lexer": "ipython3",
   "version": "3.11.9"
  }
 },
 "nbformat": 4,
 "nbformat_minor": 5
}
