{
 "cells": [
  {
   "cell_type": "markdown",
   "id": "77a59895-4188-4e80-91f9-c707ccf4c80f",
   "metadata": {},
   "source": [
    "### Task 3 "
   ]
  },
  {
   "cell_type": "markdown",
   "id": "446bb5fd-db64-4087-a62c-47d3ca97cf6f",
   "metadata": {},
   "source": [
    "Task # 01: Recursive Factorial\r\n",
    "- Write a recursive function to calculate the factorial of a given number"
   ]
  },
  {
   "cell_type": "code",
   "execution_count": 8,
   "id": "3f4c2892-7b41-4782-9576-8d0399189185",
   "metadata": {},
   "outputs": [
    {
     "name": "stdin",
     "output_type": "stream",
     "text": [
      "enter the number =  5\n"
     ]
    },
    {
     "name": "stdout",
     "output_type": "stream",
     "text": [
      "120\n"
     ]
    }
   ],
   "source": [
    "def find_fact(number):\n",
    "    if(number == 1 or number == 0):\n",
    "        return 1\n",
    "    else:\n",
    "        return (number * find_fact(number-1))\n",
    "\n",
    "if __name__ == '__main__':\n",
    "    number = int(input(\"enter the number = \"))\n",
    "    print(find_fact(number))\n",
    "    "
   ]
  },
  {
   "cell_type": "markdown",
   "id": "dae8ba04-eb89-4e19-8b7e-2e4c0ee2ddcb",
   "metadata": {},
   "source": [
    "Task # 02: Palindrome Linked List\r\n",
    "- Write a program to determine if a given linked list is a palindrome"
   ]
  },
  {
   "cell_type": "code",
   "execution_count": 13,
   "id": "3623590d-6c59-42d5-9c38-42bf50a761f6",
   "metadata": {},
   "outputs": [
    {
     "name": "stdout",
     "output_type": "stream",
     "text": [
      "temp data = 1\n",
      "temp data = 2\n",
      "it is not a palindrome\n"
     ]
    }
   ],
   "source": [
    "class Node:\n",
    "    def __init__(self, data):\n",
    "        self.data = data  # Assigns the given data to the node\n",
    "        self.next = None  # Initialize the next attribute to null\n",
    "\n",
    "class LinkedList:\n",
    "    def __init__(self):\n",
    "        self.head = None  # Initialize head as None\n",
    "        \n",
    "    def insertAtEnd(self, new_data):\n",
    "        new_node = Node(new_data)  # Create a new node\n",
    "        if self.head is None:\n",
    "            self.head = new_node  # If the list is empty, make the new node the head\n",
    "            return\n",
    "        last = self.head \n",
    "        while last.next:  # Otherwise, traverse the list to find the last node\n",
    "            last = last.next\n",
    "        last.next = new_node  # Make the new node the next node of the last node\n",
    "\n",
    "    def check_palindrome(self):\n",
    "        stack = []\n",
    "        temp = self.head\n",
    "        while(temp):\n",
    "            stack.append(temp.data)\n",
    "            temp = temp.next\n",
    "        temp = self.head\n",
    "        while(temp):\n",
    "            #print(f\"temp data = {temp.data}\")\n",
    "            if(temp.data != stack.pop()):\n",
    "                return False\n",
    "            temp = temp.next\n",
    "        return True\n",
    "if __name__ == '__main__':\n",
    "    LL_data_structure = LinkedList()\n",
    "\n",
    "    # Insert a word at the end\n",
    "    LL_data_structure.insertAtEnd(1)\n",
    "    LL_data_structure.insertAtEnd(2)\n",
    "    LL_data_structure.insertAtEnd(3)\n",
    "    LL_data_structure.insertAtEnd(3)\n",
    "    LL_data_structure.insertAtEnd(1)\n",
    "\n",
    "    if(LL_data_structure.check_palindrome() == 1):\n",
    "        print(\"it is palindrome\")\n",
    "    else:\n",
    "        print(\"it is not a palindrome\")\n"
   ]
  },
  {
   "cell_type": "markdown",
   "id": "efb9b28c-e71d-453c-a762-5d443d873843",
   "metadata": {},
   "source": [
    "Task # 03 : Merge Sorted Arrays\n",
    "- Write a function that takes two sorted arrays and merges them into a single sorted array.\n",
    "- Expected output: If the two input arrays are `[1, 3, 5]` and `[2, 4, 6]`, the output should be `[1, 2, 3,4, 5, 6]`"
   ]
  },
  {
   "cell_type": "code",
   "execution_count": 5,
   "id": "77e03efd-a501-41f3-86b2-848dbc1e5dca",
   "metadata": {},
   "outputs": [
    {
     "data": {
      "text/plain": [
       "array([1, 2, 3, 4, 5, 6])"
      ]
     },
     "execution_count": 5,
     "metadata": {},
     "output_type": "execute_result"
    }
   ],
   "source": [
    "import numpy as np\n",
    "list_array = [1,3,5]\n",
    "list_array2 = [2,4,6]\n",
    "list_array.extend(list_array2)\n",
    "\n",
    "array = np.array(list_array)\n",
    "array.sort()\n",
    "array\n"
   ]
  },
  {
   "cell_type": "markdown",
   "id": "6d3a132b-e109-4b2a-98bd-d9d8309ff1b5",
   "metadata": {},
   "source": [
    "Task # 04 :Binary Search Tree\r\n",
    "- Implement a Binary Search Tree (BST) data structure, including methods for insertion, deletion,\r\n",
    "and search"
   ]
  },
  {
   "cell_type": "code",
   "execution_count": 4,
   "id": "105ef695-b5f7-436d-9fcd-40ad8592c54e",
   "metadata": {},
   "outputs": [
    {
     "name": "stdout",
     "output_type": "stream",
     "text": [
      "Inorder Traversal before deletion:\n",
      "1 2 3 4 5 10 11 12 22 \n",
      "\n",
      "Searching for value 22: True\n",
      "Searching for value 234: False\n",
      "\n",
      "Inorder Traversal after deleting 22:\n",
      "1 2 3 4 5 10 11 12 "
     ]
    }
   ],
   "source": [
    "class BinaryTree:\n",
    "    def __init__(self, value):\n",
    "        self.right = None\n",
    "        self.left = None\n",
    "        self.value = value\n",
    "\n",
    "    def insert_value(self, value):\n",
    "        if value < self.value:\n",
    "            if self.left is None:\n",
    "                self.left = BinaryTree(value)\n",
    "            else:\n",
    "                self.left.insert_value(value)\n",
    "        else:\n",
    "            if self.right is None:\n",
    "                self.right = BinaryTree(value)\n",
    "            else:\n",
    "                self.right.insert_value(value)\n",
    "\n",
    "    def inorder_traversing(self):\n",
    "        if self.left:\n",
    "            self.left.inorder_traversing()\n",
    "        print(self.value, end=\" \")\n",
    "        if self.right:\n",
    "            self.right.inorder_traversing()\n",
    "\n",
    "    def search(self, value):\n",
    "        if value < self.value:\n",
    "            if self.left is None:\n",
    "                return False\n",
    "            else:\n",
    "                return self.left.search(value)\n",
    "        elif value > self.value:\n",
    "            if self.right is None:\n",
    "                return False\n",
    "            else:\n",
    "                return self.right.search(value)\n",
    "        else:\n",
    "            return True\n",
    "\n",
    "    def min_value(self, node):\n",
    "        current = node\n",
    "        while current.left is not None:\n",
    "            current = current.left\n",
    "        return current.value\n",
    "\n",
    "    def delete(self, value):\n",
    "        if self is None:\n",
    "            return self\n",
    "        \n",
    "        if value < self.value:\n",
    "            if self.left:\n",
    "                self.left = self.left.delete(value)\n",
    "        elif value > self.value:\n",
    "            if self.right:\n",
    "                self.right = self.right.delete(value)\n",
    "        else:\n",
    "            if self.left is None:\n",
    "                return self.right\n",
    "            elif self.right is None:\n",
    "                return self.left\n",
    "            \n",
    "            self.value = self.min_value(self.right)\n",
    "            self.right = self.right.delete(self.value)\n",
    "        \n",
    "        return self\n",
    "\n",
    "# Test the BinaryTree class\n",
    "Tree1 = BinaryTree(10)\n",
    "Tree1.insert_value(5)\n",
    "Tree1.insert_value(4)\n",
    "Tree1.insert_value(2)\n",
    "Tree1.insert_value(1)\n",
    "Tree1.insert_value(3)\n",
    "Tree1.insert_value(22)\n",
    "Tree1.insert_value(11)\n",
    "Tree1.insert_value(12)\n",
    "\n",
    "print(\"Inorder Traversal before deletion:\")\n",
    "Tree1.inorder_traversing()\n",
    "\n",
    "print(\"\\n\\nSearching for value 22:\", Tree1.search(22))\n",
    "print(\"Searching for value 234:\", Tree1.search(234))\n",
    "\n",
    "Tree1.delete(22)\n",
    "print(\"\\nInorder Traversal after deleting 22:\")\n",
    "Tree1.inorder_traversing()\n"
   ]
  },
  {
   "cell_type": "markdown",
   "id": "03fd449a-ec81-4792-8b7e-d4bb31dff7b4",
   "metadata": {},
   "source": [
    "Task #05:Longest Palindromic Substring\r\n",
    "- Write a program to find the longest palindromic substring within a given string."
   ]
  },
  {
   "cell_type": "code",
   "execution_count": 6,
   "id": "46a70a5e-7576-46ed-8516-7e839fb7310f",
   "metadata": {},
   "outputs": [
    {
     "name": "stdout",
     "output_type": "stream",
     "text": [
      "racecar\n",
      "bb\n",
      "a\n",
      "c\n"
     ]
    }
   ],
   "source": [
    "def longest_palindromic_substring(s):\n",
    "    if s is None or len(s) == 0:\n",
    "        return \"\"\n",
    "    \n",
    "    start, end = 0, 0\n",
    "    \n",
    "    for i in range(len(s)):\n",
    "        len1 = expand_around_center(s, i, i)   # Odd length palindromes\n",
    "        len2 = expand_around_center(s, i, i + 1)  # Even length palindromes\n",
    "        max_len = max(len1, len2)\n",
    "        \n",
    "        if max_len > end - start:\n",
    "            start = i - (max_len - 1) // 2\n",
    "            end = i + max_len // 2\n",
    "    \n",
    "    return s[start:end + 1]\n",
    "\n",
    "def expand_around_center(s, left, right):\n",
    "    while left >= 0 and right < len(s) and s[left] == s[right]:\n",
    "        left -= 1\n",
    "        right += 1\n",
    "    return right - left - 1\n",
    "\n",
    "# Test cases\n",
    "print(longest_palindromic_substring(\"abcdefracecar\"))  # Output: \"bab\" or \"aba\"\n",
    "print(longest_palindromic_substring(\"cbbd\"))   # Output: \"bb\"\n",
    "print(longest_palindromic_substring(\"a\"))      # Output: \"a\"\n",
    "print(longest_palindromic_substring(\"ac\"))     # Output: \"a\" or \"c\"\n"
   ]
  },
  {
   "cell_type": "markdown",
   "id": "4a037965-ccce-4881-a084-1ea087a3242b",
   "metadata": {},
   "source": [
    "Task # 06: Merge Intervals\r\n",
    "- Write a program to merge overlapping intervals in a list of intervals.\r\n",
    "- Expected output: If the input is `[(1, 3), (2, 6), (8, 10), (15, 18)]`, the output should be `[(1, 6), (8,\r\n",
    "10), (15, 18)]`."
   ]
  },
  {
   "cell_type": "code",
   "execution_count": 9,
   "id": "ced985c2-989b-41f6-8810-7bfaa657b3e4",
   "metadata": {},
   "outputs": [
    {
     "name": "stdout",
     "output_type": "stream",
     "text": [
      "[(1, 6), (8, 10), (15, 18)]\n",
      "[(1, 5)]\n",
      "[]\n"
     ]
    }
   ],
   "source": [
    "def merge_intervals(intervals):\n",
    "    if not intervals:\n",
    "        return []\n",
    "\n",
    "    # Define a function to get the start time of the interval\n",
    "    def get_start_time(interval):\n",
    "        return interval[0]\n",
    "\n",
    "    # Sort intervals by their start time using the defined function\n",
    "    intervals.sort(key=get_start_time)\n",
    "\n",
    "    merged = []\n",
    "    for interval in intervals:\n",
    "        # if the list of merged intervals is empty or if the current\n",
    "        # interval does not overlap with the previous, simply append it.\n",
    "        if not merged or merged[-1][1] < interval[0]:\n",
    "            merged.append(interval)\n",
    "        else:\n",
    "            # otherwise, there is overlap, so we merge the current and previous intervals.\n",
    "            merged[-1] = (merged[-1][0], max(merged[-1][1], interval[1]))\n",
    "\n",
    "    return merged\n",
    "\n",
    "# Test cases\n",
    "print(merge_intervals([(1, 3), (2, 6), (8, 10), (15, 18)]))  \n",
    "print(merge_intervals([(1, 4), (4, 5)]))                \n",
    "print(merge_intervals([]))                              \n"
   ]
  },
  {
   "cell_type": "markdown",
   "id": "494aa407-1d25-4e35-b925-f65fe7fbe789",
   "metadata": {},
   "source": [
    "Task # 07: Maximum Subarray\r\n",
    "- Write a program to find the maximum sum of a contiguous subarray within a given array.\r\n",
    "- Expected output: If the input array is `[-2, 1, -3, 4, -1, 2, 1, -5, 4]`, the output should be `6`, as the\r\n",
    "maximum subarray is `[4, -1, 2, 1]`."
   ]
  },
  {
   "cell_type": "code",
   "execution_count": 12,
   "id": "37f04439-0ddd-409a-89b3-c5e92db24361",
   "metadata": {},
   "outputs": [
    {
     "name": "stdout",
     "output_type": "stream",
     "text": [
      "6\n",
      "-1\n",
      "0\n"
     ]
    }
   ],
   "source": [
    "\n",
    "def max_subarray_sum(nums):\n",
    "    if not nums:\n",
    "        return 0\n",
    "\n",
    "    max_current = max_global = nums[0]\n",
    "    \n",
    "    for num in nums[1:]:\n",
    "        max_current = max(num, max_current + num)\n",
    "        if max_current > max_global:\n",
    "            max_global = max_current\n",
    "    \n",
    "    return max_global\n",
    "\n",
    "# Test cases\n",
    "print(max_subarray_sum([-2, 1, -3, 4, -1, 2, 1, -5, 4]))  \n",
    "print(max_subarray_sum([-1, -2, -3, -4]))                \n",
    "print(max_subarray_sum([]))                             \n"
   ]
  },
  {
   "cell_type": "markdown",
   "id": "b87a8c6a-db5e-4ea1-868a-5e50f60aff4b",
   "metadata": {},
   "source": [
    "Task #08: Reverse Linked List\r\n",
    "- Write a program to reverse a singly-linked list.\r\n",
    "- Expected output: If the input linked list is `1 -> 2 -> 3 -> 4 -> 5`, the output should be `5 -> 4 -> 3\r\n",
    "-> 2 -> 1`"
   ]
  },
  {
   "cell_type": "code",
   "execution_count": 14,
   "id": "648cd501-fa59-47d0-9c24-7b02a972182e",
   "metadata": {},
   "outputs": [
    {
     "name": "stdout",
     "output_type": "stream",
     "text": [
      "Original linked list:\n",
      "1 -> 2 -> 3 -> 4 -> 5\n",
      "Reversed linked list:\n",
      "5 -> 4 -> 3 -> 2 -> 1\n"
     ]
    }
   ],
   "source": [
    "class ListNode:\n",
    "    def __init__(self, value=0, next=None):\n",
    "        self.value = value\n",
    "        self.next = next\n",
    "class LinkedList:\n",
    "    def __init__(self):\n",
    "        self.head = None\n",
    "\n",
    "    def insert(self, value):\n",
    "        if not self.head:\n",
    "            self.head = ListNode(value)\n",
    "        else:\n",
    "            current = self.head\n",
    "            while current.next:\n",
    "                current = current.next\n",
    "            current.next = ListNode(value)\n",
    "\n",
    "    def print_list(self):\n",
    "        current = self.head\n",
    "        while current:\n",
    "            print(current.value, end=\" -> \" if current.next else \"\")\n",
    "            current = current.next\n",
    "        print()\n",
    "\n",
    "    def reverse(self):\n",
    "        prev = None\n",
    "        current = self.head\n",
    "        while current:\n",
    "            next_node = current.next\n",
    "            current.next = prev\n",
    "            prev = current\n",
    "            current = next_node\n",
    "        self.head = prev\n",
    "        \n",
    "linked_list = LinkedList()\n",
    "linked_list.insert(1)\n",
    "linked_list.insert(2)\n",
    "linked_list.insert(3)\n",
    "linked_list.insert(4)\n",
    "linked_list.insert(5)\n",
    "\n",
    "\n",
    "print(\"Original linked list:\")\n",
    "linked_list.print_list()\n",
    "\n",
    "\n",
    "linked_list.reverse()\n",
    "\n",
    "\n",
    "print(\"Reversed linked list:\")\n",
    "linked_list.print_list()\n"
   ]
  },
  {
   "cell_type": "markdown",
   "id": "7bd160ae-a6d2-49a3-85ea-fbff20d01056",
   "metadata": {},
   "source": [
    "Task # 09: Minimum Edit Distance\r\n",
    "- Write a program to calculate the minimum number of operations (insertions, deletions, or\r\n",
    "substitutions) required to transform one string into another.\r\n",
    "- Expected output: If the two input strings are \"kitten\" and \"sitting\", the output should be `3"
   ]
  },
  {
   "cell_type": "code",
   "execution_count": 16,
   "id": "e81a2c7b-f645-4ead-81e4-ea20cea919bb",
   "metadata": {},
   "outputs": [
    {
     "name": "stdout",
     "output_type": "stream",
     "text": [
      "3\n",
      "5\n",
      "3\n",
      "3\n"
     ]
    }
   ],
   "source": [
    "def min_edit_distance(str1, str2):\n",
    "    m, n = len(str1), len(str2)\n",
    "    \n",
    "    # Create a (m+1) x (n+1) matrix to store distances\n",
    "    dp = [[0] * (n + 1) for _ in range(m + 1)]\n",
    "\n",
    "    # Initialize the matrix\n",
    "    for i in range(m + 1):\n",
    "        dp[i][0] = i  # Distance of any first string to an empty second string\n",
    "    for j in range(n + 1):\n",
    "        dp[0][j] = j  # Distance of any second string to an empty first string\n",
    "\n",
    "    # Compute the distances\n",
    "    for i in range(1, m + 1):\n",
    "        for j in range(1, n + 1):\n",
    "            if str1[i - 1] == str2[j - 1]:\n",
    "                dp[i][j] = dp[i - 1][j - 1]  # Characters match, no operation needed\n",
    "            else:\n",
    "                dp[i][j] = min(dp[i - 1][j] + 1,  # Deletion\n",
    "                               dp[i][j - 1] + 1,  # Insertion\n",
    "                               dp[i - 1][j - 1] + 1)  # Substitution\n",
    "\n",
    "    return dp[m][n]\n",
    "\n",
    "# Test cases\n",
    "print(min_edit_distance(\"kitten\", \"sitting\"))  \n",
    "print(min_edit_distance(\"intention\", \"execution\")) \n",
    "print(min_edit_distance(\"\", \"abc\"))            \n",
    "print(min_edit_distance(\"abc\", \"\"))            \n"
   ]
  },
  {
   "cell_type": "markdown",
   "id": "9baa3263-7c50-4fb0-8b0c-fd1a012b5c90",
   "metadata": {},
   "source": [
    "Task # 10: Boggle Game\r\n",
    "- Implement a program that solves the Boggle game, given a board and a list of words.\r\n",
    "- Expected output: The program should print all the words found in the Boggle board"
   ]
  },
  {
   "cell_type": "code",
   "execution_count": 17,
   "id": "e1483c7f-fd69-4ca3-ab95-06bf1ba2bb0d",
   "metadata": {},
   "outputs": [
    {
     "name": "stdout",
     "output_type": "stream",
     "text": [
      "Words found in the Boggle board: ['oath', 'eat']\n"
     ]
    }
   ],
   "source": [
    "class TrieNode:\n",
    "    def __init__(self):\n",
    "        self.children = {}\n",
    "        self.is_end_of_word = False\n",
    "\n",
    "class Trie:\n",
    "    def __init__(self):\n",
    "        self.root = TrieNode()\n",
    "\n",
    "    def insert(self, word):\n",
    "        node = self.root\n",
    "        for char in word:\n",
    "            if char not in node.children:\n",
    "                node.children[char] = TrieNode()\n",
    "            node = node.children[char]\n",
    "        node.is_end_of_word = True\n",
    "\n",
    "    def search(self, word):\n",
    "        node = self.root\n",
    "        for char in word:\n",
    "            if char not in node.children:\n",
    "                return False\n",
    "            node = node.children[char]\n",
    "        return node.is_end_of_word\n",
    "\n",
    "class Boggle:\n",
    "    def __init__(self, board, dictionary):\n",
    "        self.board = board\n",
    "        self.trie = Trie()\n",
    "        for word in dictionary:\n",
    "            self.trie.insert(word)\n",
    "        self.rows = len(board)\n",
    "        self.cols = len(board[0])\n",
    "        self.result = set()\n",
    "        self.visited = [[False]*self.cols for _ in range(self.rows)]\n",
    "        self.directions = [(-1, -1), (-1, 0), (-1, 1), (0, -1), (0, 1), (1, -1), (1, 0), (1, 1)]\n",
    "\n",
    "    def find_words(self):\n",
    "        for row in range(self.rows):\n",
    "            for col in range(self.cols):\n",
    "                self.dfs(row, col, \"\", self.trie.root)\n",
    "        return list(self.result)\n",
    "\n",
    "    def dfs(self, row, col, prefix, node):\n",
    "        if row < 0 or row >= self.rows or col < 0 or col >= self.cols or self.visited[row][col]:\n",
    "            return\n",
    "\n",
    "        char = self.board[row][col]\n",
    "        if char not in node.children:\n",
    "            return\n",
    "\n",
    "        self.visited[row][col] = True\n",
    "        node = node.children[char]\n",
    "        prefix += char\n",
    "\n",
    "        if node.is_end_of_word:\n",
    "            self.result.add(prefix)\n",
    "\n",
    "        for direction in self.directions:\n",
    "            new_row, new_col = row + direction[0], col + direction[1]\n",
    "            self.dfs(new_row, new_col, prefix, node)\n",
    "\n",
    "        self.visited[row][col] = False\n",
    "\n",
    "# Example \n",
    "board = [\n",
    "    ['o', 'a', 'n', 'n'],\n",
    "    ['e', 't', 'a', 'e'],\n",
    "    ['i', 'h', 'k', 'r'],\n",
    "    ['i', 'f', 'l', 'v']\n",
    "]\n",
    "dictionary = [\"oath\", \"pea\", \"eat\", \"rain\", \"hike\", \"flair\"]\n",
    "\n",
    "boggle = Boggle(board, dictionary)\n",
    "found_words = boggle.find_words()\n",
    "print(\"Words found in the Boggle board:\", found_words)\n"
   ]
  },
  {
   "cell_type": "code",
   "execution_count": null,
   "id": "3f27df43-ea09-43b9-8c4b-f51faa1d163b",
   "metadata": {},
   "outputs": [],
   "source": []
  }
 ],
 "metadata": {
  "kernelspec": {
   "display_name": "Python 3 (ipykernel)",
   "language": "python",
   "name": "python3"
  },
  "language_info": {
   "codemirror_mode": {
    "name": "ipython",
    "version": 3
   },
   "file_extension": ".py",
   "mimetype": "text/x-python",
   "name": "python",
   "nbconvert_exporter": "python",
   "pygments_lexer": "ipython3",
   "version": "3.11.9"
  }
 },
 "nbformat": 4,
 "nbformat_minor": 5
}
