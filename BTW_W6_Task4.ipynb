{
 "cells": [
  {
   "cell_type": "markdown",
   "id": "8041fb4f-be3e-48b2-a7b1-5f39cf8f1f9f",
   "metadata": {},
   "source": [
    "## Task # 14:\n",
    "This is Task # 14 overall and Task 4 of week 6\n",
    "## Task # 04:"
   ]
  },
  {
   "cell_type": "markdown",
   "id": "727f7e7b-8ecf-4c6e-83b1-75ba553cf2c4",
   "metadata": {},
   "source": [
    "- In this task we will be working with the titanic dataset"
   ]
  },
  {
   "cell_type": "code",
   "execution_count": 2,
   "id": "cb89f26f-5fd3-4bc2-b8b5-98a33486d362",
   "metadata": {},
   "outputs": [],
   "source": [
    "#importing necessary regular libraries\n",
    "import pandas as pd\n",
    "import numpy as np\n",
    "import seaborn as sns\n",
    "import matplotlib.pyplot as plt"
   ]
  },
  {
   "cell_type": "code",
   "execution_count": 32,
   "id": "14bfb4e8-283f-459c-ae3f-d5c25c0fd37b",
   "metadata": {},
   "outputs": [
    {
     "name": "stdout",
     "output_type": "stream",
     "text": [
      "Index(['Age', 'Cabin', 'Embarked'], dtype='object')\n"
     ]
    },
    {
     "data": {
      "text/html": [
       "<div>\n",
       "<style scoped>\n",
       "    .dataframe tbody tr th:only-of-type {\n",
       "        vertical-align: middle;\n",
       "    }\n",
       "\n",
       "    .dataframe tbody tr th {\n",
       "        vertical-align: top;\n",
       "    }\n",
       "\n",
       "    .dataframe thead th {\n",
       "        text-align: right;\n",
       "    }\n",
       "</style>\n",
       "<table border=\"1\" class=\"dataframe\">\n",
       "  <thead>\n",
       "    <tr style=\"text-align: right;\">\n",
       "      <th></th>\n",
       "      <th>PassengerId</th>\n",
       "      <th>Survived</th>\n",
       "      <th>Pclass</th>\n",
       "      <th>Name</th>\n",
       "      <th>Sex</th>\n",
       "      <th>Age</th>\n",
       "      <th>SibSp</th>\n",
       "      <th>Parch</th>\n",
       "      <th>Ticket</th>\n",
       "      <th>Fare</th>\n",
       "      <th>Cabin</th>\n",
       "      <th>Embarked</th>\n",
       "    </tr>\n",
       "  </thead>\n",
       "  <tbody>\n",
       "    <tr>\n",
       "      <th>0</th>\n",
       "      <td>1</td>\n",
       "      <td>0</td>\n",
       "      <td>3</td>\n",
       "      <td>Braund, Mr. Owen Harris</td>\n",
       "      <td>male</td>\n",
       "      <td>22.0</td>\n",
       "      <td>1</td>\n",
       "      <td>0</td>\n",
       "      <td>A/5 21171</td>\n",
       "      <td>7.2500</td>\n",
       "      <td>NaN</td>\n",
       "      <td>S</td>\n",
       "    </tr>\n",
       "    <tr>\n",
       "      <th>1</th>\n",
       "      <td>2</td>\n",
       "      <td>1</td>\n",
       "      <td>1</td>\n",
       "      <td>Cumings, Mrs. John Bradley (Florence Briggs Th...</td>\n",
       "      <td>female</td>\n",
       "      <td>38.0</td>\n",
       "      <td>1</td>\n",
       "      <td>0</td>\n",
       "      <td>PC 17599</td>\n",
       "      <td>71.2833</td>\n",
       "      <td>C85</td>\n",
       "      <td>C</td>\n",
       "    </tr>\n",
       "    <tr>\n",
       "      <th>2</th>\n",
       "      <td>3</td>\n",
       "      <td>1</td>\n",
       "      <td>3</td>\n",
       "      <td>Heikkinen, Miss. Laina</td>\n",
       "      <td>female</td>\n",
       "      <td>26.0</td>\n",
       "      <td>0</td>\n",
       "      <td>0</td>\n",
       "      <td>STON/O2. 3101282</td>\n",
       "      <td>7.9250</td>\n",
       "      <td>NaN</td>\n",
       "      <td>S</td>\n",
       "    </tr>\n",
       "  </tbody>\n",
       "</table>\n",
       "</div>"
      ],
      "text/plain": [
       "   PassengerId  Survived  Pclass  \\\n",
       "0            1         0       3   \n",
       "1            2         1       1   \n",
       "2            3         1       3   \n",
       "\n",
       "                                                Name     Sex   Age  SibSp  \\\n",
       "0                            Braund, Mr. Owen Harris    male  22.0      1   \n",
       "1  Cumings, Mrs. John Bradley (Florence Briggs Th...  female  38.0      1   \n",
       "2                             Heikkinen, Miss. Laina  female  26.0      0   \n",
       "\n",
       "   Parch            Ticket     Fare Cabin Embarked  \n",
       "0      0         A/5 21171   7.2500   NaN        S  \n",
       "1      0          PC 17599  71.2833   C85        C  \n",
       "2      0  STON/O2. 3101282   7.9250   NaN        S  "
      ]
     },
     "execution_count": 32,
     "metadata": {},
     "output_type": "execute_result"
    }
   ],
   "source": [
    "#importing the titanic dataset from the local machine\n",
    "fp = 'titanic.csv'\n",
    "titanic_df = pd.read_csv(fp)\n",
    "\n",
    "#check for columns with null values\n",
    "print(titanic_df.columns[titanic_df.isnull().any()])\n",
    "\n",
    "#a look at the dataset\n",
    "titanic_df.head(3)"
   ]
  },
  {
   "cell_type": "markdown",
   "id": "d64f3839-83fb-47f7-8207-b6d2f02cb843",
   "metadata": {},
   "source": [
    "### Pre Processing Of Data"
   ]
  },
  {
   "cell_type": "markdown",
   "id": "d86eba7c-27b0-42e2-8559-a44bc09cda5b",
   "metadata": {},
   "source": [
    "#### Handling Null Values"
   ]
  },
  {
   "cell_type": "code",
   "execution_count": 33,
   "id": "c162bce1-c935-4fa2-9bcc-7f985a7e94b3",
   "metadata": {},
   "outputs": [
    {
     "name": "stdout",
     "output_type": "stream",
     "text": [
      "Age         19.865320\n",
      "Cabin       77.104377\n",
      "Embarked     0.224467\n",
      "dtype: float64\n"
     ]
    }
   ],
   "source": [
    "#checking the null values percentage\n",
    "nul_col = ['Age', 'Cabin', 'Embarked']\n",
    "print(titanic_df[nul_col].isnull().sum()/titanic_df.shape[0]*100)"
   ]
  },
  {
   "cell_type": "code",
   "execution_count": 34,
   "id": "982e9df7-1cd2-4450-9ba5-8afcf43be7f7",
   "metadata": {},
   "outputs": [],
   "source": [
    "#from the above we see that the Cabin column has more than 50% of Null/Missing values so lets drop this column\n",
    "\n",
    "#creating the copy of original dataset\n",
    "titanic_df1 = titanic_df.copy()\n",
    "\n",
    "#dropping Cabin\n",
    "titanic_df1.drop('Cabin',axis = 1,inplace = True)"
   ]
  },
  {
   "cell_type": "code",
   "execution_count": 35,
   "id": "f5c9e05b-6064-4cad-9148-ab865312c79a",
   "metadata": {},
   "outputs": [
    {
     "data": {
      "image/png": "[encoded data removed]",
      "text/plain": [
       "<Figure size 900x300 with 1 Axes>"
      ]
     },
     "metadata": {},
     "output_type": "display_data"
    }
   ],
   "source": [
    "#now lets have a look at the distribution of the Age column \n",
    "sns.displot(titanic_df1['Age'],kde = True,height = 3,aspect = 3)\n",
    "plt.title('Distribution of Age')\n",
    "plt.xlabel('Age')\n",
    "plt.ylabel('Count')\n",
    "plt.tight_layout()\n",
    "plt.show()"
   ]
  },
  {
   "cell_type": "markdown",
   "id": "60a8a8ea-5cfd-4501-b85b-67cb43bcfa77",
   "metadata": {},
   "source": [
    "- Frome the above visualization we can obsereve that we have a skewed distribution , so we will be handlin the null values with the median"
   ]
  },
  {
   "cell_type": "code",
   "execution_count": 36,
   "id": "e233c9e1-b1db-47a5-8e99-a993d86cd5ee",
   "metadata": {},
   "outputs": [],
   "source": [
    "# Fill missing ages with the median age\n",
    "titanic_df1['Age'] = titanic_df1['Age'].fillna(titanic_df1['Age'].median())"
   ]
  },
  {
   "cell_type": "markdown",
   "id": "231a2a70-ad98-4900-a126-57e86b380c99",
   "metadata": {},
   "source": [
    "- The Embarked Column has categorical values and also it has very low percentage of Null values so if we drop the Null values , so it wont effect the dataset that much , also as a categorical value we can replace it with the Mode ,So its upto our choice but in this Task we will drop the rows containing Null values"
   ]
  },
  {
   "cell_type": "code",
   "execution_count": 37,
   "id": "963ea058-9f75-452c-8b8b-84ed54ba4725",
   "metadata": {},
   "outputs": [],
   "source": [
    "#dropping the Null Value Rows\n",
    "titanic_df1 = titanic_df1.dropna(subset=['Embarked'])"
   ]
  },
  {
   "cell_type": "code",
   "execution_count": 38,
   "id": "9535134e-66d5-464a-92d0-88664a159a49",
   "metadata": {},
   "outputs": [
    {
     "data": {
      "text/plain": [
       "Index([], dtype='object')"
      ]
     },
     "execution_count": 38,
     "metadata": {},
     "output_type": "execute_result"
    }
   ],
   "source": [
    "#verifying the dataset for Null Values\n",
    "titanic_df1.columns[titanic_df1.isnull().any()]"
   ]
  },
  {
   "cell_type": "markdown",
   "id": "cbe31537-2f81-4671-8f2e-c503efa58bc3",
   "metadata": {},
   "source": [
    "- As now we can see that we have no columns that contains the Null vales"
   ]
  },
  {
   "cell_type": "markdown",
   "id": "4ee490b4-9bf2-4f33-b49f-86648874166c",
   "metadata": {},
   "source": [
    "#### Encoding"
   ]
  },
  {
   "cell_type": "code",
   "execution_count": 39,
   "id": "c5e9f87c-1c2d-4c7b-86e0-a899740358ce",
   "metadata": {},
   "outputs": [
    {
     "data": {
      "text/plain": [
       "Index(['Name', 'Sex', 'Ticket', 'Embarked'], dtype='object')"
      ]
     },
     "execution_count": 39,
     "metadata": {},
     "output_type": "execute_result"
    }
   ],
   "source": [
    "# now lets check the columns which contains the object datatype and are possible categorical columns\n",
    "titanic_df1.select_dtypes(include=['object']).columns"
   ]
  },
  {
   "cell_type": "markdown",
   "id": "f4d8bfaa-8091-424c-b934-eddb62cc3de2",
   "metadata": {},
   "source": [
    "- Name and Ticket cannot be categorical column , while Sex,and Embarked could be "
   ]
  },
  {
   "cell_type": "code",
   "execution_count": 40,
   "id": "f1883711-8841-441d-a3b3-e25a50f18363",
   "metadata": {},
   "outputs": [],
   "source": [
    "# Using One Hot Encoding\n",
    "titanic_df1 = pd.get_dummies(titanic_df1,columns=['Embarked','Sex'],dtype='int32')"
   ]
  },
  {
   "cell_type": "code",
   "execution_count": 44,
   "id": "003eb3fd-99cb-4756-bd6e-eef6a8d1e737",
   "metadata": {},
   "outputs": [
    {
     "data": {
      "text/html": [
       "<div>\n",
       "<style scoped>\n",
       "    .dataframe tbody tr th:only-of-type {\n",
       "        vertical-align: middle;\n",
       "    }\n",
       "\n",
       "    .dataframe tbody tr th {\n",
       "        vertical-align: top;\n",
       "    }\n",
       "\n",
       "    .dataframe thead th {\n",
       "        text-align: right;\n",
       "    }\n",
       "</style>\n",
       "<table border=\"1\" class=\"dataframe\">\n",
       "  <thead>\n",
       "    <tr style=\"text-align: right;\">\n",
       "      <th></th>\n",
       "      <th>PassengerId</th>\n",
       "      <th>Survived</th>\n",
       "      <th>Pclass</th>\n",
       "      <th>Name</th>\n",
       "      <th>Age</th>\n",
       "      <th>SibSp</th>\n",
       "      <th>Parch</th>\n",
       "      <th>Ticket</th>\n",
       "      <th>Fare</th>\n",
       "      <th>Embarked_C</th>\n",
       "      <th>Embarked_Q</th>\n",
       "      <th>Embarked_S</th>\n",
       "      <th>Sex_female</th>\n",
       "      <th>Sex_male</th>\n",
       "    </tr>\n",
       "  </thead>\n",
       "  <tbody>\n",
       "    <tr>\n",
       "      <th>0</th>\n",
       "      <td>1</td>\n",
       "      <td>0</td>\n",
       "      <td>3</td>\n",
       "      <td>Braund, Mr. Owen Harris</td>\n",
       "      <td>-0.563674</td>\n",
       "      <td>1</td>\n",
       "      <td>0</td>\n",
       "      <td>A/5 21171</td>\n",
       "      <td>-0.500240</td>\n",
       "      <td>0</td>\n",
       "      <td>0</td>\n",
       "      <td>1</td>\n",
       "      <td>0</td>\n",
       "      <td>1</td>\n",
       "    </tr>\n",
       "    <tr>\n",
       "      <th>1</th>\n",
       "      <td>2</td>\n",
       "      <td>1</td>\n",
       "      <td>1</td>\n",
       "      <td>Cumings, Mrs. John Bradley (Florence Briggs Th...</td>\n",
       "      <td>0.669217</td>\n",
       "      <td>1</td>\n",
       "      <td>0</td>\n",
       "      <td>PC 17599</td>\n",
       "      <td>0.788947</td>\n",
       "      <td>1</td>\n",
       "      <td>0</td>\n",
       "      <td>0</td>\n",
       "      <td>1</td>\n",
       "      <td>0</td>\n",
       "    </tr>\n",
       "    <tr>\n",
       "      <th>2</th>\n",
       "      <td>3</td>\n",
       "      <td>1</td>\n",
       "      <td>3</td>\n",
       "      <td>Heikkinen, Miss. Laina</td>\n",
       "      <td>-0.255451</td>\n",
       "      <td>0</td>\n",
       "      <td>0</td>\n",
       "      <td>STON/O2. 3101282</td>\n",
       "      <td>-0.486650</td>\n",
       "      <td>0</td>\n",
       "      <td>0</td>\n",
       "      <td>1</td>\n",
       "      <td>1</td>\n",
       "      <td>0</td>\n",
       "    </tr>\n",
       "  </tbody>\n",
       "</table>\n",
       "</div>"
      ],
      "text/plain": [
       "   PassengerId  Survived  Pclass  \\\n",
       "0            1         0       3   \n",
       "1            2         1       1   \n",
       "2            3         1       3   \n",
       "\n",
       "                                                Name       Age  SibSp  Parch  \\\n",
       "0                            Braund, Mr. Owen Harris -0.563674      1      0   \n",
       "1  Cumings, Mrs. John Bradley (Florence Briggs Th...  0.669217      1      0   \n",
       "2                             Heikkinen, Miss. Laina -0.255451      0      0   \n",
       "\n",
       "             Ticket      Fare  Embarked_C  Embarked_Q  Embarked_S  Sex_female  \\\n",
       "0         A/5 21171 -0.500240           0           0           1           0   \n",
       "1          PC 17599  0.788947           1           0           0           1   \n",
       "2  STON/O2. 3101282 -0.486650           0           0           1           1   \n",
       "\n",
       "   Sex_male  \n",
       "0         1  \n",
       "1         0  \n",
       "2         0  "
      ]
     },
     "execution_count": 44,
     "metadata": {},
     "output_type": "execute_result"
    }
   ],
   "source": [
    "# lets have a look at the dataset to see that if our values are encoded or not\n",
    "titanic_df1.head(3)"
   ]
  },
  {
   "cell_type": "markdown",
   "id": "ae37a8ae-a10f-4c8c-96ae-bc2754ef92d9",
   "metadata": {},
   "source": [
    "- So Encoding of SeX and Embarked column is completed"
   ]
  },
  {
   "cell_type": "markdown",
   "id": "edd8f5f0-b2b9-489b-b6b9-2a90fc35ebd2",
   "metadata": {},
   "source": [
    "#### Data Standardization \n",
    "- Data Standardization is not necessary incase of logistic regression or decision trees but still it can be a good practice and in some scenarios can have a useful impact"
   ]
  },
  {
   "cell_type": "code",
   "execution_count": 42,
   "id": "a3f32ce4-15eb-4bc7-a88b-1516aebe3e0b",
   "metadata": {},
   "outputs": [],
   "source": [
    "from sklearn.preprocessing import StandardScaler\n",
    "scaler = StandardScaler()\n",
    "\n",
    "#Here we will be standardizing the Age and Fare columns\n",
    "std_col = ['Age','Fare']\n",
    "titanic_df1[std_col] = scaler.fit_transform(titanic_df1[std_col])"
   ]
  },
  {
   "cell_type": "code",
   "execution_count": 43,
   "id": "43fa968a-0c9f-4906-9372-4150b2de7006",
   "metadata": {},
   "outputs": [
    {
     "name": "stdout",
     "output_type": "stream",
     "text": [
      "1.000562904632249\n",
      "1.0005629046322495\n"
     ]
    }
   ],
   "source": [
    "# a look at the standard deviation\n",
    "print(titanic_df1['Age'].std())\n",
    "print(titanic_df1['Fare'].std())"
   ]
  },
  {
   "cell_type": "markdown",
   "id": "0188e642-0604-4db5-afd1-8aadcda39879",
   "metadata": {},
   "source": [
    "- As we can see that standard deviation is about 1 so our data has been standardized"
   ]
  },
  {
   "cell_type": "code",
   "execution_count": null,
   "id": "89397c82-b425-4e86-944a-fa56261b37bc",
   "metadata": {},
   "outputs": [],
   "source": []
  }
 ],
 "metadata": {
  "kernelspec": {
   "display_name": "Python 3 (ipykernel)",
   "language": "python",
   "name": "python3"
  },
  "language_info": {
   "codemirror_mode": {
    "name": "ipython",
    "version": 3
   },
   "file_extension": ".py",
   "mimetype": "text/x-python",
   "name": "python",
   "nbconvert_exporter": "python",
   "pygments_lexer": "ipython3",
   "version": "3.11.9"
  }
 },
 "nbformat": 4,
 "nbformat_minor": 5
}
