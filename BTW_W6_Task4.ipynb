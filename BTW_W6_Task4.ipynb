{
 "cells": [
  {
   "cell_type": "markdown",
   "id": "8041fb4f-be3e-48b2-a7b1-5f39cf8f1f9f",
   "metadata": {},
   "source": [
    "### The tasks and solution will be added soon inshAllah"
   ]
  },
  {
   "cell_type": "code",
   "execution_count": null,
   "id": "48941914-cb49-4572-a7e7-91c15ec7667c",
   "metadata": {},
   "outputs": [],
   "source": []
  }
 ],
 "metadata": {
  "kernelspec": {
   "display_name": "Python 3 (ipykernel)",
   "language": "python",
   "name": "python3"
  },
  "language_info": {
   "codemirror_mode": {
    "name": "ipython",
    "version": 3
   },
   "file_extension": ".py",
   "mimetype": "text/x-python",
   "name": "python",
   "nbconvert_exporter": "python",
   "pygments_lexer": "ipython3",
   "version": "3.11.9"
  }
 },
 "nbformat": 4,
 "nbformat_minor": 5
}
