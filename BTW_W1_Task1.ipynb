{
 "cells": [
  {
   "cell_type": "markdown",
   "id": "de6b75c5-0649-4bff-a0a7-cd4e4178f15e",
   "metadata": {},
   "source": [
    "### Tasks 1 Bytewise\n",
    "In this task we are going to perform some tasks as part of python basics"
   ]
  },
  {
   "cell_type": "markdown",
   "id": "15f15e0a-bc1d-4ae5-bbe0-b75555d0dbeb",
   "metadata": {},
   "source": [
    "Task # 01 Write a program that takes two numbers from the user and prints their sum."
   ]
  },
  {
   "cell_type": "code",
   "execution_count": 1,
   "id": "e3eb9594-1b9e-4f85-b570-25aa5e1b7465",
   "metadata": {},
   "outputs": [
    {
     "name": "stdin",
     "output_type": "stream",
     "text": [
      "enter first number =  5\n",
      "enter second number =  5\n"
     ]
    },
    {
     "name": "stdout",
     "output_type": "stream",
     "text": [
      "sum of 2 numbers is = 10.0\n"
     ]
    }
   ],
   "source": [
    "num1 = float(input(\"enter first number = \"))\n",
    "num2 = float(input(\"enter second number = \"))\n",
    "print(f\"sum of 2 numbers is = {num1 + num2}\")"
   ]
  },
  {
   "cell_type": "markdown",
   "id": "aed156bf-23a0-4456-ae4c-7be3e3dc39d8",
   "metadata": {},
   "source": [
    "Task # 02 Write a program to calculate the area of a circle given its radius."
   ]
  },
  {
   "cell_type": "code",
   "execution_count": null,
   "id": "5491d1e8-1359-4444-a4b4-4fe945903a74",
   "metadata": {},
   "outputs": [],
   "source": [
    "import math as m\n",
    "radius = float(input(\"enter the radius of circle = \"))\n",
    "area_of_circle = m.pi*(m.pow(radius,2))\n",
    "print(f\"the area of circle is = {area_of_circle}\")"
   ]
  },
  {
   "cell_type": "markdown",
   "id": "8e4e2693-6d11-435d-963f-a0028280bd5d",
   "metadata": {},
   "source": [
    "Task # 03 Write a program that checks if a number is even or odd"
   ]
  },
  {
   "cell_type": "code",
   "execution_count": null,
   "id": "ad756652-585d-4ee1-adaa-d1e013662c70",
   "metadata": {},
   "outputs": [],
   "source": [
    "test_number = int(input(\"enter a number to be tested = \"))\n",
    "if(test_number % 2 == 0):\n",
    "    print(\"number is even\")\n",
    "else:\n",
    "    print(\"number is odd\")"
   ]
  },
  {
   "cell_type": "markdown",
   "id": "e8cf9262-126b-4401-8dea-9258dffa566e",
   "metadata": {},
   "source": [
    "Task # 04  Write a program that performs basic arithmetic operations (addition, subtraction, multiplication,division) based on user input."
   ]
  },
  {
   "cell_type": "code",
   "execution_count": 18,
   "id": "cbe97899-72f2-4147-80e8-79f853ecb1ad",
   "metadata": {},
   "outputs": [
    {
     "name": "stdin",
     "output_type": "stream",
     "text": [
      "enter a number 1 =  3\n",
      "enter an operator =  /\n",
      "enter a number 2 =  0\n"
     ]
    },
    {
     "name": "stdout",
     "output_type": "stream",
     "text": [
      "following float division by zero error occur\n"
     ]
    }
   ],
   "source": [
    "num1 = float(input(\"enter a number 1 = \"))\n",
    "operator = input(\"enter an operator = \")\n",
    "num2 = float(input(\"enter a number 2 = \"))\n",
    "match operator:\n",
    "    case '+':\n",
    "        print(f\"sum is = {num1+num2}\")\n",
    "    case '-':\n",
    "        print(f\"sub is = {num1-num2}\")\n",
    "    case '*':\n",
    "        print(f\"mul is = {num1*num2}\")\n",
    "    case '/':\n",
    "        try:\n",
    "            print(f\"div is = {num1/num2}\")\n",
    "        except Exception as e:\n",
    "            print(f\"following {e} error occur\")\n",
    "    case _:\n",
    "        print(\"invalid operator\")\n",
    "        "
   ]
  },
  {
   "cell_type": "markdown",
   "id": "8cb06f10-2527-472e-9cf6-84159e579616",
   "metadata": {},
   "source": [
    "Task # 05 : Write a program to find the largest of three numbers"
   ]
  },
  {
   "cell_type": "code",
   "execution_count": 23,
   "id": "e35553b1-b715-434b-be3a-e177306b2ca7",
   "metadata": {},
   "outputs": [
    {
     "name": "stdin",
     "output_type": "stream",
     "text": [
      "enter number 1 =  1\n",
      "enter number 2 =  1\n",
      "enter number 3 =  1\n"
     ]
    },
    {
     "name": "stdout",
     "output_type": "stream",
     "text": [
      "all are equal\n"
     ]
    }
   ],
   "source": [
    "num1 = int(input(\"enter number 1 = \"))\n",
    "num2 = int(input(\"enter number 2 = \"))\n",
    "num3 = int(input(\"enter number 3 = \"))\n",
    "if(num1 > num2 and num1 > num3):\n",
    "    print(\"number 1 is greater\")\n",
    "elif(num2 > num1 and num2 > num3):\n",
    "    print(\"number 2 is greater\")\n",
    "elif(num3 > num1 and num3 > num2):\n",
    "    print(\"number 3 is greater\")\n",
    "else:\n",
    "    print(\"all are equal\")"
   ]
  },
  {
   "cell_type": "markdown",
   "id": "422d0cb2-de40-43df-a3d6-0c494fe5478d",
   "metadata": {},
   "source": [
    "Task # 06: Write a program that takes a string from the user and prints it in reverse"
   ]
  },
  {
   "cell_type": "code",
   "execution_count": 20,
   "id": "d28148c1-cf83-4902-9960-30aaaecb4f33",
   "metadata": {},
   "outputs": [
    {
     "name": "stdin",
     "output_type": "stream",
     "text": [
      "enter the string =  hello\n"
     ]
    },
    {
     "name": "stdout",
     "output_type": "stream",
     "text": [
      "reverse string is = olleh\n"
     ]
    }
   ],
   "source": [
    "string_to_be_reversed = input(\"enter the string = \")\n",
    "reverse = string_to_be_reversed[::-1]\n",
    "print(f\"reverse string is = {reverse}\")"
   ]
  },
  {
   "cell_type": "markdown",
   "id": "bb425bf8-788e-4474-8d30-54823d0c18c3",
   "metadata": {},
   "source": [
    "Task # 07:  Write a program that counts the number of vowels in a given string"
   ]
  },
  {
   "cell_type": "code",
   "execution_count": 12,
   "id": "bae1c910-4a09-4ed8-af62-dc7b7f2080aa",
   "metadata": {},
   "outputs": [
    {
     "name": "stdin",
     "output_type": "stream",
     "text": [
      "enter a sentence/word =  syed shahir\n"
     ]
    },
    {
     "name": "stdout",
     "output_type": "stream",
     "text": [
      "number of vowels = 3\n"
     ]
    }
   ],
   "source": [
    "count = 0\n",
    "vowels_to_be_counted = input(\"enter a sentence/word = \").lower()\n",
    "size = len(vowels_to_be_counted)\n",
    "for i in range(0,size):\n",
    "    if(vowels_to_be_counted[i] in ['a','e','i','o','u']):\n",
    "        count += 1\n",
    "print(f\"number of vowels = {count}\")"
   ]
  },
  {
   "cell_type": "markdown",
   "id": "4d2eb421-4e98-48b7-ba98-d4570b99717e",
   "metadata": {},
   "source": [
    "Task # 08: Write a program to print the Fibonacci sequence up to n terms."
   ]
  },
  {
   "cell_type": "code",
   "execution_count": 17,
   "id": "e1094d2e-ba37-4804-83f9-4531ab0b399e",
   "metadata": {},
   "outputs": [
    {
     "name": "stdin",
     "output_type": "stream",
     "text": [
      "enter number of elements required =  5\n"
     ]
    },
    {
     "data": {
      "text/plain": [
       "[0, 1, 1, 2, 3]"
      ]
     },
     "execution_count": 17,
     "metadata": {},
     "output_type": "execute_result"
    }
   ],
   "source": [
    "n = int(input(\"enter number of elements required = \"))\n",
    "sequence = []\n",
    "for i in range(0,n):\n",
    "    if(i == 0 or i == 1):\n",
    "        number = i\n",
    "    else:\n",
    "        number = (sequence[i-1])+(sequence[i-2])\n",
    "    sequence.append(number)\n",
    "\n",
    "sequence"
   ]
  },
  {
   "cell_type": "markdown",
   "id": "31b1af5f-9883-4434-a242-85b04db0b1ef",
   "metadata": {},
   "source": [
    "Task # 09: Write a program to check if a given string is a palindrome."
   ]
  },
  {
   "cell_type": "code",
   "execution_count": 19,
   "id": "e2f816ef-866d-4e9b-be6f-03b9a35c948b",
   "metadata": {},
   "outputs": [
    {
     "name": "stdin",
     "output_type": "stream",
     "text": [
      "enter the string =  radar\n"
     ]
    },
    {
     "name": "stdout",
     "output_type": "stream",
     "text": [
      "it is palindrome\n"
     ]
    }
   ],
   "source": [
    "string_to_be_reversed = input(\"enter the string = \")\n",
    "reverse = string_to_be_reversed[::-1]\n",
    "if(reverse == string_to_be_reversed):\n",
    "    print(\"it is palindrome\")\n",
    "else:\n",
    "    print(\"it is palindrome\")"
   ]
  },
  {
   "cell_type": "code",
   "execution_count": null,
   "id": "a933329e-843d-4964-9f36-7e2415c7cf9b",
   "metadata": {},
   "outputs": [],
   "source": []
  }
 ],
 "metadata": {
  "kernelspec": {
   "display_name": "Python 3 (ipykernel)",
   "language": "python",
   "name": "python3"
  },
  "language_info": {
   "codemirror_mode": {
    "name": "ipython",
    "version": 3
   },
   "file_extension": ".py",
   "mimetype": "text/x-python",
   "name": "python",
   "nbconvert_exporter": "python",
   "pygments_lexer": "ipython3",
   "version": "3.11.9"
  }
 },
 "nbformat": 4,
 "nbformat_minor": 5
}
