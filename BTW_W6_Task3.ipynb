{
 "cells": [
  {
   "cell_type": "markdown",
   "id": "546a17d6-a6c5-411e-8080-b7c57c586a38",
   "metadata": {},
   "source": [
    "### Task # 13:\n",
    "- This is Task # 13 overall,and task 3 of Week 6\n",
    "#### Task # 03:"
   ]
  },
  {
   "cell_type": "markdown",
   "id": "2c8dc7c2-d41b-4ae9-83a3-c528a3bae12d",
   "metadata": {},
   "source": [
    "**The tasks and their solutions will be added soon inshAllah**"
   ]
  },
  {
   "cell_type": "code",
   "execution_count": null,
   "id": "a4ece0a4-e1a5-4ee6-83ab-03745ca87f2a",
   "metadata": {},
   "outputs": [],
   "source": []
  }
 ],
 "metadata": {
  "kernelspec": {
   "display_name": "Python 3 (ipykernel)",
   "language": "python",
   "name": "python3"
  },
  "language_info": {
   "codemirror_mode": {
    "name": "ipython",
    "version": 3
   },
   "file_extension": ".py",
   "mimetype": "text/x-python",
   "name": "python",
   "nbconvert_exporter": "python",
   "pygments_lexer": "ipython3",
   "version": "3.11.9"
  }
 },
 "nbformat": 4,
 "nbformat_minor": 5
}
