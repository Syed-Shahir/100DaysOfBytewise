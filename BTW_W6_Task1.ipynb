{
 "cells": [
  {
   "cell_type": "markdown",
   "id": "26a08d84-0e97-4b1f-87d9-bd1151c6d3d9",
   "metadata": {},
   "source": [
    "**The solution to the mentioned tasks will be added soon inshAllah**"
   ]
  },
  {
   "cell_type": "markdown",
   "id": "b883702a-32ab-4fff-8c35-1c035936c973",
   "metadata": {},
   "source": [
    "### Task # 11:\n",
    "- This is Task # 11 overall, and Task 1 of Week 6\n",
    "### Task # 01:"
   ]
  },
  {
   "cell_type": "code",
   "execution_count": 2,
   "id": "af0b5261-882e-4f59-802b-237a13a11487",
   "metadata": {},
   "outputs": [],
   "source": [
    "#importing common libraries \n",
    "import pandas as pd\n",
    "import numpy as np\n",
    "import matplotlib.pyplot as plt\n",
    "import seaborn as sns"
   ]
  },
  {
   "cell_type": "markdown",
   "id": "847e1fe8-1d83-41bb-b143-584b31d6c0f0",
   "metadata": {},
   "source": [
    "### Problem 1.1:\n",
    "Predicting Diabetes Onset Using Logistic Regression\n",
    "Dataset:\n",
    "- Diabetes Dataset\n",
    "\n",
    "Preprocessing Steps:\n",
    "- Handle missing values if any.\n",
    "- Standardize features.\n",
    "- Encode categorical variables if any.\n",
    "\n",
    "Task:\n",
    "- Implement logistic regression to predict diabetes onset and evaluate the model using\n",
    "accuracy, precision, and recall."
   ]
  },
  {
   "cell_type": "code",
   "execution_count": 7,
   "id": "d29b2a90-a14b-4635-919b-4e36efaca086",
   "metadata": {},
   "outputs": [
    {
     "name": "stdout",
     "output_type": "stream",
     "text": [
      "   Pregnancies  Glucose  BloodPressure  SkinThickness  Insulin   BMI  \\\n",
      "0            6      148             72             35        0  33.6   \n",
      "1            1       85             66             29        0  26.6   \n",
      "2            8      183             64              0        0  23.3   \n",
      "3            1       89             66             23       94  28.1   \n",
      "4            0      137             40             35      168  43.1   \n",
      "\n",
      "   DiabetesPedigreeFunction  Age  Outcome  \n",
      "0                     0.627   50        1  \n",
      "1                     0.351   31        0  \n",
      "2                     0.672   32        1  \n",
      "3                     0.167   21        0  \n",
      "4                     2.288   33        1  \n",
      "Pregnancies                 0\n",
      "Glucose                     0\n",
      "BloodPressure               0\n",
      "SkinThickness               0\n",
      "Insulin                     0\n",
      "BMI                         0\n",
      "DiabetesPedigreeFunction    0\n",
      "Age                         0\n",
      "Outcome                     0\n",
      "dtype: int64\n"
     ]
    }
   ],
   "source": [
    "#importing the dataset\n",
    "file_path = 'diabetes.csv'\n",
    "diabetes_df = pd.read_csv(file_path)\n",
    "\n",
    "print(diabetes_df.head(5))\n",
    "\n",
    "#also we will check if there is any null value\n",
    "print(diabetes_df.isnull().sum())"
   ]
  },
  {
   "cell_type": "code",
   "execution_count": null,
   "id": "ba6fa5a1-4a75-4aa0-a382-d5c7b96e4a42",
   "metadata": {},
   "outputs": [],
   "source": [
    "#so we dont have any null values so lets move forward\n"
   ]
  },
  {
   "cell_type": "code",
   "execution_count": null,
   "id": "6eeda08d-73ce-4dbb-8099-414fe1f91d74",
   "metadata": {},
   "outputs": [],
   "source": []
  },
  {
   "cell_type": "markdown",
   "id": "c957e930-7c3b-44ae-ab64-277dbcd2a9e1",
   "metadata": {},
   "source": [
    "#### Problem 1.2:\n",
    "Classifying Iris Species Using Decision Trees\n",
    "Dataset:\n",
    "- Iris Dataset\n",
    "\n",
    "Preprocessing Steps:\n",
    "- Handle missing values if any.\n",
    "- Standardize features.\n",
    "- Encode categorical variables if any.\n",
    "\n",
    "Task:\n",
    "- Implement a decision tree classifier to classify iris species and evaluate the model\n",
    "using confusion matrix and accuracy."
   ]
  },
  {
   "cell_type": "code",
   "execution_count": null,
   "id": "8830dbcc-e7e1-4668-8ae8-97ba5e257ca5",
   "metadata": {},
   "outputs": [],
   "source": []
  },
  {
   "cell_type": "markdown",
   "id": "a2019922-2519-4a61-ba14-0b821836ef4b",
   "metadata": {},
   "source": [
    "#### Problem 1.3:\n",
    "Predicting Titanic Survival Using Logistic Regression\n",
    "Dataset:\n",
    "- Titanic Dataset\n",
    "\n",
    "Preprocessing Steps:\n",
    "- Handle missing values (e.g., fill missing ages with median).\n",
    "- Encode categorical variables (e.g., one-hot encoding for embarked and gender).\n",
    "- Standardize numerical features.\n",
    "\n",
    "Task:\n",
    "- Implement logistic regression to predict survival on the Titanic and evaluate the\n",
    "model using ROC-AUC."
   ]
  },
  {
   "cell_type": "code",
   "execution_count": null,
   "id": "d67c84a0-a284-42d0-96d1-ae33337c5122",
   "metadata": {},
   "outputs": [],
   "source": []
  },
  {
   "cell_type": "markdown",
   "id": "b2dba118-2304-4bea-b2ba-1bfd91e37c6e",
   "metadata": {},
   "source": [
    "#### Problem 1.4:\n",
    "Classifying Emails as Spam Using Decision Trees\n",
    "Dataset:\n",
    "- Spam Email Dataset\n",
    "\n",
    "Preprocessing Steps:\n",
    "- Handle missing values if any.\n",
    "- Standardize features.\n",
    "- Encode categorical variables if present.\n",
    "\n",
    "Task:\n",
    "- Implement a decision tree classifier to classify emails as spam or not and evaluate\n",
    "the model using precision, recall, and F1-score."
   ]
  },
  {
   "cell_type": "code",
   "execution_count": null,
   "id": "4d5fa255-d38a-4ad0-8b92-438e818cfb18",
   "metadata": {},
   "outputs": [],
   "source": []
  },
  {
   "cell_type": "markdown",
   "id": "143344bc-6499-4b3e-a3af-4ea05490e130",
   "metadata": {},
   "source": [
    "#### Problem 1.5:\n",
    "Predicting Customer Satisfaction Using Logistic Regression\n",
    "Dataset:\n",
    "- Customer Satisfaction Dataset\n",
    "\n",
    "Preprocessing Steps:\n",
    "- Handle missing values (e.g., fill missing values with median).\n",
    "- Encode categorical variables (e.g., one-hot encoding for region).\n",
    "- Standardize numerical features.\n",
    "                                \n",
    "Task:\n",
    "- Implement logistic regression to predict customer satisfaction and evaluate the model\n",
    "using accuracy and confusion matrix"
   ]
  },
  {
   "cell_type": "code",
   "execution_count": null,
   "id": "e6f075a2-8a2c-47c8-9408-96eef2dcc527",
   "metadata": {},
   "outputs": [],
   "source": []
  }
 ],
 "metadata": {
  "kernelspec": {
   "display_name": "Python 3 (ipykernel)",
   "language": "python",
   "name": "python3"
  },
  "language_info": {
   "codemirror_mode": {
    "name": "ipython",
    "version": 3
   },
   "file_extension": ".py",
   "mimetype": "text/x-python",
   "name": "python",
   "nbconvert_exporter": "python",
   "pygments_lexer": "ipython3",
   "version": "3.11.9"
  }
 },
 "nbformat": 4,
 "nbformat_minor": 5
}
