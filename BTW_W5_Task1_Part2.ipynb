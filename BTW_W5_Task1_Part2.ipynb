{
 "cells": [
  {
   "cell_type": "markdown",
   "id": "8a3ce7df-e760-4f28-b41a-9c6e81f2463a",
   "metadata": {},
   "source": [
    "### Part 2 of Task 1\n",
    "- This notebook contains the remainig tasks "
   ]
  },
  {
   "cell_type": "markdown",
   "id": "983d7d49-042c-4fba-8b2c-e7571901f11e",
   "metadata": {},
   "source": [
    "### Task # 1.6:\n",
    "Feature Engineering in the Heart Disease Dataset\r\n",
    "- Task: Create new features from existing ones in the Heart Disease dataset, such as age\r\n",
    "groups, cholesterol levels, and more.\r\n",
    "- Dataset: Heart Disease Dataset"
   ]
  },
  {
   "cell_type": "code",
   "execution_count": null,
   "id": "c5fb8387-675e-4834-9191-cd7689a79186",
   "metadata": {},
   "outputs": [],
   "source": []
  },
  {
   "cell_type": "markdown",
   "id": "fb54c990-17c8-495b-ba9a-e1835522d45e",
   "metadata": {},
   "source": [
    "### Task # 1.7:\n",
    ". Transforming Variables in the Bike Sharing Dataset\r\n",
    "- Task: Apply transformations like log, square root, and Box-Cox transformations to skewed\r\n",
    "variables in the Bike Sharing dataset.\r\n",
    "- Dataset: Bike Sharing Dataset\r"
   ]
  },
  {
   "cell_type": "code",
   "execution_count": null,
   "id": "60d9652d-a1aa-4aad-aa6f-35dcb2700e4d",
   "metadata": {},
   "outputs": [],
   "source": []
  },
  {
   "cell_type": "markdown",
   "id": "879ab20f-77bb-4dbe-823b-2794d73e434b",
   "metadata": {},
   "source": [
    "### Task # 1.8:\n",
    "Feature Selection in the Diabetes Dataset\r\n",
    "- Task: Use techniques like correlation analysis, mutual information, and recursive feature\r\n",
    "elimination (RFE) to select important features in the Diabetes dataset.\r\n",
    "- Dataset: Diabetes Dataset"
   ]
  },
  {
   "cell_type": "code",
   "execution_count": null,
   "id": "0718f61a-a2ee-442e-92d6-ccbb205b4ada",
   "metadata": {},
   "outputs": [],
   "source": []
  },
  {
   "cell_type": "markdown",
   "id": "3ff67029-1a74-4006-91c0-b45b5223adec",
   "metadata": {},
   "source": [
    "### Task # 1.9:\n",
    "Dealing with Imbalanced Data in the Credit Card Fraud Detection Dataset\r\n",
    "- Task: Handle imbalanced data in the Credit Card Fraud Detection dataset using\r\n",
    "techniques like SMOTE, ADASYN, and undersampling.\r\n",
    "- Dataset: Credit Card Fraud Detection Dataset\r"
   ]
  },
  {
   "cell_type": "code",
   "execution_count": null,
   "id": "287a352e-40e0-4d8e-a5d9-8f20f7e8dfea",
   "metadata": {},
   "outputs": [],
   "source": []
  },
  {
   "cell_type": "markdown",
   "id": "05b7b16e-425d-494d-b531-0e024c5e7f1d",
   "metadata": {},
   "source": [
    "### Task # 1.10:\n",
    ". Combining Multiple Datasets in the Movie Lens Dataset\r\n",
    "- Task: Combine and preprocess multiple related datasets from the Movie Lens dataset,\r\n",
    "such as ratings, user information, and movie metadata.\r\n",
    "- Dataset: Movie Lens Dataset"
   ]
  },
  {
   "cell_type": "code",
   "execution_count": null,
   "id": "1df6717d-d0dc-414c-81d6-563f0427db62",
   "metadata": {},
   "outputs": [],
   "source": []
  }
 ],
 "metadata": {
  "kernelspec": {
   "display_name": "Python 3 (ipykernel)",
   "language": "python",
   "name": "python3"
  },
  "language_info": {
   "codemirror_mode": {
    "name": "ipython",
    "version": 3
   },
   "file_extension": ".py",
   "mimetype": "text/x-python",
   "name": "python",
   "nbconvert_exporter": "python",
   "pygments_lexer": "ipython3",
   "version": "3.11.9"
  }
 },
 "nbformat": 4,
 "nbformat_minor": 5
}
