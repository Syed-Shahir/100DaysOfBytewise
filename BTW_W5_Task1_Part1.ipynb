{
 "cells": [
  {
   "cell_type": "markdown",
   "id": "6988d050-db7b-4d20-bc5a-9262d60ce44f",
   "metadata": {},
   "source": [
    "## Task #10\n",
    "- This is Task 10 overall and Task 1 of Week 5\n",
    "### Task # 01\n",
    "- This notebook will be lengthy as this task will consist of working on different datasets"
   ]
  },
  {
   "cell_type": "code",
   "execution_count": 1,
   "id": "4ad5a855-5e40-41f7-83f0-45eabafbf3a7",
   "metadata": {},
   "outputs": [],
   "source": [
    "#importing libraries , some libraries might be imported later based on the use case\n",
    "import pandas as pd\n",
    "import numpy as np\n",
    "import matplotlib.pyplot as plt\n",
    "import seaborn as sns"
   ]
  },
  {
   "cell_type": "markdown",
   "id": "dc1c6e7a-6c37-41fa-9a10-307fa9f503a8",
   "metadata": {},
   "source": [
    "#### Task # 1.1:\n",
    "- Handling Missing Data in Titanic Dataset\r\n",
    "- Task :Identify and handle missing values in the Titanic dataset. Experiment with different\r\n",
    "strategies such as mean/median imputation, mode imputation, and dropping rows/columns.\r\n",
    "- Dataset: Titanic Dataset"
   ]
  },
  {
   "cell_type": "code",
   "execution_count": 5,
   "id": "d17f8713-1cb9-4b05-a040-7d7baa5b6921",
   "metadata": {},
   "outputs": [
    {
     "data": {
      "text/html": [
       "<div>\n",
       "<style scoped>\n",
       "    .dataframe tbody tr th:only-of-type {\n",
       "        vertical-align: middle;\n",
       "    }\n",
       "\n",
       "    .dataframe tbody tr th {\n",
       "        vertical-align: top;\n",
       "    }\n",
       "\n",
       "    .dataframe thead th {\n",
       "        text-align: right;\n",
       "    }\n",
       "</style>\n",
       "<table border=\"1\" class=\"dataframe\">\n",
       "  <thead>\n",
       "    <tr style=\"text-align: right;\">\n",
       "      <th></th>\n",
       "      <th>PassengerId</th>\n",
       "      <th>Survived</th>\n",
       "      <th>Pclass</th>\n",
       "      <th>Name</th>\n",
       "      <th>Sex</th>\n",
       "      <th>Age</th>\n",
       "      <th>SibSp</th>\n",
       "      <th>Parch</th>\n",
       "      <th>Ticket</th>\n",
       "      <th>Fare</th>\n",
       "      <th>Cabin</th>\n",
       "      <th>Embarked</th>\n",
       "    </tr>\n",
       "  </thead>\n",
       "  <tbody>\n",
       "    <tr>\n",
       "      <th>0</th>\n",
       "      <td>1</td>\n",
       "      <td>0</td>\n",
       "      <td>3</td>\n",
       "      <td>Braund, Mr. Owen Harris</td>\n",
       "      <td>male</td>\n",
       "      <td>22.0</td>\n",
       "      <td>1</td>\n",
       "      <td>0</td>\n",
       "      <td>A/5 21171</td>\n",
       "      <td>7.2500</td>\n",
       "      <td>NaN</td>\n",
       "      <td>S</td>\n",
       "    </tr>\n",
       "    <tr>\n",
       "      <th>1</th>\n",
       "      <td>2</td>\n",
       "      <td>1</td>\n",
       "      <td>1</td>\n",
       "      <td>Cumings, Mrs. John Bradley (Florence Briggs Th...</td>\n",
       "      <td>female</td>\n",
       "      <td>38.0</td>\n",
       "      <td>1</td>\n",
       "      <td>0</td>\n",
       "      <td>PC 17599</td>\n",
       "      <td>71.2833</td>\n",
       "      <td>C85</td>\n",
       "      <td>C</td>\n",
       "    </tr>\n",
       "  </tbody>\n",
       "</table>\n",
       "</div>"
      ],
      "text/plain": [
       "   PassengerId  Survived  Pclass  \\\n",
       "0            1         0       3   \n",
       "1            2         1       1   \n",
       "\n",
       "                                                Name     Sex   Age  SibSp  \\\n",
       "0                            Braund, Mr. Owen Harris    male  22.0      1   \n",
       "1  Cumings, Mrs. John Bradley (Florence Briggs Th...  female  38.0      1   \n",
       "\n",
       "   Parch     Ticket     Fare Cabin Embarked  \n",
       "0      0  A/5 21171   7.2500   NaN        S  \n",
       "1      0   PC 17599  71.2833   C85        C  "
      ]
     },
     "execution_count": 5,
     "metadata": {},
     "output_type": "execute_result"
    }
   ],
   "source": [
    "#importing the data set from local machine\n",
    "file_path = 'titanic.csv'\n",
    "titanic_df = pd.read_csv(file_path)\n",
    "#check dataset \n",
    "titanic_df.head(2)"
   ]
  },
  {
   "cell_type": "code",
   "execution_count": 6,
   "id": "2821ce6d-af56-4299-aafa-7b36b482b1a2",
   "metadata": {},
   "outputs": [
    {
     "data": {
      "text/plain": [
       "PassengerId     0.000000\n",
       "Survived        0.000000\n",
       "Pclass          0.000000\n",
       "Name            0.000000\n",
       "Sex             0.000000\n",
       "Age            19.865320\n",
       "SibSp           0.000000\n",
       "Parch           0.000000\n",
       "Ticket          0.000000\n",
       "Fare            0.000000\n",
       "Cabin          77.104377\n",
       "Embarked        0.224467\n",
       "dtype: float64"
      ]
     },
     "execution_count": 6,
     "metadata": {},
     "output_type": "execute_result"
    }
   ],
   "source": [
    "#checking if there are any null values , we will check the null values if they exist we will also calculate its percentage\n",
    "titanic_df.isnull().sum()/titanic_df.shape[0]*100"
   ]
  },
  {
   "cell_type": "markdown",
   "id": "145c6f1c-acca-4628-ae9c-7fcdcde37d02",
   "metadata": {},
   "source": [
    "- if we analyze the above output the Cabin has Null values more than 50% so its better to drop , but looking at Age and Embarked we can opt for imputing technique\n",
    "- Lets first check the nature of data , the age has numerical data so lets look at its distribution and Embarked is categorical so we will use Mode for it"
   ]
  },
  {
   "cell_type": "code",
   "execution_count": 7,
   "id": "9ff59cee-ddd2-44bf-b2d2-123583967432",
   "metadata": {},
   "outputs": [
    {
     "data": {
      "image/png": "[encoded data removed]",
      "text/plain": [
       "<Figure size 600x300 with 1 Axes>"
      ]
     },
     "metadata": {},
     "output_type": "display_data"
    }
   ],
   "source": [
    "#distribution of Age \n",
    "sns.displot(titanic_df['Age'], height=3, aspect=2, kde=True)\n",
    "plt.show()"
   ]
  },
  {
   "cell_type": "markdown",
   "id": "fc4136b7-7cab-4e2b-a7a4-c30644eab197",
   "metadata": {},
   "source": [
    "- we can see that the distribution is not in skew format , so we will use mean for age , while for Embarked we will use Mode"
   ]
  },
  {
   "cell_type": "code",
   "execution_count": 8,
   "id": "bf4c5e39-33aa-4344-ae83-9c33d643e108",
   "metadata": {},
   "outputs": [],
   "source": [
    "#creating copy of dataset for altering purpose\n",
    "\n",
    "titanic_df_2 = titanic_df.copy()\n",
    "\n",
    "#dropping Cabin column\n",
    "titanic_df.drop('Cabin', axis=1,inplace=True)\n",
    "\n",
    "# Replacing with Mean\n",
    "titanic_df['Age'] = titanic_df['Age'].fillna(titanic_df['Age'].mean())\n",
    "\n",
    "# Replacing with mode\n",
    "titanic_df['Embarked'] = titanic_df['Embarked'].fillna(titanic_df['Embarked'].mode()[0])\n"
   ]
  },
  {
   "cell_type": "code",
   "execution_count": 9,
   "id": "46ddc35e-431e-467c-bab6-5a4c925cdba8",
   "metadata": {},
   "outputs": [
    {
     "data": {
      "text/plain": [
       "PassengerId    0\n",
       "Survived       0\n",
       "Pclass         0\n",
       "Name           0\n",
       "Sex            0\n",
       "Age            0\n",
       "SibSp          0\n",
       "Parch          0\n",
       "Ticket         0\n",
       "Fare           0\n",
       "Embarked       0\n",
       "dtype: int64"
      ]
     },
     "execution_count": 9,
     "metadata": {},
     "output_type": "execute_result"
    }
   ],
   "source": [
    "#verification of NULL values\n",
    "titanic_df.isnull().sum()"
   ]
  },
  {
   "cell_type": "markdown",
   "id": "b87abab3-7025-45b5-8f8e-c494986b973f",
   "metadata": {},
   "source": [
    "- Based on the above output we see that we have successfully handled the Null values in the give dataset"
   ]
  },
  {
   "cell_type": "markdown",
   "id": "61f36ebf-8e73-4923-b616-468823cc719c",
   "metadata": {},
   "source": [
    "#### Task 1.2:\n",
    "Encoding Categorical Variables in a Car Evaluation Dataset\r\n",
    "- Task: Encode categorical variables in the Car Evaluation dataset using one-hot encoding\r\n",
    "and label encoding. Compare the results.\r\n",
    "- Dataset: Car Evaluation Dataset\r"
   ]
  },
  {
   "cell_type": "code",
   "execution_count": 10,
   "id": "2b7c119b-97d2-425e-aa7e-a8b2db8f6a0b",
   "metadata": {},
   "outputs": [],
   "source": [
    "from ucimlrepo import fetch_ucirepo \n",
    "  \n",
    "# fetch dataset \n",
    "car_evaluation = fetch_ucirepo(id=19) \n",
    "  \n",
    "# Converting features to pandas DataFrame\n",
    "car_eva_df = pd.DataFrame(car_evaluation.data.features, columns=car_evaluation.feature_names)\n",
    "car_eva_df['Target'] = car_evaluation.data.targets"
   ]
  },
  {
   "cell_type": "code",
   "execution_count": 11,
   "id": "4434c4ab-df00-494d-9055-29161bc51b73",
   "metadata": {},
   "outputs": [
    {
     "data": {
      "text/html": [
       "<div>\n",
       "<style scoped>\n",
       "    .dataframe tbody tr th:only-of-type {\n",
       "        vertical-align: middle;\n",
       "    }\n",
       "\n",
       "    .dataframe tbody tr th {\n",
       "        vertical-align: top;\n",
       "    }\n",
       "\n",
       "    .dataframe thead th {\n",
       "        text-align: right;\n",
       "    }\n",
       "</style>\n",
       "<table border=\"1\" class=\"dataframe\">\n",
       "  <thead>\n",
       "    <tr style=\"text-align: right;\">\n",
       "      <th></th>\n",
       "      <th>buying</th>\n",
       "      <th>maint</th>\n",
       "      <th>doors</th>\n",
       "      <th>persons</th>\n",
       "      <th>lug_boot</th>\n",
       "      <th>safety</th>\n",
       "      <th>Target</th>\n",
       "    </tr>\n",
       "  </thead>\n",
       "  <tbody>\n",
       "    <tr>\n",
       "      <th>0</th>\n",
       "      <td>vhigh</td>\n",
       "      <td>vhigh</td>\n",
       "      <td>2</td>\n",
       "      <td>2</td>\n",
       "      <td>small</td>\n",
       "      <td>low</td>\n",
       "      <td>unacc</td>\n",
       "    </tr>\n",
       "    <tr>\n",
       "      <th>1</th>\n",
       "      <td>vhigh</td>\n",
       "      <td>vhigh</td>\n",
       "      <td>2</td>\n",
       "      <td>2</td>\n",
       "      <td>small</td>\n",
       "      <td>med</td>\n",
       "      <td>unacc</td>\n",
       "    </tr>\n",
       "  </tbody>\n",
       "</table>\n",
       "</div>"
      ],
      "text/plain": [
       "  buying  maint doors persons lug_boot safety Target\n",
       "0  vhigh  vhigh     2       2    small    low  unacc\n",
       "1  vhigh  vhigh     2       2    small    med  unacc"
      ]
     },
     "execution_count": 11,
     "metadata": {},
     "output_type": "execute_result"
    }
   ],
   "source": [
    "#checking the data set\n",
    "car_eva_df.head(2)"
   ]
  },
  {
   "cell_type": "markdown",
   "id": "c542f44d-c833-4dc9-b182-217b07bbab5d",
   "metadata": {},
   "source": [
    "### Label Encoding"
   ]
  },
  {
   "cell_type": "code",
   "execution_count": 12,
   "id": "67e4cae5-b034-435e-8efa-0184a7ac177b",
   "metadata": {},
   "outputs": [
    {
     "name": "stdout",
     "output_type": "stream",
     "text": [
      "Target Before encoding\n",
      "Target\n",
      "unacc    1210\n",
      "acc       384\n",
      "good       69\n",
      "vgood      65\n",
      "Name: count, dtype: int64\n",
      "Target After encoding\n",
      "{0, 1, 2, 3}\n"
     ]
    },
    {
     "data": {
      "text/html": [
       "<div>\n",
       "<style scoped>\n",
       "    .dataframe tbody tr th:only-of-type {\n",
       "        vertical-align: middle;\n",
       "    }\n",
       "\n",
       "    .dataframe tbody tr th {\n",
       "        vertical-align: top;\n",
       "    }\n",
       "\n",
       "    .dataframe thead th {\n",
       "        text-align: right;\n",
       "    }\n",
       "</style>\n",
       "<table border=\"1\" class=\"dataframe\">\n",
       "  <thead>\n",
       "    <tr style=\"text-align: right;\">\n",
       "      <th></th>\n",
       "      <th>buying</th>\n",
       "      <th>maint</th>\n",
       "      <th>doors</th>\n",
       "      <th>persons</th>\n",
       "      <th>lug_boot</th>\n",
       "      <th>safety</th>\n",
       "      <th>Target</th>\n",
       "    </tr>\n",
       "  </thead>\n",
       "  <tbody>\n",
       "    <tr>\n",
       "      <th>0</th>\n",
       "      <td>vhigh</td>\n",
       "      <td>vhigh</td>\n",
       "      <td>2</td>\n",
       "      <td>2</td>\n",
       "      <td>small</td>\n",
       "      <td>low</td>\n",
       "      <td>2</td>\n",
       "    </tr>\n",
       "    <tr>\n",
       "      <th>1</th>\n",
       "      <td>vhigh</td>\n",
       "      <td>vhigh</td>\n",
       "      <td>2</td>\n",
       "      <td>2</td>\n",
       "      <td>small</td>\n",
       "      <td>med</td>\n",
       "      <td>2</td>\n",
       "    </tr>\n",
       "    <tr>\n",
       "      <th>2</th>\n",
       "      <td>vhigh</td>\n",
       "      <td>vhigh</td>\n",
       "      <td>2</td>\n",
       "      <td>2</td>\n",
       "      <td>small</td>\n",
       "      <td>high</td>\n",
       "      <td>2</td>\n",
       "    </tr>\n",
       "  </tbody>\n",
       "</table>\n",
       "</div>"
      ],
      "text/plain": [
       "  buying  maint doors persons lug_boot safety  Target\n",
       "0  vhigh  vhigh     2       2    small    low       2\n",
       "1  vhigh  vhigh     2       2    small    med       2\n",
       "2  vhigh  vhigh     2       2    small   high       2"
      ]
     },
     "execution_count": 12,
     "metadata": {},
     "output_type": "execute_result"
    }
   ],
   "source": [
    "#for our task we will use target variable and then analyze the outputs of both encoding techniques\n",
    "#importing necessary library\n",
    "from sklearn.preprocessing import LabelEncoder\n",
    "\n",
    "Y = car_eva_df['Target']\n",
    "# Applying label encoding\n",
    "\n",
    "label_encoder = LabelEncoder()\n",
    "Y_encoded = label_encoder.fit_transform(Y)\n",
    "print(\"Target Before encoding\")\n",
    "print(Y.value_counts())\n",
    "print(\"Target After encoding\")\n",
    "print(set(Y_encoded))\n",
    "\n",
    "#now lets create a dataframe with label encoding \n",
    "label_car_df = car_eva_df.copy() #creating copy\n",
    "label_car_df['Target'] = Y_encoded\n",
    "label_car_df.head(3)"
   ]
  },
  {
   "cell_type": "markdown",
   "id": "bb9c26ec-5e81-410e-bc39-efc3994249e8",
   "metadata": {},
   "source": [
    "### One Hot Encoding"
   ]
  },
  {
   "cell_type": "code",
   "execution_count": 13,
   "id": "97648fbf-3e58-44a9-b27f-14210daf7451",
   "metadata": {},
   "outputs": [
    {
     "name": "stdout",
     "output_type": "stream",
     "text": [
      "\n",
      "Updated DataFrame with One-Hot Encoded Target:\n"
     ]
    },
    {
     "data": {
      "text/html": [
       "<div>\n",
       "<style scoped>\n",
       "    .dataframe tbody tr th:only-of-type {\n",
       "        vertical-align: middle;\n",
       "    }\n",
       "\n",
       "    .dataframe tbody tr th {\n",
       "        vertical-align: top;\n",
       "    }\n",
       "\n",
       "    .dataframe thead th {\n",
       "        text-align: right;\n",
       "    }\n",
       "</style>\n",
       "<table border=\"1\" class=\"dataframe\">\n",
       "  <thead>\n",
       "    <tr style=\"text-align: right;\">\n",
       "      <th></th>\n",
       "      <th>buying</th>\n",
       "      <th>maint</th>\n",
       "      <th>doors</th>\n",
       "      <th>persons</th>\n",
       "      <th>lug_boot</th>\n",
       "      <th>safety</th>\n",
       "      <th>Target_acc</th>\n",
       "      <th>Target_good</th>\n",
       "      <th>Target_unacc</th>\n",
       "      <th>Target_vgood</th>\n",
       "    </tr>\n",
       "  </thead>\n",
       "  <tbody>\n",
       "    <tr>\n",
       "      <th>0</th>\n",
       "      <td>vhigh</td>\n",
       "      <td>vhigh</td>\n",
       "      <td>2</td>\n",
       "      <td>2</td>\n",
       "      <td>small</td>\n",
       "      <td>low</td>\n",
       "      <td>0.0</td>\n",
       "      <td>0.0</td>\n",
       "      <td>1.0</td>\n",
       "      <td>0.0</td>\n",
       "    </tr>\n",
       "    <tr>\n",
       "      <th>1</th>\n",
       "      <td>vhigh</td>\n",
       "      <td>vhigh</td>\n",
       "      <td>2</td>\n",
       "      <td>2</td>\n",
       "      <td>small</td>\n",
       "      <td>med</td>\n",
       "      <td>0.0</td>\n",
       "      <td>0.0</td>\n",
       "      <td>1.0</td>\n",
       "      <td>0.0</td>\n",
       "    </tr>\n",
       "    <tr>\n",
       "      <th>2</th>\n",
       "      <td>vhigh</td>\n",
       "      <td>vhigh</td>\n",
       "      <td>2</td>\n",
       "      <td>2</td>\n",
       "      <td>small</td>\n",
       "      <td>high</td>\n",
       "      <td>0.0</td>\n",
       "      <td>0.0</td>\n",
       "      <td>1.0</td>\n",
       "      <td>0.0</td>\n",
       "    </tr>\n",
       "    <tr>\n",
       "      <th>3</th>\n",
       "      <td>vhigh</td>\n",
       "      <td>vhigh</td>\n",
       "      <td>2</td>\n",
       "      <td>2</td>\n",
       "      <td>med</td>\n",
       "      <td>low</td>\n",
       "      <td>0.0</td>\n",
       "      <td>0.0</td>\n",
       "      <td>1.0</td>\n",
       "      <td>0.0</td>\n",
       "    </tr>\n",
       "    <tr>\n",
       "      <th>4</th>\n",
       "      <td>vhigh</td>\n",
       "      <td>vhigh</td>\n",
       "      <td>2</td>\n",
       "      <td>2</td>\n",
       "      <td>med</td>\n",
       "      <td>med</td>\n",
       "      <td>0.0</td>\n",
       "      <td>0.0</td>\n",
       "      <td>1.0</td>\n",
       "      <td>0.0</td>\n",
       "    </tr>\n",
       "  </tbody>\n",
       "</table>\n",
       "</div>"
      ],
      "text/plain": [
       "  buying  maint doors persons lug_boot safety  Target_acc  Target_good  \\\n",
       "0  vhigh  vhigh     2       2    small    low         0.0          0.0   \n",
       "1  vhigh  vhigh     2       2    small    med         0.0          0.0   \n",
       "2  vhigh  vhigh     2       2    small   high         0.0          0.0   \n",
       "3  vhigh  vhigh     2       2      med    low         0.0          0.0   \n",
       "4  vhigh  vhigh     2       2      med    med         0.0          0.0   \n",
       "\n",
       "   Target_unacc  Target_vgood  \n",
       "0           1.0           0.0  \n",
       "1           1.0           0.0  \n",
       "2           1.0           0.0  \n",
       "3           1.0           0.0  \n",
       "4           1.0           0.0  "
      ]
     },
     "execution_count": 13,
     "metadata": {},
     "output_type": "execute_result"
    }
   ],
   "source": [
    "# Importing necessary libraries\n",
    "from sklearn.preprocessing import OneHotEncoder\n",
    "\n",
    "# Assuming car_eva_df is your original DataFrame and Y is the target variable\n",
    "Y = car_eva_df['Target']\n",
    "\n",
    "# Reshaping target variable to a 2D array (necessary for OneHotEncoder)\n",
    "Y = np.array(Y).reshape(-1, 1)\n",
    "\n",
    "# Applying one-hot encoding\n",
    "one_hot_encoder = OneHotEncoder()\n",
    "Y_H_encoded = one_hot_encoder.fit_transform(Y)\n",
    "\n",
    "# Converting the encoded target to a DataFrame for better visualization\n",
    "encoded_columns = one_hot_encoder.get_feature_names_out(['Target'])\n",
    "one_hot_encoded_df = pd.DataFrame(Y_H_encoded.toarray(), columns=encoded_columns)\n",
    "\n",
    "# Ensuring the indexes match\n",
    "one_hot_encoded_df.index = car_eva_df.index\n",
    "\n",
    "# Concatenating the one-hot encoded DataFrame with the original DataFrame\n",
    "car_eva_df_one_hot = pd.concat([car_eva_df.drop('Target', axis=1), one_hot_encoded_df], axis=1)\n",
    "\n",
    "# Displaying the first few rows of the updated DataFrame\n",
    "print(\"\\nUpdated DataFrame with One-Hot Encoded Target:\")\n",
    "car_eva_df_one_hot.head()"
   ]
  },
  {
   "cell_type": "markdown",
   "id": "e880518f-3b50-43d2-b419-4134dae88f4c",
   "metadata": {},
   "source": [
    "### Analysis of both Encoding:\n",
    "- The label encoding assign the numerical values to different categories within the same variable(Column,Attribute) While the Hot encoding technique construct different columns for different categories with numerical true(1) and false(0).\n",
    "- The size of dataset remains the same in label encoding while it is expanded in hot encoding technique\n",
    "- Nominal Data: If the target variable is nominal, where the order of the categories does not matter, one-hot encoding is suitable.\n",
    "- Ordinal Data: If the target variable has ordinal data (e.g., \"low\", \"medium\", \"high\"), where the order of the categories matters, label encoding is appropriate. But the order of indexing is based on the unique categories alphabetical order(high->0 , medium->2 , low->1),Also Capital letters have more priority(high->1 , Medium->0 , low->2)\n",
    "- One-Hot Encoding converts each category into a binary vector, where only one bit is 1 (hot) and the rest are 0 (cold)\n",
    "- Each encoding technique has its advantages and limitations. Label Encoding is simple but can introduce false ordinal relationships. One-Hot Encoding avoids ordinal relationships but can lead to high-dimensional feature spaces."
   ]
  },
  {
   "cell_type": "markdown",
   "id": "332f84e1-5a92-4bc4-ae53-5a2ff48d92e3",
   "metadata": {},
   "source": [
    "### Task # 1.3\n",
    "Scaling Features in the Wine Quality Dataset\r\n",
    "- Task: Apply normalization and standardization to the features in the Wine Quality dataset.\r\n",
    "Analyze how scaling affects the distribution of data.\r\n",
    "- Dataset: Wine Quality Dataset"
   ]
  },
  {
   "cell_type": "code",
   "execution_count": 48,
   "id": "54a047a8-b461-4a0e-9129-ae21f259afe7",
   "metadata": {},
   "outputs": [
    {
     "data": {
      "text/html": [
       "<div>\n",
       "<style scoped>\n",
       "    .dataframe tbody tr th:only-of-type {\n",
       "        vertical-align: middle;\n",
       "    }\n",
       "\n",
       "    .dataframe tbody tr th {\n",
       "        vertical-align: top;\n",
       "    }\n",
       "\n",
       "    .dataframe thead th {\n",
       "        text-align: right;\n",
       "    }\n",
       "</style>\n",
       "<table border=\"1\" class=\"dataframe\">\n",
       "  <thead>\n",
       "    <tr style=\"text-align: right;\">\n",
       "      <th></th>\n",
       "      <th>fixed acidity</th>\n",
       "      <th>volatile acidity</th>\n",
       "      <th>citric acid</th>\n",
       "      <th>residual sugar</th>\n",
       "      <th>chlorides</th>\n",
       "      <th>free sulfur dioxide</th>\n",
       "      <th>total sulfur dioxide</th>\n",
       "      <th>density</th>\n",
       "      <th>pH</th>\n",
       "      <th>sulphates</th>\n",
       "      <th>alcohol</th>\n",
       "      <th>quality</th>\n",
       "    </tr>\n",
       "  </thead>\n",
       "  <tbody>\n",
       "    <tr>\n",
       "      <th>0</th>\n",
       "      <td>7.4</td>\n",
       "      <td>0.70</td>\n",
       "      <td>0.0</td>\n",
       "      <td>1.9</td>\n",
       "      <td>0.076</td>\n",
       "      <td>11.0</td>\n",
       "      <td>34.0</td>\n",
       "      <td>0.9978</td>\n",
       "      <td>3.51</td>\n",
       "      <td>0.56</td>\n",
       "      <td>9.4</td>\n",
       "      <td>5</td>\n",
       "    </tr>\n",
       "    <tr>\n",
       "      <th>1</th>\n",
       "      <td>7.8</td>\n",
       "      <td>0.88</td>\n",
       "      <td>0.0</td>\n",
       "      <td>2.6</td>\n",
       "      <td>0.098</td>\n",
       "      <td>25.0</td>\n",
       "      <td>67.0</td>\n",
       "      <td>0.9968</td>\n",
       "      <td>3.20</td>\n",
       "      <td>0.68</td>\n",
       "      <td>9.8</td>\n",
       "      <td>5</td>\n",
       "    </tr>\n",
       "  </tbody>\n",
       "</table>\n",
       "</div>"
      ],
      "text/plain": [
       "   fixed acidity  volatile acidity  citric acid  residual sugar  chlorides  \\\n",
       "0            7.4              0.70          0.0             1.9      0.076   \n",
       "1            7.8              0.88          0.0             2.6      0.098   \n",
       "\n",
       "   free sulfur dioxide  total sulfur dioxide  density    pH  sulphates  \\\n",
       "0                 11.0                  34.0   0.9978  3.51       0.56   \n",
       "1                 25.0                  67.0   0.9968  3.20       0.68   \n",
       "\n",
       "   alcohol  quality  \n",
       "0      9.4        5  \n",
       "1      9.8        5  "
      ]
     },
     "execution_count": 48,
     "metadata": {},
     "output_type": "execute_result"
    }
   ],
   "source": [
    "#importing the dataset \n",
    "file_path = 'winequality-red.csv'\n",
    "wine_df = pd.read_csv(file_path)\n",
    "\n",
    "wine_df.head(2)"
   ]
  },
  {
   "cell_type": "markdown",
   "id": "c5638651-8fc3-450e-841c-722a80c7cc4d",
   "metadata": {},
   "source": [
    "#### About Feature Scaling:\n",
    "- When we have a dataset within which the numerical values belong to different ranges, like maybe some colum values are in 10's other might be in millions or thousands so this may effect the ML Model performance , and it may produce some biasness due to which we might end up with inaccurate and undesired result so to overcome this issue and make the values in a suitable and same range so we apply feature scalling , There are 3 common methods of feature scaling.\n",
    "- **Simple Feature Scaling** **x_new = x_old/x_max**\n",
    "- **Standardization** which is also referred as z-score -> **x_stand = x-mean(x)/std(x)** \n",
    "- **Normalization** also called min-max -> **x_new = (x-x_min)/(x_max-x_min)**\n",
    "- fit the feature scalling method on traing data "
   ]
  },
  {
   "cell_type": "code",
   "execution_count": 33,
   "id": "4ae296ca-52b0-4535-9e43-9c2bdae2d494",
   "metadata": {},
   "outputs": [
    {
     "data": {
      "image/png": "[encoded data removed]",
      "text/plain": [
       "<Figure size 225x150 with 1 Axes>"
      ]
     },
     "metadata": {},
     "output_type": "display_data"
    },
    {
     "data": {
      "image/png": "[encoded data removed]",
      "text/plain": [
       "<Figure size 225x150 with 1 Axes>"
      ]
     },
     "metadata": {},
     "output_type": "display_data"
    },
    {
     "data": {
      "image/png": "[encoded data removed]",
      "text/plain": [
       "<Figure size 225x150 with 1 Axes>"
      ]
     },
     "metadata": {},
     "output_type": "display_data"
    },
    {
     "data": {
      "image/png": "[encoded data removed]",
      "text/plain": [
       "<Figure size 225x150 with 1 Axes>"
      ]
     },
     "metadata": {},
     "output_type": "display_data"
    },
    {
     "data": {
      "image/png": "[encoded data removed]",
      "text/plain": [
       "<Figure size 225x150 with 1 Axes>"
      ]
     },
     "metadata": {},
     "output_type": "display_data"
    },
    {
     "data": {
      "image/png": "[encoded data removed]",
      "text/plain": [
       "<Figure size 225x150 with 1 Axes>"
      ]
     },
     "metadata": {},
     "output_type": "display_data"
    },
    {
     "data": {
      "image/png": "[encoded data removed]",
      "text/plain": [
       "<Figure size 225x150 with 1 Axes>"
      ]
     },
     "metadata": {},
     "output_type": "display_data"
    },
    {
     "data": {
      "image/png": "[encoded data removed]",
      "text/plain": [
       "<Figure size 225x150 with 1 Axes>"
      ]
     },
     "metadata": {},
     "output_type": "display_data"
    },
    {
     "data": {
      "image/png": "[encoded data removed]",
      "text/plain": [
       "<Figure size 225x150 with 1 Axes>"
      ]
     },
     "metadata": {},
     "output_type": "display_data"
    },
    {
     "data": {
      "image/png": "[encoded data removed]",
      "text/plain": [
       "<Figure size 225x150 with 1 Axes>"
      ]
     },
     "metadata": {},
     "output_type": "display_data"
    },
    {
     "data": {
      "image/png": "[encoded data removed]",
      "text/plain": [
       "<Figure size 225x150 with 1 Axes>"
      ]
     },
     "metadata": {},
     "output_type": "display_data"
    }
   ],
   "source": [
    "#lets have a look at the distribution of features\n",
    "#distribution of data can also play a vital role in determinig which feature scaling should be used\n",
    "X = wine_df.iloc[:,0:11]\n",
    "Y = wine_df.iloc[:,11:12]\n",
    "\n",
    "col_list = X.columns\n",
    "\n",
    "for i in col_list:\n",
    "    sns.displot(X[i],height = 1.5 , aspect = 1.5 , kde = True)\n",
    "    "
   ]
  },
  {
   "cell_type": "markdown",
   "id": "ecc48600-2b23-4763-a70a-2415bf9d4ce2",
   "metadata": {},
   "source": [
    "#### How to do Standardization?"
   ]
  },
  {
   "cell_type": "code",
   "execution_count": 46,
   "id": "20760c0f-4587-4ac3-802a-293d964154bd",
   "metadata": {},
   "outputs": [
    {
     "data": {
      "text/html": [
       "<div>\n",
       "<style scoped>\n",
       "    .dataframe tbody tr th:only-of-type {\n",
       "        vertical-align: middle;\n",
       "    }\n",
       "\n",
       "    .dataframe tbody tr th {\n",
       "        vertical-align: top;\n",
       "    }\n",
       "\n",
       "    .dataframe thead th {\n",
       "        text-align: right;\n",
       "    }\n",
       "</style>\n",
       "<table border=\"1\" class=\"dataframe\">\n",
       "  <thead>\n",
       "    <tr style=\"text-align: right;\">\n",
       "      <th></th>\n",
       "      <th>fixed acidity</th>\n",
       "      <th>volatile acidity</th>\n",
       "      <th>citric acid</th>\n",
       "      <th>residual sugar</th>\n",
       "      <th>chlorides</th>\n",
       "      <th>free sulfur dioxide</th>\n",
       "      <th>total sulfur dioxide</th>\n",
       "      <th>density</th>\n",
       "      <th>pH</th>\n",
       "      <th>sulphates</th>\n",
       "      <th>alcohol</th>\n",
       "    </tr>\n",
       "  </thead>\n",
       "  <tbody>\n",
       "    <tr>\n",
       "      <th>0</th>\n",
       "      <td>-0.528360</td>\n",
       "      <td>0.961877</td>\n",
       "      <td>-1.391472</td>\n",
       "      <td>-0.453218</td>\n",
       "      <td>-0.243707</td>\n",
       "      <td>-0.466193</td>\n",
       "      <td>-0.379133</td>\n",
       "      <td>0.558274</td>\n",
       "      <td>1.288643</td>\n",
       "      <td>-0.579207</td>\n",
       "      <td>-0.960246</td>\n",
       "    </tr>\n",
       "    <tr>\n",
       "      <th>1</th>\n",
       "      <td>-0.298547</td>\n",
       "      <td>1.967442</td>\n",
       "      <td>-1.391472</td>\n",
       "      <td>0.043416</td>\n",
       "      <td>0.223875</td>\n",
       "      <td>0.872638</td>\n",
       "      <td>0.624363</td>\n",
       "      <td>0.028261</td>\n",
       "      <td>-0.719933</td>\n",
       "      <td>0.128950</td>\n",
       "      <td>-0.584777</td>\n",
       "    </tr>\n",
       "    <tr>\n",
       "      <th>2</th>\n",
       "      <td>-0.298547</td>\n",
       "      <td>1.297065</td>\n",
       "      <td>-1.186070</td>\n",
       "      <td>-0.169427</td>\n",
       "      <td>0.096353</td>\n",
       "      <td>-0.083669</td>\n",
       "      <td>0.229047</td>\n",
       "      <td>0.134264</td>\n",
       "      <td>-0.331177</td>\n",
       "      <td>-0.048089</td>\n",
       "      <td>-0.584777</td>\n",
       "    </tr>\n",
       "    <tr>\n",
       "      <th>3</th>\n",
       "      <td>1.654856</td>\n",
       "      <td>-1.384443</td>\n",
       "      <td>1.484154</td>\n",
       "      <td>-0.453218</td>\n",
       "      <td>-0.264960</td>\n",
       "      <td>0.107592</td>\n",
       "      <td>0.411500</td>\n",
       "      <td>0.664277</td>\n",
       "      <td>-0.979104</td>\n",
       "      <td>-0.461180</td>\n",
       "      <td>-0.584777</td>\n",
       "    </tr>\n",
       "    <tr>\n",
       "      <th>4</th>\n",
       "      <td>-0.528360</td>\n",
       "      <td>0.961877</td>\n",
       "      <td>-1.391472</td>\n",
       "      <td>-0.453218</td>\n",
       "      <td>-0.243707</td>\n",
       "      <td>-0.466193</td>\n",
       "      <td>-0.379133</td>\n",
       "      <td>0.558274</td>\n",
       "      <td>1.288643</td>\n",
       "      <td>-0.579207</td>\n",
       "      <td>-0.960246</td>\n",
       "    </tr>\n",
       "  </tbody>\n",
       "</table>\n",
       "</div>"
      ],
      "text/plain": [
       "   fixed acidity  volatile acidity  citric acid  residual sugar  chlorides  \\\n",
       "0      -0.528360          0.961877    -1.391472       -0.453218  -0.243707   \n",
       "1      -0.298547          1.967442    -1.391472        0.043416   0.223875   \n",
       "2      -0.298547          1.297065    -1.186070       -0.169427   0.096353   \n",
       "3       1.654856         -1.384443     1.484154       -0.453218  -0.264960   \n",
       "4      -0.528360          0.961877    -1.391472       -0.453218  -0.243707   \n",
       "\n",
       "   free sulfur dioxide  total sulfur dioxide   density        pH  sulphates  \\\n",
       "0            -0.466193             -0.379133  0.558274  1.288643  -0.579207   \n",
       "1             0.872638              0.624363  0.028261 -0.719933   0.128950   \n",
       "2            -0.083669              0.229047  0.134264 -0.331177  -0.048089   \n",
       "3             0.107592              0.411500  0.664277 -0.979104  -0.461180   \n",
       "4            -0.466193             -0.379133  0.558274  1.288643  -0.579207   \n",
       "\n",
       "    alcohol  \n",
       "0 -0.960246  \n",
       "1 -0.584777  \n",
       "2 -0.584777  \n",
       "3 -0.584777  \n",
       "4 -0.960246  "
      ]
     },
     "execution_count": 46,
     "metadata": {},
     "output_type": "execute_result"
    }
   ],
   "source": [
    "#this is how we can standardize our data\n",
    "#importing necessary libraries\n",
    "from sklearn.preprocessing import StandardScaler\n",
    "Standard = StandardScaler()\n",
    "\n",
    "X_standard = Standard.fit_transform(X)\n",
    "X_standard = pd.DataFrame(X_standard,columns=X.columns)\n",
    "X_standard.head()"
   ]
  },
  {
   "cell_type": "markdown",
   "id": "8970289f-71bf-461c-adae-7d89cb02ebb5",
   "metadata": {},
   "source": [
    "#### How to do Normalization?"
   ]
  },
  {
   "cell_type": "code",
   "execution_count": 45,
   "id": "2d0bbfe6-715d-49e9-95ee-ad971af42404",
   "metadata": {},
   "outputs": [
    {
     "data": {
      "text/html": [
       "<div>\n",
       "<style scoped>\n",
       "    .dataframe tbody tr th:only-of-type {\n",
       "        vertical-align: middle;\n",
       "    }\n",
       "\n",
       "    .dataframe tbody tr th {\n",
       "        vertical-align: top;\n",
       "    }\n",
       "\n",
       "    .dataframe thead th {\n",
       "        text-align: right;\n",
       "    }\n",
       "</style>\n",
       "<table border=\"1\" class=\"dataframe\">\n",
       "  <thead>\n",
       "    <tr style=\"text-align: right;\">\n",
       "      <th></th>\n",
       "      <th>fixed acidity</th>\n",
       "      <th>volatile acidity</th>\n",
       "      <th>citric acid</th>\n",
       "      <th>residual sugar</th>\n",
       "      <th>chlorides</th>\n",
       "      <th>free sulfur dioxide</th>\n",
       "      <th>total sulfur dioxide</th>\n",
       "      <th>density</th>\n",
       "      <th>pH</th>\n",
       "      <th>sulphates</th>\n",
       "      <th>alcohol</th>\n",
       "    </tr>\n",
       "  </thead>\n",
       "  <tbody>\n",
       "    <tr>\n",
       "      <th>0</th>\n",
       "      <td>0.247788</td>\n",
       "      <td>0.397260</td>\n",
       "      <td>0.00</td>\n",
       "      <td>0.068493</td>\n",
       "      <td>0.106845</td>\n",
       "      <td>0.140845</td>\n",
       "      <td>0.098940</td>\n",
       "      <td>0.567548</td>\n",
       "      <td>0.606299</td>\n",
       "      <td>0.137725</td>\n",
       "      <td>0.153846</td>\n",
       "    </tr>\n",
       "    <tr>\n",
       "      <th>1</th>\n",
       "      <td>0.283186</td>\n",
       "      <td>0.520548</td>\n",
       "      <td>0.00</td>\n",
       "      <td>0.116438</td>\n",
       "      <td>0.143573</td>\n",
       "      <td>0.338028</td>\n",
       "      <td>0.215548</td>\n",
       "      <td>0.494126</td>\n",
       "      <td>0.362205</td>\n",
       "      <td>0.209581</td>\n",
       "      <td>0.215385</td>\n",
       "    </tr>\n",
       "    <tr>\n",
       "      <th>2</th>\n",
       "      <td>0.283186</td>\n",
       "      <td>0.438356</td>\n",
       "      <td>0.04</td>\n",
       "      <td>0.095890</td>\n",
       "      <td>0.133556</td>\n",
       "      <td>0.197183</td>\n",
       "      <td>0.169611</td>\n",
       "      <td>0.508811</td>\n",
       "      <td>0.409449</td>\n",
       "      <td>0.191617</td>\n",
       "      <td>0.215385</td>\n",
       "    </tr>\n",
       "    <tr>\n",
       "      <th>3</th>\n",
       "      <td>0.584071</td>\n",
       "      <td>0.109589</td>\n",
       "      <td>0.56</td>\n",
       "      <td>0.068493</td>\n",
       "      <td>0.105175</td>\n",
       "      <td>0.225352</td>\n",
       "      <td>0.190813</td>\n",
       "      <td>0.582232</td>\n",
       "      <td>0.330709</td>\n",
       "      <td>0.149701</td>\n",
       "      <td>0.215385</td>\n",
       "    </tr>\n",
       "    <tr>\n",
       "      <th>4</th>\n",
       "      <td>0.247788</td>\n",
       "      <td>0.397260</td>\n",
       "      <td>0.00</td>\n",
       "      <td>0.068493</td>\n",
       "      <td>0.106845</td>\n",
       "      <td>0.140845</td>\n",
       "      <td>0.098940</td>\n",
       "      <td>0.567548</td>\n",
       "      <td>0.606299</td>\n",
       "      <td>0.137725</td>\n",
       "      <td>0.153846</td>\n",
       "    </tr>\n",
       "  </tbody>\n",
       "</table>\n",
       "</div>"
      ],
      "text/plain": [
       "   fixed acidity  volatile acidity  citric acid  residual sugar  chlorides  \\\n",
       "0       0.247788          0.397260         0.00        0.068493   0.106845   \n",
       "1       0.283186          0.520548         0.00        0.116438   0.143573   \n",
       "2       0.283186          0.438356         0.04        0.095890   0.133556   \n",
       "3       0.584071          0.109589         0.56        0.068493   0.105175   \n",
       "4       0.247788          0.397260         0.00        0.068493   0.106845   \n",
       "\n",
       "   free sulfur dioxide  total sulfur dioxide   density        pH  sulphates  \\\n",
       "0             0.140845              0.098940  0.567548  0.606299   0.137725   \n",
       "1             0.338028              0.215548  0.494126  0.362205   0.209581   \n",
       "2             0.197183              0.169611  0.508811  0.409449   0.191617   \n",
       "3             0.225352              0.190813  0.582232  0.330709   0.149701   \n",
       "4             0.140845              0.098940  0.567548  0.606299   0.137725   \n",
       "\n",
       "    alcohol  \n",
       "0  0.153846  \n",
       "1  0.215385  \n",
       "2  0.215385  \n",
       "3  0.215385  \n",
       "4  0.153846  "
      ]
     },
     "execution_count": 45,
     "metadata": {},
     "output_type": "execute_result"
    }
   ],
   "source": [
    "#Normalization is done as follows\n",
    "#importing the necessary libraries\n",
    "from sklearn.preprocessing import MinMaxScaler\n",
    "\n",
    "# Normalizing the feature columns\n",
    "scaler = MinMaxScaler()\n",
    "X_normalized = scaler.fit_transform(X)\n",
    "\n",
    "# Converting  the normalized data back to a DataFrame\n",
    "X_normalized = pd.DataFrame(X_normalized, columns=X.columns)\n",
    "X_normalized.head()"
   ]
  },
  {
   "cell_type": "markdown",
   "id": "c6633507-7e17-4604-a69d-1af9d5408b0f",
   "metadata": {},
   "source": [
    "### Task # 1.4:\n",
    ". Handling Outliers in the Boston Housing Dataset\r\n",
    "- Task: Identify and handle outliers in the Boston Housing dataset using techniques like\r\n",
    "Z-score, IQR, and visualization methods.\r\n",
    "- Dataset: Boston Housing Dataset\r"
   ]
  },
  {
   "cell_type": "code",
   "execution_count": 64,
   "id": "34cb5382-f1d9-4ab8-bf60-d1e76d5d9c7f",
   "metadata": {},
   "outputs": [
    {
     "data": {
      "text/html": [
       "<div>\n",
       "<style scoped>\n",
       "    .dataframe tbody tr th:only-of-type {\n",
       "        vertical-align: middle;\n",
       "    }\n",
       "\n",
       "    .dataframe tbody tr th {\n",
       "        vertical-align: top;\n",
       "    }\n",
       "\n",
       "    .dataframe thead th {\n",
       "        text-align: right;\n",
       "    }\n",
       "</style>\n",
       "<table border=\"1\" class=\"dataframe\">\n",
       "  <thead>\n",
       "    <tr style=\"text-align: right;\">\n",
       "      <th></th>\n",
       "      <th>CRIM</th>\n",
       "      <th>ZN</th>\n",
       "      <th>INDUS</th>\n",
       "      <th>CHAS</th>\n",
       "      <th>NOX</th>\n",
       "      <th>RM</th>\n",
       "      <th>AGE</th>\n",
       "      <th>DIS</th>\n",
       "      <th>RAD</th>\n",
       "      <th>TAX</th>\n",
       "      <th>PTRATIO</th>\n",
       "      <th>B</th>\n",
       "      <th>LSTAT</th>\n",
       "      <th>MEDV</th>\n",
       "    </tr>\n",
       "  </thead>\n",
       "  <tbody>\n",
       "    <tr>\n",
       "      <th>0</th>\n",
       "      <td>0.00632</td>\n",
       "      <td>18.0</td>\n",
       "      <td>2.31</td>\n",
       "      <td>0.0</td>\n",
       "      <td>0.538</td>\n",
       "      <td>6.575</td>\n",
       "      <td>65.2</td>\n",
       "      <td>4.0900</td>\n",
       "      <td>1</td>\n",
       "      <td>296</td>\n",
       "      <td>15.3</td>\n",
       "      <td>396.9</td>\n",
       "      <td>4.98</td>\n",
       "      <td>24.0</td>\n",
       "    </tr>\n",
       "    <tr>\n",
       "      <th>1</th>\n",
       "      <td>0.02731</td>\n",
       "      <td>0.0</td>\n",
       "      <td>7.07</td>\n",
       "      <td>0.0</td>\n",
       "      <td>0.469</td>\n",
       "      <td>6.421</td>\n",
       "      <td>78.9</td>\n",
       "      <td>4.9671</td>\n",
       "      <td>2</td>\n",
       "      <td>242</td>\n",
       "      <td>17.8</td>\n",
       "      <td>396.9</td>\n",
       "      <td>9.14</td>\n",
       "      <td>21.6</td>\n",
       "    </tr>\n",
       "  </tbody>\n",
       "</table>\n",
       "</div>"
      ],
      "text/plain": [
       "      CRIM    ZN  INDUS  CHAS    NOX     RM   AGE     DIS  RAD  TAX  PTRATIO  \\\n",
       "0  0.00632  18.0   2.31   0.0  0.538  6.575  65.2  4.0900    1  296     15.3   \n",
       "1  0.02731   0.0   7.07   0.0  0.469  6.421  78.9  4.9671    2  242     17.8   \n",
       "\n",
       "       B  LSTAT  MEDV  \n",
       "0  396.9   4.98  24.0  \n",
       "1  396.9   9.14  21.6  "
      ]
     },
     "execution_count": 64,
     "metadata": {},
     "output_type": "execute_result"
    }
   ],
   "source": [
    "#importing the dataset\n",
    "file_path = 'HousingData.csv'\n",
    "House_df = pd.read_csv(file_path)\n",
    "\n",
    "House_df.head(2)\n"
   ]
  },
  {
   "cell_type": "code",
   "execution_count": 66,
   "id": "44583450-38d6-4758-b068-bf049f66375f",
   "metadata": {},
   "outputs": [
    {
     "data": {
      "text/plain": [
       "CRIM       20\n",
       "ZN         20\n",
       "INDUS      20\n",
       "CHAS       20\n",
       "NOX         0\n",
       "RM          0\n",
       "AGE        20\n",
       "DIS         0\n",
       "RAD         0\n",
       "TAX         0\n",
       "PTRATIO     0\n",
       "B           0\n",
       "LSTAT      20\n",
       "MEDV        0\n",
       "dtype: int64"
      ]
     },
     "execution_count": 66,
     "metadata": {},
     "output_type": "execute_result"
    }
   ],
   "source": [
    "#now lets check for some null values in the dataset \n",
    "House_df.isnull().sum()"
   ]
  },
  {
   "cell_type": "markdown",
   "id": "b4ec1dd6-3f75-4c7f-9e50-7e03d879a4b7",
   "metadata": {},
   "source": [
    "- There exist some null value columns but for practice purpose we are not gonna get into depth of how to deal with null values in this task so we will just replace the null value with the mean(average) values\n",
    "- For CHAS we will use mode"
   ]
  },
  {
   "cell_type": "code",
   "execution_count": 77,
   "id": "0752e60f-8d70-43fa-9363-6d0c7dfde9ff",
   "metadata": {},
   "outputs": [
    {
     "data": {
      "text/plain": [
       "CRIM       0\n",
       "ZN         0\n",
       "INDUS      0\n",
       "CHAS       0\n",
       "NOX        0\n",
       "RM         0\n",
       "AGE        0\n",
       "DIS        0\n",
       "RAD        0\n",
       "TAX        0\n",
       "PTRATIO    0\n",
       "B          0\n",
       "LSTAT      0\n",
       "MEDV       0\n",
       "dtype: int64"
      ]
     },
     "execution_count": 77,
     "metadata": {},
     "output_type": "execute_result"
    }
   ],
   "source": [
    "# List of column names to process\n",
    "columns = ['CRIM', 'ZN', 'INDUS', 'AGE', 'LSTAT']\n",
    "\n",
    "# Iterate through the list of columns\n",
    "for column in columns:\n",
    "    # Calculate the average value for the current column\n",
    "    average_value = House_df[column].astype('float').mean(axis=0)\n",
    "    \n",
    "    # Replace NaN values with the average value\n",
    "    House_df[column] = House_df[column].replace(np.nan, average_value)\n",
    "\n",
    "# Replacing with mode\n",
    "House_df['CHAS'] = House_df['CHAS'].fillna(House_df['CHAS'].mode()[0])\n",
    "\n",
    "#verification of NULL values \n",
    "House_df.isnull().sum()"
   ]
  },
  {
   "cell_type": "markdown",
   "id": "4b7368ae-2182-489c-a8d0-b547d52e1093",
   "metadata": {},
   "source": [
    "#### Visualization Method\n",
    "- Box plot is recommended to identify outliers , the values which will be seen out of the maximum and minimum ranges those will be outliers"
   ]
  },
  {
   "cell_type": "code",
   "execution_count": 76,
   "id": "9fd413c0-53aa-4a1f-9a5c-f93969f6e444",
   "metadata": {},
   "outputs": [
    {
     "data": {
      "image/png": "[encoded data removed]",
      "text/plain": [
       "<Figure size 2000x1500 with 14 Axes>"
      ]
     },
     "metadata": {},
     "output_type": "display_data"
    }
   ],
   "source": [
    "#visualization Method\n",
    "#box plot can be very useful in identifying the outliers so lets visualize it \n",
    "col_list = House_df.columns\n",
    "\n",
    "# Create box plots for each feature\n",
    "plt.figure(figsize=(20, 15))\n",
    "for i, col in enumerate(col_list, 1):\n",
    "    plt.subplot(5, 3, i)  # 5 rows, 3 columns, i is the index of the plot\n",
    "    sns.boxplot(y=House_df[col])\n",
    "    plt.title(col)\n",
    "\n",
    "plt.tight_layout()\n",
    "plt.show()"
   ]
  },
  {
   "cell_type": "markdown",
   "id": "b4d6444f-b356-402f-9a97-372d2d70fd8d",
   "metadata": {},
   "source": [
    "- As we can obsereve from the above visualizations that outliers are clearly identified"
   ]
  },
  {
   "cell_type": "markdown",
   "id": "9554f43e-fc78-48c5-8686-4820cda9fe8d",
   "metadata": {},
   "source": [
    "#### Z-score method\n",
    "- The Z-score method calculates the number of standard deviations an observation is away from the mean. Observations with a Z-score greater than 3 or less than -3 are typically considered outliers."
   ]
  },
  {
   "cell_type": "code",
   "execution_count": 72,
   "id": "2f97f759-5f94-4eb8-8c53-bfb426568778",
   "metadata": {},
   "outputs": [
    {
     "name": "stdout",
     "output_type": "stream",
     "text": [
      "CRIM        8\n",
      "ZN         28\n",
      "INDUS       0\n",
      "CHAS       34\n",
      "NOX         0\n",
      "RM          8\n",
      "AGE         0\n",
      "DIS         5\n",
      "RAD         0\n",
      "TAX         0\n",
      "PTRATIO     0\n",
      "B          25\n",
      "LSTAT       6\n",
      "MEDV        0\n",
      "dtype: int64\n"
     ]
    }
   ],
   "source": [
    "#z-score method\n",
    "from scipy import stats\n",
    "\n",
    "z_scores = stats.zscore(House_df)\n",
    "outliers_z = (np.abs(z_scores) > 3)\n",
    "print(outliers_z.sum())"
   ]
  },
  {
   "cell_type": "markdown",
   "id": "fe255018-d8a4-4977-8a6f-ecc746aa79fd",
   "metadata": {},
   "source": [
    "#### IQR method\n",
    "- The IQR (Interquartile Range) method calculates the difference between the 75th percentile (Q3) and the 25th percentile (Q1). Observations with values more than 1.5 times the IQR away from Q3 or Q1 are considered outliers."
   ]
  },
  {
   "cell_type": "code",
   "execution_count": 102,
   "id": "73f028cc-31aa-4853-a8b0-abb2e81503d2",
   "metadata": {},
   "outputs": [
    {
     "data": {
      "text/plain": [
       "CRIM       64\n",
       "ZN         68\n",
       "INDUS       0\n",
       "CHAS       34\n",
       "NOX         0\n",
       "RM         30\n",
       "AGE         0\n",
       "DIS         5\n",
       "RAD         0\n",
       "TAX         0\n",
       "PTRATIO    15\n",
       "B          77\n",
       "LSTAT      12\n",
       "MEDV       40\n",
       "dtype: int64"
      ]
     },
     "execution_count": 102,
     "metadata": {},
     "output_type": "execute_result"
    }
   ],
   "source": [
    "# #IQR method\n",
    "Q1 = House_df.quantile(0.25)\n",
    "Q3 = House_df.quantile(0.75)\n",
    "IQR = Q3 - Q1\n",
    "\n",
    "outliers_iqr = ((House_df < (Q1 - 1.5 * IQR)) | (House_df > (Q3 + 1.5 * IQR))).sum()\n",
    "\n",
    "outliers_iqr"
   ]
  },
  {
   "cell_type": "markdown",
   "id": "75453b63-b1df-4f35-a6e7-de8357a94fd5",
   "metadata": {},
   "source": [
    "#### Handling the outliers\n",
    "1. Remove outliers ( deletion )One simple approach is to remove the outliers from the dataset. This method is effective when the outliers are few and the dataset is large.\n",
    "2. Transform outliers ( transformation )Transforming outliers can reduce their impact on the model. Common transformations include:log,squaroot,standardization\n",
    "3. Winsorize outliers ( winsorization )Winsorization replaces outliers with a value closer to the median, such as the 95th percentile.\n",
    "4. Impute outliers ( imputation )Imputation replaces outliers with a statistical value, such as the mean or median of the feature.\n",
    "- While there are some other advance methods for handling outliers aswell\n",
    "- For the simplicity of this task we will use the deletion method and verify the result"
   ]
  },
  {
   "cell_type": "code",
   "execution_count": 101,
   "id": "81e69af1-778a-4a94-b5db-ef40a9eb1392",
   "metadata": {},
   "outputs": [],
   "source": [
    "#deletion\n",
    "df_clean = House_df[~outliers_z] #removing on the basis of z-score"
   ]
  },
  {
   "cell_type": "code",
   "execution_count": 107,
   "id": "52d71c2c-b49f-4d8b-8516-b763470cb9ab",
   "metadata": {},
   "outputs": [
    {
     "name": "stdout",
     "output_type": "stream",
     "text": [
      "CRIM       0\n",
      "ZN         0\n",
      "INDUS      0\n",
      "CHAS       0\n",
      "NOX        0\n",
      "RM         0\n",
      "AGE        0\n",
      "DIS        0\n",
      "RAD        0\n",
      "TAX        0\n",
      "PTRATIO    0\n",
      "B          0\n",
      "LSTAT      0\n",
      "MEDV       0\n",
      "dtype: int64\n"
     ]
    }
   ],
   "source": [
    "#verification\n",
    "z_scores = stats.zscore(df_clean)\n",
    "outliers_z = (np.abs(z_scores) > 3)\n",
    "print(outliers_z.sum())"
   ]
  },
  {
   "cell_type": "markdown",
   "id": "2da245db-4646-49e9-baf6-8134884eccda",
   "metadata": {},
   "source": [
    "### Task # 1.5:\n",
    " Data Imputation in  Dataset\r\n",
    "- Task: Handle missing values i  dataset using advanced imputation\r\n",
    "techniques like KNN imputation and MICE.\r\n",
    "- Dataset: Retail Sales Dataset\r"
   ]
  },
  {
   "cell_type": "code",
   "execution_count": 29,
   "id": "82c8e3ea-69a9-44b9-b501-54b5f49f5487",
   "metadata": {},
   "outputs": [
    {
     "data": {
      "text/plain": [
       "CRIM       3.952569\n",
       "ZN         3.952569\n",
       "INDUS      3.952569\n",
       "CHAS       3.952569\n",
       "NOX        0.000000\n",
       "RM         0.000000\n",
       "AGE        3.952569\n",
       "DIS        0.000000\n",
       "RAD        0.000000\n",
       "TAX        0.000000\n",
       "PTRATIO    0.000000\n",
       "B          0.000000\n",
       "LSTAT      3.952569\n",
       "MEDV       0.000000\n",
       "dtype: float64"
      ]
     },
     "execution_count": 29,
     "metadata": {},
     "output_type": "execute_result"
    }
   ],
   "source": [
    "#importing the dataset\n",
    "file_path = 'HousingData.csv'\n",
    "House_df = pd.read_csv(file_path)\n",
    "House_df.isnull().sum()/retail_df.shape[0]*100"
   ]
  },
  {
   "cell_type": "markdown",
   "id": "429370f2-9480-4afd-bf94-e35e91c13357",
   "metadata": {},
   "source": [
    "#### K-Nearest Neighbors (KNN) Imputation: \n",
    "- KNN imputation is a popular technique that uses the concept of similarity to impute missing values. The idea is to find the k most similar instances (nearest neighbors) to the instance with missing values and use their values to impute the missing values."
   ]
  },
  {
   "cell_type": "code",
   "execution_count": 40,
   "id": "e494df3e-a005-4378-80d1-e6c72f264624",
   "metadata": {},
   "outputs": [
    {
     "data": {
      "text/plain": [
       "CRIM       0\n",
       "ZN         0\n",
       "INDUS      0\n",
       "CHAS       0\n",
       "NOX        0\n",
       "RM         0\n",
       "AGE        0\n",
       "DIS        0\n",
       "RAD        0\n",
       "TAX        0\n",
       "PTRATIO    0\n",
       "B          0\n",
       "LSTAT      0\n",
       "dtype: int64"
      ]
     },
     "execution_count": 40,
     "metadata": {},
     "output_type": "execute_result"
    }
   ],
   "source": [
    "# Replacing with mode\n",
    "House_df['CHAS'] = House_df['CHAS'].fillna(House_df['CHAS'].mode()[0])\n",
    "\n",
    "from sklearn.impute import KNNImputer\n",
    "\n",
    "# Creating a KNN imputer with k=5\n",
    "#k=5 refers to the number of nearest neighbors to consider when imputing missing values.\n",
    "imputer = KNNImputer(n_neighbors=5)\n",
    "\n",
    "X = House_df.iloc[:,0:13]\n",
    "\n",
    "# Fitting the imputer on the dataset and transform the data\n",
    "X_imputed = imputer.fit_transform(X)\n",
    "\n",
    "# Converting the result back to a DataFrame for easier inspection\n",
    "X_imputed_df = pd.DataFrame(X_imputed, columns=X.columns)\n",
    "\n",
    "#verification\n",
    "X_imputed_df.isnull().sum()"
   ]
  },
  {
   "cell_type": "markdown",
   "id": "512e5b5e-3df3-4b68-8efb-1dc4f34f51f0",
   "metadata": {},
   "source": [
    "#### Multiple Imputation by Chained Equations (MICE): \n",
    "- MICE is a multiple imputation technique that uses a combination of regression models and Bayesian inference to impute missing values. MICE is particularly useful when dealing with complex datasets and multiple types of missing values."
   ]
  },
  {
   "cell_type": "code",
   "execution_count": 49,
   "id": "841f9a15-5f0a-475a-b761-fac0d52dbf15",
   "metadata": {},
   "outputs": [
    {
     "data": {
      "text/plain": [
       "CRIM       0\n",
       "ZN         0\n",
       "INDUS      0\n",
       "CHAS       0\n",
       "NOX        0\n",
       "RM         0\n",
       "AGE        0\n",
       "DIS        0\n",
       "RAD        0\n",
       "TAX        0\n",
       "PTRATIO    0\n",
       "B          0\n",
       "LSTAT      0\n",
       "dtype: int64"
      ]
     },
     "execution_count": 49,
     "metadata": {},
     "output_type": "execute_result"
    }
   ],
   "source": [
    "#importing necessary libraries , we ca also use fancyimpute library\n",
    "from sklearn.experimental import enable_iterative_imputer\n",
    "from sklearn.impute import IterativeImputer\n",
    "\n",
    "\n",
    "# Selecting features for imputation\n",
    "X = House_df.iloc[:, 0:13] \n",
    "\n",
    "# Initializing the Iterative Imputer (MICE)\n",
    "mice_imputer = IterativeImputer(max_iter=10, random_state=0)  # max_iter: Number of imputation rounds\n",
    "\n",
    "# Fitting the imputer and transform the dataset\n",
    "X_imputed = mice_imputer.fit_transform(X)\n",
    "\n",
    "# Converting the result back to a DataFrame for easier inspection\n",
    "X_imputed_df = pd.DataFrame(X_imputed, columns=X.columns)\n",
    "\n",
    "X_imputed_df.isnull().sum()\n",
    "\n"
   ]
  },
  {
   "cell_type": "markdown",
   "id": "2ad1f0cd-2f21-4265-952b-41f49a86b9ed",
   "metadata": {},
   "source": [
    "**The Remaining Parts of this task is in the next part (Part 2)**"
   ]
  }
 ],
 "metadata": {
  "kernelspec": {
   "display_name": "Python 3 (ipykernel)",
   "language": "python",
   "name": "python3"
  },
  "language_info": {
   "codemirror_mode": {
    "name": "ipython",
    "version": 3
   },
   "file_extension": ".py",
   "mimetype": "text/x-python",
   "name": "python",
   "nbconvert_exporter": "python",
   "pygments_lexer": "ipython3",
   "version": "3.11.9"
  }
 },
 "nbformat": 4,
 "nbformat_minor": 5
}
