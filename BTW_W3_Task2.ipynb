{
 "cells": [
  {
   "cell_type": "markdown",
   "id": "a8196827-f119-4445-a1e9-7d2f646ceafe",
   "metadata": {},
   "source": [
    "## Task # 08:\n",
    "- This is Task 8 overall and task 2 of week 3\n",
    "### Task # 02:"
   ]
  },
  {
   "cell_type": "code",
   "execution_count": 1,
   "id": "12f9023e-883a-403f-a8d3-306f765f9d00",
   "metadata": {},
   "outputs": [
    {
     "data": {
      "text/html": [
       "<div>\n",
       "<style scoped>\n",
       "    .dataframe tbody tr th:only-of-type {\n",
       "        vertical-align: middle;\n",
       "    }\n",
       "\n",
       "    .dataframe tbody tr th {\n",
       "        vertical-align: top;\n",
       "    }\n",
       "\n",
       "    .dataframe thead th {\n",
       "        text-align: right;\n",
       "    }\n",
       "</style>\n",
       "<table border=\"1\" class=\"dataframe\">\n",
       "  <thead>\n",
       "    <tr style=\"text-align: right;\">\n",
       "      <th></th>\n",
       "      <th>sepal length (cm)</th>\n",
       "      <th>sepal width (cm)</th>\n",
       "      <th>petal length (cm)</th>\n",
       "      <th>petal width (cm)</th>\n",
       "      <th>species</th>\n",
       "    </tr>\n",
       "  </thead>\n",
       "  <tbody>\n",
       "    <tr>\n",
       "      <th>0</th>\n",
       "      <td>5.1</td>\n",
       "      <td>3.5</td>\n",
       "      <td>1.4</td>\n",
       "      <td>0.2</td>\n",
       "      <td>0</td>\n",
       "    </tr>\n",
       "    <tr>\n",
       "      <th>1</th>\n",
       "      <td>4.9</td>\n",
       "      <td>3.0</td>\n",
       "      <td>1.4</td>\n",
       "      <td>0.2</td>\n",
       "      <td>0</td>\n",
       "    </tr>\n",
       "    <tr>\n",
       "      <th>2</th>\n",
       "      <td>4.7</td>\n",
       "      <td>3.2</td>\n",
       "      <td>1.3</td>\n",
       "      <td>0.2</td>\n",
       "      <td>0</td>\n",
       "    </tr>\n",
       "    <tr>\n",
       "      <th>3</th>\n",
       "      <td>4.6</td>\n",
       "      <td>3.1</td>\n",
       "      <td>1.5</td>\n",
       "      <td>0.2</td>\n",
       "      <td>0</td>\n",
       "    </tr>\n",
       "    <tr>\n",
       "      <th>4</th>\n",
       "      <td>5.0</td>\n",
       "      <td>3.6</td>\n",
       "      <td>1.4</td>\n",
       "      <td>0.2</td>\n",
       "      <td>0</td>\n",
       "    </tr>\n",
       "  </tbody>\n",
       "</table>\n",
       "</div>"
      ],
      "text/plain": [
       "   sepal length (cm)  sepal width (cm)  petal length (cm)  petal width (cm)  \\\n",
       "0                5.1               3.5                1.4               0.2   \n",
       "1                4.9               3.0                1.4               0.2   \n",
       "2                4.7               3.2                1.3               0.2   \n",
       "3                4.6               3.1                1.5               0.2   \n",
       "4                5.0               3.6                1.4               0.2   \n",
       "\n",
       "   species  \n",
       "0        0  \n",
       "1        0  \n",
       "2        0  \n",
       "3        0  \n",
       "4        0  "
      ]
     },
     "execution_count": 1,
     "metadata": {},
     "output_type": "execute_result"
    }
   ],
   "source": [
    "#lets import the required libraries and dataset for this task\n",
    "import pandas as pd\n",
    "import numpy as np\n",
    "from sklearn.datasets import load_iris\n",
    "\n",
    "# Load the iris dataset\n",
    "iris = load_iris()\n",
    "iris_df = pd.DataFrame(data=iris.data, columns=iris.feature_names)\n",
    "iris_df['species'] = iris.target\n",
    "\n",
    "# Display the first few rows of the dataset\n",
    "iris_df.head()\n"
   ]
  },
  {
   "cell_type": "markdown",
   "id": "7a6b23b5-cb04-440c-89be-33535bc30cbf",
   "metadata": {},
   "source": [
    "Task # 2.1:\n",
    "- Calculate the mean, median, and mode of the sepal lengths in the Iris dataset"
   ]
  },
  {
   "cell_type": "code",
   "execution_count": 13,
   "id": "77dc7eb9-defc-4325-8c15-d424ce406d13",
   "metadata": {},
   "outputs": [
    {
     "name": "stdout",
     "output_type": "stream",
     "text": [
      "Mean of Sepal Length = 5.84\n",
      "Median of Sepal Length = 5.8\n",
      "Mode of Sepal Length = 5.0\n"
     ]
    }
   ],
   "source": [
    "# Mean of sepal length\n",
    "mean_sepal_length = iris_df['sepal length (cm)'].mean()\n",
    "\n",
    "# Median of sepal length\n",
    "median_sepal_length = iris_df['sepal length (cm)'].median()\n",
    "\n",
    "# Mode of sepal length\n",
    "#the mode function actually returs the series of values so thats why we use [0] index\n",
    "mode_sepal_length = iris_df['sepal length (cm)'].mode()[0]\n",
    "\n",
    "print(f\"Mean of Sepal Length = {mean_sepal_length:.2f}\")\n",
    "print(f\"Median of Sepal Length = {median_sepal_length}\")\n",
    "print(f\"Mode of Sepal Length = {mode_sepal_length}\")"
   ]
  },
  {
   "cell_type": "markdown",
   "id": "92bd7d65-0836-4305-8d79-7a0a24e7e346",
   "metadata": {},
   "source": [
    "Task # 2.2:\n",
    "-  Calculate the variance and standard deviation of the petal widths in the Iris dataset."
   ]
  },
  {
   "cell_type": "code",
   "execution_count": 14,
   "id": "9390af79-bfe0-469b-82e8-2ebbccdd83b1",
   "metadata": {},
   "outputs": [
    {
     "name": "stdout",
     "output_type": "stream",
     "text": [
      "Variance of petal width = 0.58\n",
      "Standard Deviation of petal width = 0.76\n"
     ]
    }
   ],
   "source": [
    "# Variance of petal width\n",
    "variance_petal_width = iris_df['petal width (cm)'].var()\n",
    "\n",
    "# Standard deviation of petal width\n",
    "std_dev_petal_width = iris_df['petal width (cm)'].std()\n",
    "\n",
    "print(f\"Variance of petal width = {variance_petal_width:.2f}\")\n",
    "print(f\"Standard Deviation of petal width = {std_dev_petal_width:.2f}\")"
   ]
  },
  {
   "cell_type": "markdown",
   "id": "db6242d1-fbb9-4681-8a72-0dcde1bb38a0",
   "metadata": {},
   "source": [
    "Task # 2.3:\n",
    "- Create a summary table that includes the mean, median, variance, and standard \n",
    "deviation for all numerical features in the dataset"
   ]
  },
  {
   "cell_type": "code",
   "execution_count": 30,
   "id": "a9753b2e-1335-40df-bd12-f71f1a2c4ad6",
   "metadata": {},
   "outputs": [
    {
     "data": {
      "text/html": [
       "<div>\n",
       "<style scoped>\n",
       "    .dataframe tbody tr th:only-of-type {\n",
       "        vertical-align: middle;\n",
       "    }\n",
       "\n",
       "    .dataframe tbody tr th {\n",
       "        vertical-align: top;\n",
       "    }\n",
       "\n",
       "    .dataframe thead th {\n",
       "        text-align: right;\n",
       "    }\n",
       "</style>\n",
       "<table border=\"1\" class=\"dataframe\">\n",
       "  <thead>\n",
       "    <tr style=\"text-align: right;\">\n",
       "      <th></th>\n",
       "      <th>sepal length (cm)</th>\n",
       "      <th>sepal width (cm)</th>\n",
       "      <th>petal length (cm)</th>\n",
       "      <th>petal width (cm)</th>\n",
       "      <th>species</th>\n",
       "    </tr>\n",
       "  </thead>\n",
       "  <tbody>\n",
       "    <tr>\n",
       "      <th>mean</th>\n",
       "      <td>5.843333</td>\n",
       "      <td>3.057333</td>\n",
       "      <td>3.758</td>\n",
       "      <td>1.199333</td>\n",
       "      <td>1.0</td>\n",
       "    </tr>\n",
       "    <tr>\n",
       "      <th>mode</th>\n",
       "      <td>5.0</td>\n",
       "      <td>3.0</td>\n",
       "      <td>1.4</td>\n",
       "      <td>0.2</td>\n",
       "      <td>0</td>\n",
       "    </tr>\n",
       "    <tr>\n",
       "      <th>std</th>\n",
       "      <td>0.828066</td>\n",
       "      <td>0.435866</td>\n",
       "      <td>1.765298</td>\n",
       "      <td>0.762238</td>\n",
       "      <td>0.819232</td>\n",
       "    </tr>\n",
       "    <tr>\n",
       "      <th>variance</th>\n",
       "      <td>0.685694</td>\n",
       "      <td>0.189979</td>\n",
       "      <td>3.116278</td>\n",
       "      <td>0.581006</td>\n",
       "      <td>0.671141</td>\n",
       "    </tr>\n",
       "  </tbody>\n",
       "</table>\n",
       "</div>"
      ],
      "text/plain": [
       "         sepal length (cm) sepal width (cm) petal length (cm)  \\\n",
       "mean              5.843333         3.057333             3.758   \n",
       "mode                   5.0              3.0               1.4   \n",
       "std               0.828066         0.435866          1.765298   \n",
       "variance          0.685694         0.189979          3.116278   \n",
       "\n",
       "         petal width (cm)   species  \n",
       "mean             1.199333       1.0  \n",
       "mode                  0.2         0  \n",
       "std              0.762238  0.819232  \n",
       "variance         0.581006  0.671141  "
      ]
     },
     "execution_count": 30,
     "metadata": {},
     "output_type": "execute_result"
    }
   ],
   "source": [
    "# Empty DataFrame for the summary table\n",
    "summary_table = pd.DataFrame(index=['mean', 'mode', 'std', 'variance'], columns=iris_df.columns)\n",
    "\n",
    "# Iterating over each column in the dataset\n",
    "for column in iris_df.columns:\n",
    "    mean_value = iris_df[column].mean()\n",
    "    mode_value = iris_df[column].mode()[0]  # Access the first mode value\n",
    "    std_value = iris_df[column].std()\n",
    "    variance_value = iris_df[column].var()\n",
    "    \n",
    "    # Appending the calculated statistics to the summary table\n",
    "    summary_table.loc['mean', column] = mean_value\n",
    "    summary_table.loc['mode', column] = mode_value\n",
    "    summary_table.loc['std', column] = std_value\n",
    "    summary_table.loc['variance', column] = variance_value\n",
    "\n",
    "summary_table.head(4)"
   ]
  },
  {
   "cell_type": "markdown",
   "id": "82e412e9-6ddd-4b0f-944e-954469fcdeba",
   "metadata": {},
   "source": [
    "Task # 2.4:\n",
    "-  Define a random variable for the sepal length and calculate the probability \n",
    "distribution of sepal lengths."
   ]
  },
  {
   "cell_type": "code",
   "execution_count": null,
   "id": "117a7076-b6e3-4548-a922-319a5b55e37c",
   "metadata": {},
   "outputs": [],
   "source": []
  }
 ],
 "metadata": {
  "kernelspec": {
   "display_name": "Python 3 (ipykernel)",
   "language": "python",
   "name": "python3"
  },
  "language_info": {
   "codemirror_mode": {
    "name": "ipython",
    "version": 3
   },
   "file_extension": ".py",
   "mimetype": "text/x-python",
   "name": "python",
   "nbconvert_exporter": "python",
   "pygments_lexer": "ipython3",
   "version": "3.11.9"
  }
 },
 "nbformat": 4,
 "nbformat_minor": 5
}
