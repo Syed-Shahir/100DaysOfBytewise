{
 "cells": [
  {
   "cell_type": "markdown",
   "id": "a8196827-f119-4445-a1e9-7d2f646ceafe",
   "metadata": {},
   "source": [
    "## Task # 08:\n",
    "- This is Task 8 overall and task 2 of week 3\n",
    "### Task # 02:"
   ]
  },
  {
   "cell_type": "code",
   "execution_count": 15,
   "id": "12f9023e-883a-403f-a8d3-306f765f9d00",
   "metadata": {},
   "outputs": [
    {
     "data": {
      "text/html": [
       "<div>\n",
       "<style scoped>\n",
       "    .dataframe tbody tr th:only-of-type {\n",
       "        vertical-align: middle;\n",
       "    }\n",
       "\n",
       "    .dataframe tbody tr th {\n",
       "        vertical-align: top;\n",
       "    }\n",
       "\n",
       "    .dataframe thead th {\n",
       "        text-align: right;\n",
       "    }\n",
       "</style>\n",
       "<table border=\"1\" class=\"dataframe\">\n",
       "  <thead>\n",
       "    <tr style=\"text-align: right;\">\n",
       "      <th></th>\n",
       "      <th>sepal length (cm)</th>\n",
       "      <th>sepal width (cm)</th>\n",
       "      <th>petal length (cm)</th>\n",
       "      <th>petal width (cm)</th>\n",
       "      <th>species</th>\n",
       "    </tr>\n",
       "  </thead>\n",
       "  <tbody>\n",
       "    <tr>\n",
       "      <th>0</th>\n",
       "      <td>5.1</td>\n",
       "      <td>3.5</td>\n",
       "      <td>1.4</td>\n",
       "      <td>0.2</td>\n",
       "      <td>0</td>\n",
       "    </tr>\n",
       "    <tr>\n",
       "      <th>1</th>\n",
       "      <td>4.9</td>\n",
       "      <td>3.0</td>\n",
       "      <td>1.4</td>\n",
       "      <td>0.2</td>\n",
       "      <td>0</td>\n",
       "    </tr>\n",
       "    <tr>\n",
       "      <th>2</th>\n",
       "      <td>4.7</td>\n",
       "      <td>3.2</td>\n",
       "      <td>1.3</td>\n",
       "      <td>0.2</td>\n",
       "      <td>0</td>\n",
       "    </tr>\n",
       "    <tr>\n",
       "      <th>3</th>\n",
       "      <td>4.6</td>\n",
       "      <td>3.1</td>\n",
       "      <td>1.5</td>\n",
       "      <td>0.2</td>\n",
       "      <td>0</td>\n",
       "    </tr>\n",
       "    <tr>\n",
       "      <th>4</th>\n",
       "      <td>5.0</td>\n",
       "      <td>3.6</td>\n",
       "      <td>1.4</td>\n",
       "      <td>0.2</td>\n",
       "      <td>0</td>\n",
       "    </tr>\n",
       "  </tbody>\n",
       "</table>\n",
       "</div>"
      ],
      "text/plain": [
       "   sepal length (cm)  sepal width (cm)  petal length (cm)  petal width (cm)  \\\n",
       "0                5.1               3.5                1.4               0.2   \n",
       "1                4.9               3.0                1.4               0.2   \n",
       "2                4.7               3.2                1.3               0.2   \n",
       "3                4.6               3.1                1.5               0.2   \n",
       "4                5.0               3.6                1.4               0.2   \n",
       "\n",
       "   species  \n",
       "0        0  \n",
       "1        0  \n",
       "2        0  \n",
       "3        0  \n",
       "4        0  "
      ]
     },
     "execution_count": 15,
     "metadata": {},
     "output_type": "execute_result"
    }
   ],
   "source": [
    "#lets import the required libraries and dataset for this task\n",
    "import pandas as pd\n",
    "import numpy as np\n",
    "from sklearn.datasets import load_iris\n",
    "import matplotlib.pyplot as plt\n",
    "import seaborn as sns\n",
    "\n",
    "# Load the iris dataset\n",
    "iris = load_iris()\n",
    "iris_df = pd.DataFrame(data=iris.data, columns=iris.feature_names)\n",
    "iris_df['species'] = iris.target\n",
    "\n",
    "# Display the first few rows of the dataset\n",
    "iris_df.head()\n"
   ]
  },
  {
   "cell_type": "markdown",
   "id": "7a6b23b5-cb04-440c-89be-33535bc30cbf",
   "metadata": {},
   "source": [
    "Task # 2.1:\n",
    "- Calculate the mean, median, and mode of the sepal lengths in the Iris dataset"
   ]
  },
  {
   "cell_type": "code",
   "execution_count": 2,
   "id": "77dc7eb9-defc-4325-8c15-d424ce406d13",
   "metadata": {},
   "outputs": [
    {
     "name": "stdout",
     "output_type": "stream",
     "text": [
      "Mean of Sepal Length = 5.84\n",
      "Median of Sepal Length = 5.8\n",
      "Mode of Sepal Length = 5.0\n"
     ]
    }
   ],
   "source": [
    "# Mean of sepal length\n",
    "mean_sepal_length = iris_df['sepal length (cm)'].mean()\n",
    "\n",
    "# Median of sepal length\n",
    "median_sepal_length = iris_df['sepal length (cm)'].median()\n",
    "\n",
    "# Mode of sepal length\n",
    "#the mode function actually returs the series of values so thats why we use [0] index\n",
    "mode_sepal_length = iris_df['sepal length (cm)'].mode()[0]\n",
    "\n",
    "print(f\"Mean of Sepal Length = {mean_sepal_length:.2f}\")\n",
    "print(f\"Median of Sepal Length = {median_sepal_length}\")\n",
    "print(f\"Mode of Sepal Length = {mode_sepal_length}\")"
   ]
  },
  {
   "cell_type": "markdown",
   "id": "92bd7d65-0836-4305-8d79-7a0a24e7e346",
   "metadata": {},
   "source": [
    "Task # 2.2:\n",
    "-  Calculate the variance and standard deviation of the petal widths in the Iris dataset."
   ]
  },
  {
   "cell_type": "code",
   "execution_count": 3,
   "id": "9390af79-bfe0-469b-82e8-2ebbccdd83b1",
   "metadata": {},
   "outputs": [
    {
     "name": "stdout",
     "output_type": "stream",
     "text": [
      "Variance of petal width = 0.58\n",
      "Standard Deviation of petal width = 0.76\n"
     ]
    }
   ],
   "source": [
    "# Variance of petal width\n",
    "variance_petal_width = iris_df['petal width (cm)'].var()\n",
    "\n",
    "# Standard deviation of petal width\n",
    "std_dev_petal_width = iris_df['petal width (cm)'].std()\n",
    "\n",
    "print(f\"Variance of petal width = {variance_petal_width:.2f}\")\n",
    "print(f\"Standard Deviation of petal width = {std_dev_petal_width:.2f}\")"
   ]
  },
  {
   "cell_type": "markdown",
   "id": "db6242d1-fbb9-4681-8a72-0dcde1bb38a0",
   "metadata": {},
   "source": [
    "Task # 2.3:\n",
    "- Create a summary table that includes the mean, median, variance, and standard \n",
    "deviation for all numerical features in the dataset"
   ]
  },
  {
   "cell_type": "code",
   "execution_count": 4,
   "id": "a9753b2e-1335-40df-bd12-f71f1a2c4ad6",
   "metadata": {},
   "outputs": [
    {
     "data": {
      "text/html": [
       "<div>\n",
       "<style scoped>\n",
       "    .dataframe tbody tr th:only-of-type {\n",
       "        vertical-align: middle;\n",
       "    }\n",
       "\n",
       "    .dataframe tbody tr th {\n",
       "        vertical-align: top;\n",
       "    }\n",
       "\n",
       "    .dataframe thead th {\n",
       "        text-align: right;\n",
       "    }\n",
       "</style>\n",
       "<table border=\"1\" class=\"dataframe\">\n",
       "  <thead>\n",
       "    <tr style=\"text-align: right;\">\n",
       "      <th></th>\n",
       "      <th>sepal length (cm)</th>\n",
       "      <th>sepal width (cm)</th>\n",
       "      <th>petal length (cm)</th>\n",
       "      <th>petal width (cm)</th>\n",
       "      <th>species</th>\n",
       "    </tr>\n",
       "  </thead>\n",
       "  <tbody>\n",
       "    <tr>\n",
       "      <th>mean</th>\n",
       "      <td>5.843333</td>\n",
       "      <td>3.057333</td>\n",
       "      <td>3.758</td>\n",
       "      <td>1.199333</td>\n",
       "      <td>1.0</td>\n",
       "    </tr>\n",
       "    <tr>\n",
       "      <th>mode</th>\n",
       "      <td>5.0</td>\n",
       "      <td>3.0</td>\n",
       "      <td>1.4</td>\n",
       "      <td>0.2</td>\n",
       "      <td>0</td>\n",
       "    </tr>\n",
       "    <tr>\n",
       "      <th>std</th>\n",
       "      <td>0.828066</td>\n",
       "      <td>0.435866</td>\n",
       "      <td>1.765298</td>\n",
       "      <td>0.762238</td>\n",
       "      <td>0.819232</td>\n",
       "    </tr>\n",
       "    <tr>\n",
       "      <th>variance</th>\n",
       "      <td>0.685694</td>\n",
       "      <td>0.189979</td>\n",
       "      <td>3.116278</td>\n",
       "      <td>0.581006</td>\n",
       "      <td>0.671141</td>\n",
       "    </tr>\n",
       "  </tbody>\n",
       "</table>\n",
       "</div>"
      ],
      "text/plain": [
       "         sepal length (cm) sepal width (cm) petal length (cm)  \\\n",
       "mean              5.843333         3.057333             3.758   \n",
       "mode                   5.0              3.0               1.4   \n",
       "std               0.828066         0.435866          1.765298   \n",
       "variance          0.685694         0.189979          3.116278   \n",
       "\n",
       "         petal width (cm)   species  \n",
       "mean             1.199333       1.0  \n",
       "mode                  0.2         0  \n",
       "std              0.762238  0.819232  \n",
       "variance         0.581006  0.671141  "
      ]
     },
     "execution_count": 4,
     "metadata": {},
     "output_type": "execute_result"
    }
   ],
   "source": [
    "# Empty DataFrame for the summary table\n",
    "summary_table = pd.DataFrame(index=['mean', 'mode', 'std', 'variance'], columns=iris_df.columns)\n",
    "\n",
    "# Iterating over each column in the dataset\n",
    "for column in iris_df.columns:\n",
    "    mean_value = iris_df[column].mean()\n",
    "    mode_value = iris_df[column].mode()[0]  # Access the first mode value\n",
    "    std_value = iris_df[column].std()\n",
    "    variance_value = iris_df[column].var()\n",
    "    \n",
    "    # Appending the calculated statistics to the summary table\n",
    "    summary_table.loc['mean', column] = mean_value\n",
    "    summary_table.loc['mode', column] = mode_value\n",
    "    summary_table.loc['std', column] = std_value\n",
    "    summary_table.loc['variance', column] = variance_value\n",
    "\n",
    "summary_table.head(4)"
   ]
  },
  {
   "cell_type": "markdown",
   "id": "82e412e9-6ddd-4b0f-944e-954469fcdeba",
   "metadata": {},
   "source": [
    "Task # 2.4:\n",
    "-  Define a random variable for the sepal length and calculate the probability \n",
    "distribution of sepal lengths."
   ]
  },
  {
   "cell_type": "code",
   "execution_count": 5,
   "id": "a5417518-4df7-4810-9bbd-c0bbc661db72",
   "metadata": {},
   "outputs": [
    {
     "name": "stdout",
     "output_type": "stream",
     "text": [
      "To verify that we have taken all the values into account\n",
      "True\n",
      "Frequency = [ 9 23 14 27 16 26 18  6  5  6]\n",
      "Bin Centers = [4.48 4.84 5.2  5.56 5.92 6.28 6.64 7.   7.36 7.72]\n"
     ]
    },
    {
     "data": {
      "text/html": [
       "<div>\n",
       "<style scoped>\n",
       "    .dataframe tbody tr th:only-of-type {\n",
       "        vertical-align: middle;\n",
       "    }\n",
       "\n",
       "    .dataframe tbody tr th {\n",
       "        vertical-align: top;\n",
       "    }\n",
       "\n",
       "    .dataframe thead th {\n",
       "        text-align: right;\n",
       "    }\n",
       "</style>\n",
       "<table border=\"1\" class=\"dataframe\">\n",
       "  <thead>\n",
       "    <tr style=\"text-align: right;\">\n",
       "      <th></th>\n",
       "      <th>Bin Centers</th>\n",
       "      <th>Frequency</th>\n",
       "      <th>Probability</th>\n",
       "    </tr>\n",
       "  </thead>\n",
       "  <tbody>\n",
       "    <tr>\n",
       "      <th>0</th>\n",
       "      <td>4.48</td>\n",
       "      <td>9</td>\n",
       "      <td>0.060000</td>\n",
       "    </tr>\n",
       "    <tr>\n",
       "      <th>1</th>\n",
       "      <td>4.84</td>\n",
       "      <td>23</td>\n",
       "      <td>0.153333</td>\n",
       "    </tr>\n",
       "    <tr>\n",
       "      <th>2</th>\n",
       "      <td>5.20</td>\n",
       "      <td>14</td>\n",
       "      <td>0.093333</td>\n",
       "    </tr>\n",
       "    <tr>\n",
       "      <th>3</th>\n",
       "      <td>5.56</td>\n",
       "      <td>27</td>\n",
       "      <td>0.180000</td>\n",
       "    </tr>\n",
       "    <tr>\n",
       "      <th>4</th>\n",
       "      <td>5.92</td>\n",
       "      <td>16</td>\n",
       "      <td>0.106667</td>\n",
       "    </tr>\n",
       "    <tr>\n",
       "      <th>5</th>\n",
       "      <td>6.28</td>\n",
       "      <td>26</td>\n",
       "      <td>0.173333</td>\n",
       "    </tr>\n",
       "    <tr>\n",
       "      <th>6</th>\n",
       "      <td>6.64</td>\n",
       "      <td>18</td>\n",
       "      <td>0.120000</td>\n",
       "    </tr>\n",
       "    <tr>\n",
       "      <th>7</th>\n",
       "      <td>7.00</td>\n",
       "      <td>6</td>\n",
       "      <td>0.040000</td>\n",
       "    </tr>\n",
       "    <tr>\n",
       "      <th>8</th>\n",
       "      <td>7.36</td>\n",
       "      <td>5</td>\n",
       "      <td>0.033333</td>\n",
       "    </tr>\n",
       "    <tr>\n",
       "      <th>9</th>\n",
       "      <td>7.72</td>\n",
       "      <td>6</td>\n",
       "      <td>0.040000</td>\n",
       "    </tr>\n",
       "  </tbody>\n",
       "</table>\n",
       "</div>"
      ],
      "text/plain": [
       "   Bin Centers  Frequency  Probability\n",
       "0         4.48          9     0.060000\n",
       "1         4.84         23     0.153333\n",
       "2         5.20         14     0.093333\n",
       "3         5.56         27     0.180000\n",
       "4         5.92         16     0.106667\n",
       "5         6.28         26     0.173333\n",
       "6         6.64         18     0.120000\n",
       "7         7.00          6     0.040000\n",
       "8         7.36          5     0.033333\n",
       "9         7.72          6     0.040000"
      ]
     },
     "execution_count": 5,
     "metadata": {},
     "output_type": "execute_result"
    }
   ],
   "source": [
    "import matplotlib.pyplot as plt\n",
    "import numpy as np\n",
    "#counts contains the number of data points in each bin.\n",
    "#bin_edges contains the boundaries of the bins\n",
    "#Use density=False when you are interested in visualizing the absolute frequency or count of data points within each bin. else it will normalize\n",
    "counts, bin_edges = np.histogram(iris_df['sepal length (cm)'], bins=10, density=False)\n",
    "bin_centers = 0.5 * (bin_edges[1:] + bin_edges[:-1])\n",
    "\n",
    "print(f\"To verify that we have taken all the values into account\")\n",
    "print(sum(counts) == iris_df.shape[0])  # if True, all the values are taken into account\n",
    "\n",
    "print(f\"Frequency = {counts}\")\n",
    "print(f\"Bin Centers = {bin_centers}\")\n",
    "\n",
    "# Calculating the probability distribution\n",
    "probabilities = counts / iris_df.shape[0]\n",
    "\n",
    "# dataframe with the bin centers, frequency, and probability\n",
    "result_df = pd.DataFrame({'Bin Centers': bin_centers, 'Frequency': counts, 'Probability': probabilities})\n",
    "result_df.head(10)"
   ]
  },
  {
   "cell_type": "markdown",
   "id": "645837cf-3950-4dd2-b0af-5a4c2d6fa2f6",
   "metadata": {},
   "source": [
    "Task # 2.5:\n",
    "- Plot the probability distribution of sepal lengths using a histogram"
   ]
  },
  {
   "cell_type": "code",
   "execution_count": 6,
   "id": "44f0150e-60f4-462c-9775-3b69e6132381",
   "metadata": {},
   "outputs": [
    {
     "data": {
      "image/png": "[encoded data removed]",
      "text/plain": [
       "<Figure size 600x400 with 1 Axes>"
      ]
     },
     "metadata": {},
     "output_type": "display_data"
    }
   ],
   "source": [
    "plt.figure(figsize=(6,4))\n",
    "plt.hist(iris_df['sepal length (cm)'], bins=10,edgecolor = 'Black', density=True)\n",
    "plt.xlabel('Sepal Length')\n",
    "plt.ylabel('Probability Density')\n",
    "plt.title('Sepal Length Distribution')\n",
    "plt.show()"
   ]
  },
  {
   "cell_type": "markdown",
   "id": "6bddd3c8-ce4c-4e37-977d-9a32e547c85b",
   "metadata": {},
   "source": [
    "Task # 2.6:\n",
    "-  Calculate the cumulative distribution function (CDF) for the petal lengths and plot it."
   ]
  },
  {
   "cell_type": "code",
   "execution_count": 7,
   "id": "adeaad81-4954-407a-95ff-155ffdf45d69",
   "metadata": {},
   "outputs": [
    {
     "data": {
      "text/html": [
       "<div>\n",
       "<style scoped>\n",
       "    .dataframe tbody tr th:only-of-type {\n",
       "        vertical-align: middle;\n",
       "    }\n",
       "\n",
       "    .dataframe tbody tr th {\n",
       "        vertical-align: top;\n",
       "    }\n",
       "\n",
       "    .dataframe thead th {\n",
       "        text-align: right;\n",
       "    }\n",
       "</style>\n",
       "<table border=\"1\" class=\"dataframe\">\n",
       "  <thead>\n",
       "    <tr style=\"text-align: right;\">\n",
       "      <th></th>\n",
       "      <th>Bin Centers</th>\n",
       "      <th>Probability</th>\n",
       "      <th>CDF</th>\n",
       "    </tr>\n",
       "  </thead>\n",
       "  <tbody>\n",
       "    <tr>\n",
       "      <th>0</th>\n",
       "      <td>1.295</td>\n",
       "      <td>0.246667</td>\n",
       "      <td>0.246667</td>\n",
       "    </tr>\n",
       "    <tr>\n",
       "      <th>1</th>\n",
       "      <td>1.885</td>\n",
       "      <td>0.086667</td>\n",
       "      <td>0.333333</td>\n",
       "    </tr>\n",
       "    <tr>\n",
       "      <th>2</th>\n",
       "      <td>2.475</td>\n",
       "      <td>0.000000</td>\n",
       "      <td>0.333333</td>\n",
       "    </tr>\n",
       "    <tr>\n",
       "      <th>3</th>\n",
       "      <td>3.065</td>\n",
       "      <td>0.020000</td>\n",
       "      <td>0.353333</td>\n",
       "    </tr>\n",
       "    <tr>\n",
       "      <th>4</th>\n",
       "      <td>3.655</td>\n",
       "      <td>0.053333</td>\n",
       "      <td>0.406667</td>\n",
       "    </tr>\n",
       "    <tr>\n",
       "      <th>5</th>\n",
       "      <td>4.245</td>\n",
       "      <td>0.173333</td>\n",
       "      <td>0.580000</td>\n",
       "    </tr>\n",
       "    <tr>\n",
       "      <th>6</th>\n",
       "      <td>4.835</td>\n",
       "      <td>0.193333</td>\n",
       "      <td>0.773333</td>\n",
       "    </tr>\n",
       "    <tr>\n",
       "      <th>7</th>\n",
       "      <td>5.425</td>\n",
       "      <td>0.120000</td>\n",
       "      <td>0.893333</td>\n",
       "    </tr>\n",
       "    <tr>\n",
       "      <th>8</th>\n",
       "      <td>6.015</td>\n",
       "      <td>0.073333</td>\n",
       "      <td>0.966667</td>\n",
       "    </tr>\n",
       "    <tr>\n",
       "      <th>9</th>\n",
       "      <td>6.605</td>\n",
       "      <td>0.033333</td>\n",
       "      <td>1.000000</td>\n",
       "    </tr>\n",
       "  </tbody>\n",
       "</table>\n",
       "</div>"
      ],
      "text/plain": [
       "   Bin Centers  Probability       CDF\n",
       "0        1.295     0.246667  0.246667\n",
       "1        1.885     0.086667  0.333333\n",
       "2        2.475     0.000000  0.333333\n",
       "3        3.065     0.020000  0.353333\n",
       "4        3.655     0.053333  0.406667\n",
       "5        4.245     0.173333  0.580000\n",
       "6        4.835     0.193333  0.773333\n",
       "7        5.425     0.120000  0.893333\n",
       "8        6.015     0.073333  0.966667\n",
       "9        6.605     0.033333  1.000000"
      ]
     },
     "execution_count": 7,
     "metadata": {},
     "output_type": "execute_result"
    }
   ],
   "source": [
    "counts, bin_edges = np.histogram(iris_df['petal length (cm)'], bins=10, density=False)\n",
    "bin_centers = 0.5 * (bin_edges[1:] + bin_edges[:-1])\n",
    "\n",
    "# Calculating the probability distribution\n",
    "probabilities = counts / iris_df.shape[0]\n",
    "\n",
    "# Calculating the Cumulative Distribution Function (CDF)\n",
    "cdf = np.cumsum(probabilities)\n",
    "\n",
    "# dataframe with the bin centers, probability, and CDF\n",
    "result_df = pd.DataFrame({'Bin Centers': bin_centers, 'Probability': probabilities, 'CDF': cdf})\n",
    "result_df.head(10)"
   ]
  },
  {
   "cell_type": "code",
   "execution_count": 51,
   "id": "7e915789-023c-49bf-9c13-5f83209b2a2a",
   "metadata": {},
   "outputs": [
    {
     "data": {
      "image/png": "[encoded data removed]",
      "text/plain": [
       "<Figure size 1000x400 with 2 Axes>"
      ]
     },
     "metadata": {},
     "output_type": "display_data"
    }
   ],
   "source": [
    "fig,(plot_1,stp) = plt.subplots(1,2,figsize=(10,4))\n",
    "\n",
    "plot_1.plot(result_df['Bin Centers'], result_df['CDF'])\n",
    "plot_1.set_xlabel('Sepal Length')\n",
    "plot_1.set_ylabel('Cumulative Probability')\n",
    "plot_1.set_title('Sepal Length Distribution (CDF)')\n",
    "\n",
    "stp.step(result_df['Bin Centers'], result_df['CDF'])\n",
    "stp.set_xlabel('Sepal Length')\n",
    "stp.set_ylabel('Cumulative Probability')\n",
    "stp.set_title('Sepal Length Distribution (CDF)')\n",
    "\n",
    "plt.tight_layout()\n",
    "plt.show()"
   ]
  },
  {
   "cell_type": "code",
   "execution_count": null,
   "id": "bc17c957-7ea3-4a6f-876a-05cbef54fb65",
   "metadata": {},
   "outputs": [],
   "source": []
  },
  {
   "cell_type": "code",
   "execution_count": 20,
   "id": "040c66e1-1420-4fdb-9a4e-7f89f89020d3",
   "metadata": {},
   "outputs": [
    {
     "data": {
      "image/png": "[encoded data removed]",
      "text/plain": [
       "<Figure size 1000x400 with 2 Axes>"
      ]
     },
     "metadata": {},
     "output_type": "display_data"
    }
   ],
   "source": [
    "# Calculating PDF using histogram\n",
    "counts, bin_edges = np.histogram(iris_df['sepal width (cm)'], bins=10, density=False)\n",
    "bin_centers = 0.5 * (bin_edges[1:] + bin_edges[:-1])\n",
    "bin_widths = bin_edges[1:] - bin_edges[:-1]\n",
    "pdf = counts / (sum(counts) * bin_widths)  # Normalize to get probabilities\n",
    "\n",
    "# Plotting the PDF\n",
    "fig, axs = plt.subplots(1, 2, figsize=(10, 4))\n",
    "\n",
    "axs[0].plot(bin_centers, pdf)\n",
    "axs[0].set_xlabel('Sepal Width (cm)')\n",
    "axs[0].set_ylabel('Probability Density')\n",
    "axs[0].set_title('Probability Density Function (PDF) of Sepal Width (Histogram)')\n",
    "axs[0].grid(True)\n",
    "\n",
    "# Calculating PDF using seaborn's kdeplot\n",
    "sns.kdeplot(iris_df['sepal width (cm)'], fill=True, ax=axs[1])\n",
    "axs[1].set_xlabel('Sepal Width (cm)')\n",
    "axs[1].set_ylabel('Probability Density')\n",
    "axs[1].set_title('(PDF) of Sepal Width (KDE)')\n",
    "axs[1].grid(True)\n",
    "\n",
    "plt.tight_layout()\n",
    "plt.show()"
   ]
  },
  {
   "cell_type": "code",
   "execution_count": null,
   "id": "8e02863b-b837-462e-b319-e41c985a6cd4",
   "metadata": {},
   "outputs": [],
   "source": []
  }
 ],
 "metadata": {
  "kernelspec": {
   "display_name": "Python 3 (ipykernel)",
   "language": "python",
   "name": "python3"
  },
  "language_info": {
   "codemirror_mode": {
    "name": "ipython",
    "version": 3
   },
   "file_extension": ".py",
   "mimetype": "text/x-python",
   "name": "python",
   "nbconvert_exporter": "python",
   "pygments_lexer": "ipython3",
   "version": "3.11.9"
  }
 },
 "nbformat": 4,
 "nbformat_minor": 5
}
