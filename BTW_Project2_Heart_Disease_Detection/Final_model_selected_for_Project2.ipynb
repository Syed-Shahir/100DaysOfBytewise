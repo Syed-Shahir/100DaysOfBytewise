{
 "cells": [
  {
   "cell_type": "markdown",
   "id": "21d823ca-207d-4283-bead-54a56e799f82",
   "metadata": {},
   "source": [
    "**In this file we will be evaluating SVC and KNN with HyperParameter Tuning to see which is a better fit**"
   ]
  },
  {
   "cell_type": "code",
   "execution_count": 8,
   "id": "cea1adbc-d12e-4f8b-afdf-98b70a3ac24b",
   "metadata": {},
   "outputs": [],
   "source": [
    "import pandas as pd\n",
    "import numpy as np\n",
    "from sklearn.preprocessing  import StandardScaler\n",
    "from sklearn.model_selection import train_test_split\n",
    "from sklearn.model_selection import GridSearchCV\n",
    "from sklearn.model_selection import KFold\n",
    "from sklearn.metrics import accuracy_score, precision_score, recall_score, f1_score, roc_auc_score, confusion_matrix\n",
    "from sklearn.svm import SVC\n",
    "from sklearn.neighbors import KNeighborsClassifier\n",
    "import matplotlib.pyplot as plt\n",
    "import seaborn as sns"
   ]
  },
  {
   "cell_type": "code",
   "execution_count": 9,
   "id": "04db0c29-14e9-49b8-9c40-0550ee7c86c9",
   "metadata": {},
   "outputs": [],
   "source": [
    "# loading the csv data to a Pandas DataFrame\n",
    "file_path = 'heart_disease_data.csv'\n",
    "heart_df = pd.read_csv(file_path)"
   ]
  },
  {
   "cell_type": "code",
   "execution_count": 10,
   "id": "90c7812d-4379-4e4d-b498-96c60088f473",
   "metadata": {},
   "outputs": [],
   "source": [
    "# Splitting the Data into Depandant and Indepandant Variables\n",
    "X = heart_df.iloc[:,:-1]\n",
    "y = heart_df.iloc[:,-1]"
   ]
  },
  {
   "cell_type": "code",
   "execution_count": 11,
   "id": "3571c682-fd1a-403f-bc07-0076759687a4",
   "metadata": {},
   "outputs": [],
   "source": [
    "X_train , X_test , y_train , y_test = train_test_split(X,y,test_size=0.2,random_state=42)\n",
    "\n",
    "# Initialize the StandardScaler\n",
    "scaler = StandardScaler()\n",
    "\n",
    "# Fit the scaler on the training data and transform both the training and test data\n",
    "X_train_scaled = scaler.fit_transform(X_train)\n",
    "X_test_scaled = scaler.transform(X_test)"
   ]
  },
  {
   "cell_type": "code",
   "execution_count": 12,
   "id": "2b8b7286-06e6-4767-9f7c-ff0e2a915162",
   "metadata": {},
   "outputs": [],
   "source": [
    "models = {\n",
    "    \"Support Vector Classifier\": SVC(probability=True),\n",
    "    \"K-Nearest Neighbors\": KNeighborsClassifier()\n",
    "}"
   ]
  },
  {
   "cell_type": "code",
   "execution_count": 13,
   "id": "1afa457f-94fe-4b9a-a07e-018464ead851",
   "metadata": {},
   "outputs": [],
   "source": [
    "\n",
    "# Define parameter grids for each model\n",
    "param_grids = {\n",
    "    \"Support Vector Classifier\": {\n",
    "        'C': [0.1, 1, 10, 100],\n",
    "        'kernel': ['linear', 'rbf', 'poly'],\n",
    "        'gamma': ['scale', 'auto']\n",
    "    },\n",
    "    \"K-Nearest Neighbors\": {\n",
    "        'n_neighbors': [3, 5,6, 7, 9],\n",
    "        'weights': ['uniform', 'distance'],\n",
    "        'metric': ['euclidean', 'manhattan', 'minkowski']\n",
    "    }\n",
    "}\n"
   ]
  },
  {
   "cell_type": "code",
   "execution_count": 14,
   "id": "14de2c42-234d-42d2-928b-592b44839d50",
   "metadata": {},
   "outputs": [
    {
     "name": "stdout",
     "output_type": "stream",
     "text": [
      "Best parameters for Support Vector Classifier: {'C': 0.1, 'gamma': 'scale', 'kernel': 'linear'}\n",
      "Best parameters for K-Nearest Neighbors: {'metric': 'manhattan', 'n_neighbors': 7, 'weights': 'uniform'}\n"
     ]
    }
   ],
   "source": [
    "# Initialize dictionaries and lists to store results\n",
    "best_params = {}\n",
    "best_models = {}\n",
    "results = {}\n",
    "\n",
    "# Initialize lists for evaluation metrics\n",
    "accuracies = []\n",
    "precisions = []\n",
    "recalls = []\n",
    "f1s = []\n",
    "aucs = []\n",
    "\n",
    "# Number of folds for cross-validation\n",
    "k = 5\n",
    "kf = KFold(n_splits=k, shuffle=True, random_state=42)\n",
    "\n",
    "# Loop through each model and perform parameter tuning with GridSearchCV\n",
    "for name, model in models.items():\n",
    "    if name in param_grids:\n",
    "        # Initialize GridSearchCV\n",
    "        grid_search = GridSearchCV(model, param_grids[name], cv=kf, scoring='accuracy', n_jobs=-1)\n",
    "\n",
    "        # Perform grid search\n",
    "        grid_search.fit(X_train_scaled, y_train)\n",
    "\n",
    "        # Store best parameters and best model\n",
    "        best_params[name] = grid_search.best_params_\n",
    "        best_models[name] = grid_search.best_estimator_\n",
    "\n",
    "        # Evaluate the model with best parameters\n",
    "        y_pred = best_models[name].predict(X_test_scaled)\n",
    "        y_prob = best_models[name].predict_proba(X_test_scaled)[:, 1]\n",
    "\n",
    "        # Calculate and store metrics\n",
    "        accuracies.append(accuracy_score(y_test, y_pred))\n",
    "        precisions.append(precision_score(y_test, y_pred))\n",
    "        recalls.append(recall_score(y_test, y_pred))\n",
    "        f1s.append(f1_score(y_test, y_pred))\n",
    "        aucs.append(roc_auc_score(y_test, y_prob))\n",
    "\n",
    "        # Store results for each model\n",
    "        results[name] = {\n",
    "            'Accuracy': np.mean(accuracies),\n",
    "            'Precision': np.mean(precisions),\n",
    "            'Recall': np.mean(recalls),\n",
    "            'F1 Score': np.mean(f1s),\n",
    "            'AUC': np.mean(aucs)\n",
    "        }\n",
    "\n",
    "# Display the best parameters for each model\n",
    "for model_name, params in best_params.items():\n",
    "    print(f\"Best parameters for {model_name}: {params}\")\n"
   ]
  },
  {
   "cell_type": "code",
   "execution_count": 15,
   "id": "65eb0c0b-5e9c-4563-8423-366f480dff2c",
   "metadata": {},
   "outputs": [
    {
     "data": {
      "text/html": [
       "<div>\n",
       "<style scoped>\n",
       "    .dataframe tbody tr th:only-of-type {\n",
       "        vertical-align: middle;\n",
       "    }\n",
       "\n",
       "    .dataframe tbody tr th {\n",
       "        vertical-align: top;\n",
       "    }\n",
       "\n",
       "    .dataframe thead th {\n",
       "        text-align: right;\n",
       "    }\n",
       "</style>\n",
       "<table border=\"1\" class=\"dataframe\">\n",
       "  <thead>\n",
       "    <tr style=\"text-align: right;\">\n",
       "      <th></th>\n",
       "      <th>Accuracy</th>\n",
       "      <th>Precision</th>\n",
       "      <th>Recall</th>\n",
       "      <th>F1 Score</th>\n",
       "      <th>AUC</th>\n",
       "    </tr>\n",
       "  </thead>\n",
       "  <tbody>\n",
       "    <tr>\n",
       "      <th>Support Vector Classifier</th>\n",
       "      <td>0.885246</td>\n",
       "      <td>0.878788</td>\n",
       "      <td>0.90625</td>\n",
       "      <td>0.892308</td>\n",
       "      <td>0.924569</td>\n",
       "    </tr>\n",
       "    <tr>\n",
       "      <th>K-Nearest Neighbors</th>\n",
       "      <td>0.868852</td>\n",
       "      <td>0.874878</td>\n",
       "      <td>0.87500</td>\n",
       "      <td>0.874725</td>\n",
       "      <td>0.927263</td>\n",
       "    </tr>\n",
       "  </tbody>\n",
       "</table>\n",
       "</div>"
      ],
      "text/plain": [
       "                           Accuracy  Precision   Recall  F1 Score       AUC\n",
       "Support Vector Classifier  0.885246   0.878788  0.90625  0.892308  0.924569\n",
       "K-Nearest Neighbors        0.868852   0.874878  0.87500  0.874725  0.927263"
      ]
     },
     "execution_count": 15,
     "metadata": {},
     "output_type": "execute_result"
    }
   ],
   "source": [
    "# Convert results to DataFrame\n",
    "results_df = pd.DataFrame(results).T\n",
    "results_df"
   ]
  },
  {
   "cell_type": "code",
   "execution_count": 16,
   "id": "f8686ca2-9bee-45e6-93b6-ecb39bda8c59",
   "metadata": {},
   "outputs": [
    {
     "data": {
      "image/png": "[encoded data removed]",
      "text/plain": [
       "<Figure size 800x600 with 1 Axes>"
      ]
     },
     "metadata": {},
     "output_type": "display_data"
    }
   ],
   "source": [
    "# Convert the results dictionary to a DataFrame and add a 'Model' column\n",
    "results_df = pd.DataFrame(results).T\n",
    "results_df.reset_index(inplace=True)\n",
    "results_df.columns = ['Model', 'Accuracy', 'Precision', 'Recall', 'F1 Score', 'AUC']\n",
    "\n",
    "# Melt the DataFrame to have a long-form DataFrame suitable for seaborn\n",
    "results_df_melted = results_df.melt(id_vars='Model', var_name='Metric', value_name='Score')\n",
    "\n",
    "plt.figure(figsize=(8, 6))\n",
    "ax = sns.barplot(data=results_df_melted, x='Model', y='Score', hue='Metric')\n",
    "\n",
    "# Add the value labels above or within each bar\n",
    "for p in ax.patches:\n",
    "    ax.annotate(f'{p.get_height():.3f}', \n",
    "                (p.get_x() + p.get_width() / 2., p.get_height()), \n",
    "                ha = 'center', \n",
    "                va = 'center', \n",
    "                xytext = (0, 9),  # 9 points vertical offset\n",
    "                textcoords = 'offset points',\n",
    "                fontsize=9, \n",
    "                color='black', \n",
    "                weight='bold')\n",
    "\n",
    "plt.title('Model Performance Comparison')\n",
    "plt.xlabel('Model')\n",
    "plt.ylabel('Score')\n",
    "plt.xticks(rotation=45)\n",
    "plt.legend(title='Metric')\n",
    "\n",
    "# Adjust y-axis limits to zoom in on differences\n",
    "plt.ylim(0.75, 1)  # Example range; adjust based on your data\n",
    "\n",
    "plt.tight_layout()\n",
    "plt.show()\n"
   ]
  },
  {
   "cell_type": "markdown",
   "id": "d8273a83-9d9b-4ddd-889d-d5fe9d494c21",
   "metadata": {},
   "source": [
    "- So based on our above output we will finalize SVC as our final model of training and deployment with an **accuracy** of **88.5%** "
   ]
  },
  {
   "cell_type": "markdown",
   "id": "5ad21c4a-2b1b-4bfe-9b3c-bea43a416ae3",
   "metadata": {},
   "source": [
    "- In Heart_Disease_Project Notebook we will only have the SVC model trained with the best parameters as derived above "
   ]
  },
  {
   "cell_type": "code",
   "execution_count": null,
   "id": "ad4f53d1-7507-4ee0-9fed-92240ad9ea9b",
   "metadata": {},
   "outputs": [],
   "source": []
  }
 ],
 "metadata": {
  "kernelspec": {
   "display_name": "Python 3 (ipykernel)",
   "language": "python",
   "name": "python3"
  },
  "language_info": {
   "codemirror_mode": {
    "name": "ipython",
    "version": 3
   },
   "file_extension": ".py",
   "mimetype": "text/x-python",
   "name": "python",
   "nbconvert_exporter": "python",
   "pygments_lexer": "ipython3",
   "version": "3.11.9"
  }
 },
 "nbformat": 4,
 "nbformat_minor": 5
}
