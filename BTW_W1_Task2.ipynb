{
 "cells": [
  {
   "cell_type": "markdown",
   "id": "3229e24b-0c1b-40ff-bfd6-a79b1cd7d8f2",
   "metadata": {},
   "source": [
    "### Task 2 :\n",
    "This is the task 2 of week 1 , ByteWise Fellowship 2024"
   ]
  },
  {
   "cell_type": "markdown",
   "id": "934f6939-9313-41fd-9dbf-fa395c54f711",
   "metadata": {},
   "source": [
    "Task # 01: Write a program to check if a given word is a palindrome (reads the same forwards and\r\n",
    "backwards).\r\n",
    "• Expected output: If the input is \"racecar\", the output should be \"racecar is a palindrome.\" If\r\n",
    "the input is \"Python\", the output should be \"Python is not a palindrome"
   ]
  },
  {
   "cell_type": "code",
   "execution_count": null,
   "id": "dff50ab5-55ee-433e-9847-43a385016ac2",
   "metadata": {},
   "outputs": [],
   "source": [
    "string_to_be_reversed = input(\"enter the string = \")\n",
    "reverse = string_to_be_reversed[::-1]\n",
    "if(reverse == string_to_be_reversed):\n",
    "    print(f\"{string_to_be_reversed} is palindrome\")\n",
    "else:\n",
    "    print(f\"{string_to_be_reversed} is not palindrome\")"
   ]
  },
  {
   "cell_type": "markdown",
   "id": "617f7f98-a4d5-4ece-a007-ee61f72eef58",
   "metadata": {},
   "source": [
    "Task # 02: Write a program that prints the numbers from 1 to 100. For multiples of 3, print \"Fizz\"\r\n",
    "instead of the number, and for multiples of 5, print \"Buzz\". For numbers that are multiples of\r\n",
    "both 3 and 5, print \"FizzBuzz\""
   ]
  },
  {
   "cell_type": "code",
   "execution_count": 15,
   "id": "4ef0f811-788f-4b98-88d9-575f0113b2c6",
   "metadata": {
    "scrolled": true
   },
   "outputs": [
    {
     "name": "stdout",
     "output_type": "stream",
     "text": [
      "Fizz\n",
      "Buzz\n",
      "Fizz\n",
      "Fizz\n",
      "Buzz\n",
      "Fizz\n",
      "FizzBizz\n",
      "Fizz\n",
      "Buzz\n",
      "Fizz\n",
      "Fizz\n",
      "Buzz\n",
      "Fizz\n",
      "FizzBizz\n",
      "Fizz\n",
      "Buzz\n",
      "Fizz\n",
      "Fizz\n",
      "Buzz\n",
      "Fizz\n",
      "FizzBizz\n",
      "Fizz\n",
      "Buzz\n",
      "Fizz\n",
      "Fizz\n",
      "Buzz\n",
      "Fizz\n",
      "FizzBizz\n",
      "Fizz\n",
      "Buzz\n",
      "Fizz\n",
      "Fizz\n",
      "Buzz\n",
      "Fizz\n",
      "FizzBizz\n",
      "Fizz\n",
      "Buzz\n",
      "Fizz\n",
      "Fizz\n",
      "Buzz\n",
      "Fizz\n",
      "FizzBizz\n",
      "Fizz\n",
      "Buzz\n",
      "Fizz\n",
      "Fizz\n",
      "Buzz\n"
     ]
    }
   ],
   "source": [
    "for i in range(1,101):\n",
    "    if i%5 == 0 and i%3 == 0:\n",
    "        print(\"FizzBizz\")\n",
    "    elif i%3 == 0:\n",
    "        print(\"Fizz\")\n",
    "    elif i%5 == 0:\n",
    "        print(\"Buzz\")\n",
    "\n",
    "        "
   ]
  },
  {
   "cell_type": "markdown",
   "id": "70bc3e66-8ddf-4c90-8218-e5bfee43f758",
   "metadata": {},
   "source": [
    "Task # 03: Nth Fibonacci Number\n",
    "\r",
    "-  Write a program to find the nth Fibonacci numbe.- • Expected output: If the input is 10, the output should be \"The 10th Fibonacci number is 5.”\r"
   ]
  },
  {
   "cell_type": "code",
   "execution_count": 16,
   "id": "383100d9-cc88-4d09-b05e-d59d3c116b63",
   "metadata": {},
   "outputs": [
    {
     "name": "stdin",
     "output_type": "stream",
     "text": [
      "enter number of elements required =  10\n"
     ]
    },
    {
     "data": {
      "text/plain": [
       "[0, 1, 1, 2, 3, 5, 8, 13, 21, 34]"
      ]
     },
     "execution_count": 16,
     "metadata": {},
     "output_type": "execute_result"
    }
   ],
   "source": [
    "n = int(input(\"enter number of elements required = \"))\n",
    "sequence = []\n",
    "for i in range(0,n):\n",
    "    if(i == 0 or i == 1):\n",
    "        number = i\n",
    "    else:\n",
    "        number = (sequence[i-1])+(sequence[i-2])\n",
    "    sequence.append(number)\n",
    "\n",
    "sequence"
   ]
  },
  {
   "cell_type": "markdown",
   "id": "db4a1abc-132f-4b01-9ac3-b588d73a4609",
   "metadata": {},
   "source": [
    "Task # 04: Prime Number Checker\r\n",
    "- Write a program to check if a given number is prime.\r\n",
    "- Expected output: If the input is 7, the output should be \"7 is a prime number.\" If the input\r\n",
    "is 10, the output should be \"10 is not a prime number.\"\r\n"
   ]
  },
  {
   "cell_type": "code",
   "execution_count": 27,
   "id": "f5f1c30e-7ef1-43ab-a2ca-34c5cf3f3237",
   "metadata": {},
   "outputs": [
    {
     "name": "stdin",
     "output_type": "stream",
     "text": [
      "enter a number to be checked =  2\n"
     ]
    },
    {
     "name": "stdout",
     "output_type": "stream",
     "text": [
      "1\n",
      "0\n",
      "2 is prime\n"
     ]
    }
   ],
   "source": [
    "number = int(input(\"enter a number to be checked = \"))\n",
    "count = 0\n",
    "for i in range(1,number+1):\n",
    "    if(number%i == 0):\n",
    "        count += 1\n",
    "        if(count > 2):\n",
    "            break\n",
    "if(count == 2):\n",
    "    print(f\"{number} is prime\")\n",
    "else:\n",
    "    print(f\"{number} is not prime\")"
   ]
  },
  {
   "cell_type": "markdown",
   "id": "eac66782-e7c7-46f2-8110-9aa880d9f30a",
   "metadata": {},
   "source": [
    "Task # 05: Guess the Number Game\r\n",
    "- Write a program where the computer generates a random number, and the user has to\r\n",
    "guess it.\r\n",
    "- Expected output: The program should prompt the user to enter a guess and provide\r\n",
    "feedback on whether the guess is too high, too low, or correct.\r"
   ]
  },
  {
   "cell_type": "code",
   "execution_count": 28,
   "id": "14df08a0-b20c-401b-a9dd-af8ce37ba29c",
   "metadata": {},
   "outputs": [
    {
     "name": "stdin",
     "output_type": "stream",
     "text": [
      "enter user value =  3\n"
     ]
    },
    {
     "name": "stdout",
     "output_type": "stream",
     "text": [
      "you guessed it lower\n"
     ]
    },
    {
     "name": "stdin",
     "output_type": "stream",
     "text": [
      "enter user value =  8\n"
     ]
    },
    {
     "name": "stdout",
     "output_type": "stream",
     "text": [
      "you guessed it right\n"
     ]
    }
   ],
   "source": [
    "import random as rd\n",
    "computer_value = rd.randint(0,10)\n",
    "while(1):\n",
    "    user_value = int(input(\"enter user value = \"))\n",
    "    if(user_value == computer_value):\n",
    "        print(\"you guessed it right\")\n",
    "        break\n",
    "    elif(user_value > computer_value):\n",
    "        print(\"you guessed it higher\")\n",
    "    else:\n",
    "        print(\"you guessed it lower\")"
   ]
  },
  {
   "cell_type": "markdown",
   "id": "08080a7b-1f87-4e9f-a8bf-65f49cbb6a78",
   "metadata": {},
   "source": [
    "Task # 06: List Comprehension\n",
    "Write a program that uses list comprehension to create a list of squares of the first 10 integers.\n",
    "Expected output: `[1, 4, 9, 16, 25, 36, 49, 64, 81, 100]`\n",
    "\n",
    "List comprehension is an easy to read, compact, and elegant way of creating a list from any existing iterable object. A simple formula to remember the syntax would be:\n",
    "- required_list = `[expression for item in iterable]`"
   ]
  },
  {
   "cell_type": "code",
   "execution_count": 31,
   "id": "a3b866f4-2675-4b22-bf8e-487c632cf639",
   "metadata": {},
   "outputs": [
    {
     "data": {
      "text/plain": [
       "[1, 4, 9, 16, 25, 36, 49, 64, 81, 100]"
      ]
     },
     "execution_count": 31,
     "metadata": {},
     "output_type": "execute_result"
    }
   ],
   "source": [
    "required_list = [i * i for i in range(1,11)]\n",
    "required_list"
   ]
  },
  {
   "cell_type": "markdown",
   "id": "5c327355-0532-4e2a-acae-b6e96f9d2112",
   "metadata": {},
   "source": [
    "Task # 07: Palindrome Sentences\r\n",
    "- Write a program to check if a given sentence is a palindrome (reads the same forwards\r\n",
    "and backwards, ignoring spaces and punctuation).\r"
   ]
  },
  {
   "cell_type": "code",
   "execution_count": 35,
   "id": "d907bcfb-0b16-4139-898e-c007576a98e7",
   "metadata": {},
   "outputs": [
    {
     "name": "stdin",
     "output_type": "stream",
     "text": [
      "enter the sentece =  A man, a plan, a canal Panama\n"
     ]
    },
    {
     "name": "stdout",
     "output_type": "stream",
     "text": [
      "A man, a plan, a canal Panama is palindrome\n"
     ]
    }
   ],
   "source": [
    "string_to_be_reversed = input(\"enter the sentece = \")\n",
    "reverse = string_to_be_reversed[::-1]\n",
    "reverse = reverse.lower().replace(' ','').replace(',','')\n",
    "if(reverse == string_to_be_reversed.lower().replace(' ','').replace(',','')):\n",
    "    print(f\"{string_to_be_reversed} is palindrome\")\n",
    "else:\n",
    "    print(f\"{string_to_be_reversed} is not palindrome\")"
   ]
  },
  {
   "cell_type": "markdown",
   "id": "801cca06-37d5-4c8a-aee0-a8dd0d712312",
   "metadata": {},
   "source": [
    "Task # 08: Anagram Checker\r\n",
    "- Write a program to check if two strings are anagrams (contain the same characters in a\r\n",
    "different order).\r"
   ]
  },
  {
   "cell_type": "code",
   "execution_count": 56,
   "id": "dc53a30a-2e6a-4486-90ec-a61e32b70236",
   "metadata": {},
   "outputs": [
    {
     "name": "stdin",
     "output_type": "stream",
     "text": [
      "enter word 1 :  Hello world\n",
      "enter word 2 :  python\n"
     ]
    },
    {
     "name": "stdout",
     "output_type": "stream",
     "text": [
      "the words are not Anagram\n"
     ]
    }
   ],
   "source": [
    "from collections import Counter\n",
    "\n",
    "word1 = input(\"enter word 1 : \")\n",
    "word2 = input(\"enter word 2 : \")\n",
    "\n",
    "if(len(word1) == len(word2)):\n",
    "    res = Counter(word1) #Counter returns the dictionary\n",
    "    res2 = Counter(word2) #the returned dictionary will have alphabet as key and its frequency as value\n",
    "    if(res == res2):\n",
    "        print(\"the words are Anagram\")\n",
    "    else:\n",
    "        print(\"the words are not Anagram\")\n",
    "else:\n",
    "    print(\"the words are not Anagram\")\n"
   ]
  },
  {
   "cell_type": "markdown",
   "id": "7fae8499-1793-4b2e-ad85-5dd0fb54bd35",
   "metadata": {},
   "source": [
    "Task # 09: Reverse Words in a Sentence\r\n",
    "- Write a program to reverse the order of words in a given sentence.\r\n",
    "- Expected output: If the input sentence is \"The quick brown fox jumps over the lazy dog.\",\r\n",
    "the output should be \"dog. lazy the over jumps fox brown quick The\""
   ]
  },
  {
   "cell_type": "code",
   "execution_count": 20,
   "id": "42e4b471-d849-471f-801e-c9f5b3a32b3f",
   "metadata": {},
   "outputs": [
    {
     "name": "stdin",
     "output_type": "stream",
     "text": [
      "enter your sentence :  The quick brown fox jumps over the lazy dog\n"
     ]
    },
    {
     "name": "stdout",
     "output_type": "stream",
     "text": [
      "The original sentence is the following : The quick brown fox jumps over the lazy dog\n",
      "The altered sentence is the following : dog lazy the over jumps fox brown quick The\n"
     ]
    }
   ],
   "source": [
    "original_sentence = input(\"enter your sentence : \")\n",
    "altered_sentence = original_sentence.split()\n",
    "\n",
    "#the following code is to reverse the words in a sentence\n",
    "# for i in range(0,len(altered_sentence)):\n",
    "#     altered_sentence[i] = altered_sentence[i][::-1]\n",
    "\n",
    "string_altered_sentence = \"\"\n",
    "#the list are pass by reference so no need to assign it back\n",
    "altered_sentence.reverse()\n",
    "for i in range(0,len(altered_sentence)):\n",
    "    string_altered_sentence += altered_sentence[i]\n",
    "    #this condition is used to avoid having an extra space at the end of sentence after conversion\n",
    "    if(i < len(altered_sentence)-1):\n",
    "        string_altered_sentence += ' '\n",
    "\n",
    "\n",
    "\n",
    "print(f\"The original sentence is the following : {original_sentence}\")\n",
    "print(f\"The altered sentence is the following : {string_altered_sentence}\")\n",
    "\n"
   ]
  },
  {
   "cell_type": "markdown",
   "id": "ed905249-df14-4796-bbc3-2acb39a3c28d",
   "metadata": {},
   "source": [
    "Task # 10: Temperature Converter\r\n",
    "- Write a program that can convert temperatures between Celsius, Fahrenheit, and Kelvin"
   ]
  },
  {
   "cell_type": "code",
   "execution_count": 28,
   "id": "deda4fe7-65bf-4908-ad8d-8703fbf94b5d",
   "metadata": {},
   "outputs": [
    {
     "name": "stdout",
     "output_type": "stream",
     "text": [
      "*******Temperature Convertor*******\n",
      "select your input type\n",
      "Press 1 for Celsius \n",
      "Press 2 for Fahrenheit \n",
      "Press 3 for Kelvin\n"
     ]
    },
    {
     "name": "stdin",
     "output_type": "stream",
     "text": [
      "Your choice =  3\n",
      "enter the temperature value here =  293.15\n"
     ]
    },
    {
     "name": "stdout",
     "output_type": "stream",
     "text": [
      "Temp in Celsius is = 20.0\n",
      "Temp in Fahrenheit is = 68.0\n"
     ]
    }
   ],
   "source": [
    "print(\"*******Temperature Convertor*******\")\n",
    "print(\"select your input type\")\n",
    "print(\"Press 1 for Celsius \\nPress 2 for Fahrenheit \\nPress 3 for Kelvin\")\n",
    "choice = int(input(\"Your choice = \"))\n",
    "value = float(input(\"enter the temperature value here = \"))\n",
    "match choice:\n",
    "    case 1:\n",
    "        #the conversion is based on mathematically derived formulas\n",
    "        print(f\"Temp in Fahrenheit is = {(9/5*value)+32}\")\n",
    "        print(f\"Temp in Kelvin is = {value+273.15}\")\n",
    "    case 2:\n",
    "        print(f\"Temp in Celsius is = {(value-32)*(5/9)}\")\n",
    "        print(f\"Temp in Kelvin is = {(value-32)*(5/9)+273.15}\")\n",
    "    case 3:\n",
    "        print(f\"Temp in Celsius is = {value-273.15}\")\n",
    "        print(f\"Temp in Fahrenheit is = {(value-273.15)*(9/5)+32}\")\n",
    "    case _:\n",
    "        print(\"Invalid Choice!!!!\")"
   ]
  },
  {
   "cell_type": "code",
   "execution_count": null,
   "id": "16e614d4-b78d-4601-9158-de8d9f8186fa",
   "metadata": {},
   "outputs": [],
   "source": []
  }
 ],
 "metadata": {
  "kernelspec": {
   "display_name": "Python 3 (ipykernel)",
   "language": "python",
   "name": "python3"
  },
  "language_info": {
   "codemirror_mode": {
    "name": "ipython",
    "version": 3
   },
   "file_extension": ".py",
   "mimetype": "text/x-python",
   "name": "python",
   "nbconvert_exporter": "python",
   "pygments_lexer": "ipython3",
   "version": "3.11.9"
  }
 },
 "nbformat": 4,
 "nbformat_minor": 5
}
